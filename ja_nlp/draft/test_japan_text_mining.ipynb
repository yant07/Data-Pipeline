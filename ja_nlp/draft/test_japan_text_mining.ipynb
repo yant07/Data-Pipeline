{
 "metadata": {
  "language_info": {
   "codemirror_mode": {
    "name": "ipython",
    "version": 3
   },
   "file_extension": ".py",
   "mimetype": "text/x-python",
   "name": "python",
   "nbconvert_exporter": "python",
   "pygments_lexer": "ipython3",
   "version": "3.7.13-final"
  },
  "orig_nbformat": 2,
  "kernelspec": {
   "name": "python3",
   "display_name": "Python 3.7.13 64-bit ('ja_nlp_python37': conda)",
   "metadata": {
    "interpreter": {
     "hash": "69b51278c896c302cd20549358ba584416498d33e69d1966a44dcb7763188691"
    }
   }
  }
 },
 "nbformat": 4,
 "nbformat_minor": 2,
 "cells": [
  {
   "cell_type": "code",
   "execution_count": 7,
   "metadata": {},
   "outputs": [
    {
     "output_type": "execute_result",
     "data": {
      "text/plain": [
       "         sentence\n",
       "0  もっとベタニスベオーバを学ぶ\n",
       "1            特になし\n",
       "2    他剤理解しTOV継続訴求"
      ],
      "text/html": "<div>\n<style scoped>\n    .dataframe tbody tr th:only-of-type {\n        vertical-align: middle;\n    }\n\n    .dataframe tbody tr th {\n        vertical-align: top;\n    }\n\n    .dataframe thead th {\n        text-align: right;\n    }\n</style>\n<table border=\"1\" class=\"dataframe\">\n  <thead>\n    <tr style=\"text-align: right;\">\n      <th></th>\n      <th>sentence</th>\n    </tr>\n  </thead>\n  <tbody>\n    <tr>\n      <th>0</th>\n      <td>もっとベタニスベオーバを学ぶ</td>\n    </tr>\n    <tr>\n      <th>1</th>\n      <td>特になし</td>\n    </tr>\n    <tr>\n      <th>2</th>\n      <td>他剤理解しTOV継続訴求</td>\n    </tr>\n  </tbody>\n</table>\n</div>"
     },
     "metadata": {},
     "execution_count": 7
    }
   ],
   "source": [
    "from text_mining import read_file\n",
    "df=read_file(\"c:\\\\Users\\\\zhouy217\\\\OneDrive - Pfizer\\\\Documents\\\\easynlp\\\\ja_slide9_data.xlsx\",col_list=[15],name_list=['sentence'])\n",
    "\n",
    "df.head(3)"
   ]
  },
  {
   "cell_type": "code",
   "execution_count": 16,
   "metadata": {},
   "outputs": [
    {
     "output_type": "stream",
     "name": "stdout",
     "text": [
      "                                            sentence\n0                                     もっとベタニスベオーバを学ぶ\n1                                               特になし\n2                                       他剤理解しTOV継続訴求\n3                                            不安は無いです\n4  インサイトの深堀が重要であることは着任時から重要と思い指導している。しかし、現場で出来ている...\n"
     ]
    }
   ],
   "source": [
    "from text_mining import TextMining\n",
    "japan_text_mining=TextMining(df)\n",
    "word_list_by_sentence=japan_text_mining.token_japanese_sentence()"
   ]
  },
  {
   "cell_type": "code",
   "execution_count": null,
   "metadata": {},
   "outputs": [],
   "source": []
  },
  {
   "cell_type": "code",
   "execution_count": null,
   "metadata": {},
   "outputs": [],
   "source": []
  },
  {
   "cell_type": "code",
   "execution_count": null,
   "metadata": {},
   "outputs": [],
   "source": []
  }
 ]
}