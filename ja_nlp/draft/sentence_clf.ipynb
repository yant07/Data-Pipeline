{
 "metadata": {
  "language_info": {
   "codemirror_mode": {
    "name": "ipython",
    "version": 3
   },
   "file_extension": ".py",
   "mimetype": "text/x-python",
   "name": "python",
   "nbconvert_exporter": "python",
   "pygments_lexer": "ipython3",
   "version": "3.7.3-final"
  },
  "orig_nbformat": 2,
  "kernelspec": {
   "name": "python3",
   "display_name": "Python 3.7.3 64-bit (conda)",
   "metadata": {
    "interpreter": {
     "hash": "fb93a25eb212b82049d3885691f889f82c55b8a5ccdc2c2f1bb0cb0a005bdecb"
    }
   }
  }
 },
 "nbformat": 4,
 "nbformat_minor": 2,
 "cells": [
  {
   "cell_type": "code",
   "execution_count": 8,
   "metadata": {},
   "outputs": [
    {
     "output_type": "stream",
     "name": "stdout",
     "text": [
      "Number of training sentences: 15,938\n\n"
     ]
    },
    {
     "output_type": "execute_result",
     "data": {
      "text/plain": [
       "          label        PC Customer Type        Question Category  \\\n",
       "8949    AE - No   PC - No      Consumer    Availability & Status   \n",
       "14088   AE - No   PC - No      Consumer    Availability & Status   \n",
       "13854   AE - No   PC - No      Consumer      Special Populations   \n",
       "9740    AE - No  PC - Yes      Consumer                Complaint   \n",
       "12151  AE - Yes   PC - No      Consumer        Efficacy Approved   \n",
       "14180   AE - No   PC - No      Consumer             Pharmacology   \n",
       "14959   AE - No   PC - No      Consumer    Availability & Status   \n",
       "12726   AE - No   PC - No      Consumer             Pharmacology   \n",
       "4706    AE - No   PC - No      Consumer  Dosage & Administration   \n",
       "7861    AE - No  PC - Yes      Consumer                Complaint   \n",
       "\n",
       "                                                sentence  \n",
       "8949                                   为什么中国药品电子监管码扫不出来？  \n",
       "14088                                       如何查询药品的流向信息？  \n",
       "13854                                         最小接种年龄是多少？  \n",
       "9740   说明书中有建议100mg每日2次的服用方法，但是没有100mg的上市，这就是一个矛盾，对患者...  \n",
       "12151    孩子九岁，27.5kg，医生处方希舒美片剂，每次服用1片，女士咨询片剂和干混悬剂的效果一样吗？  \n",
       "14180                                        通过肝脏还是肾脏代谢？  \n",
       "14959                                           针剂价格是多少？  \n",
       "12726                                大便中有白色的药丸，属于正常的现象吗？  \n",
       "4706                                          络活喜能否掰片服用？  \n",
       "7861                                            抱怨说明书字太小  "
      ],
      "text/html": "<div>\n<style scoped>\n    .dataframe tbody tr th:only-of-type {\n        vertical-align: middle;\n    }\n\n    .dataframe tbody tr th {\n        vertical-align: top;\n    }\n\n    .dataframe thead th {\n        text-align: right;\n    }\n</style>\n<table border=\"1\" class=\"dataframe\">\n  <thead>\n    <tr style=\"text-align: right;\">\n      <th></th>\n      <th>label</th>\n      <th>PC</th>\n      <th>Customer Type</th>\n      <th>Question Category</th>\n      <th>sentence</th>\n    </tr>\n  </thead>\n  <tbody>\n    <tr>\n      <th>8949</th>\n      <td>AE - No</td>\n      <td>PC - No</td>\n      <td>Consumer</td>\n      <td>Availability &amp; Status</td>\n      <td>为什么中国药品电子监管码扫不出来？</td>\n    </tr>\n    <tr>\n      <th>14088</th>\n      <td>AE - No</td>\n      <td>PC - No</td>\n      <td>Consumer</td>\n      <td>Availability &amp; Status</td>\n      <td>如何查询药品的流向信息？</td>\n    </tr>\n    <tr>\n      <th>13854</th>\n      <td>AE - No</td>\n      <td>PC - No</td>\n      <td>Consumer</td>\n      <td>Special Populations</td>\n      <td>最小接种年龄是多少？</td>\n    </tr>\n    <tr>\n      <th>9740</th>\n      <td>AE - No</td>\n      <td>PC - Yes</td>\n      <td>Consumer</td>\n      <td>Complaint</td>\n      <td>说明书中有建议100mg每日2次的服用方法，但是没有100mg的上市，这就是一个矛盾，对患者...</td>\n    </tr>\n    <tr>\n      <th>12151</th>\n      <td>AE - Yes</td>\n      <td>PC - No</td>\n      <td>Consumer</td>\n      <td>Efficacy Approved</td>\n      <td>孩子九岁，27.5kg，医生处方希舒美片剂，每次服用1片，女士咨询片剂和干混悬剂的效果一样吗？</td>\n    </tr>\n    <tr>\n      <th>14180</th>\n      <td>AE - No</td>\n      <td>PC - No</td>\n      <td>Consumer</td>\n      <td>Pharmacology</td>\n      <td>通过肝脏还是肾脏代谢？</td>\n    </tr>\n    <tr>\n      <th>14959</th>\n      <td>AE - No</td>\n      <td>PC - No</td>\n      <td>Consumer</td>\n      <td>Availability &amp; Status</td>\n      <td>针剂价格是多少？</td>\n    </tr>\n    <tr>\n      <th>12726</th>\n      <td>AE - No</td>\n      <td>PC - No</td>\n      <td>Consumer</td>\n      <td>Pharmacology</td>\n      <td>大便中有白色的药丸，属于正常的现象吗？</td>\n    </tr>\n    <tr>\n      <th>4706</th>\n      <td>AE - No</td>\n      <td>PC - No</td>\n      <td>Consumer</td>\n      <td>Dosage &amp; Administration</td>\n      <td>络活喜能否掰片服用？</td>\n    </tr>\n    <tr>\n      <th>7861</th>\n      <td>AE - No</td>\n      <td>PC - Yes</td>\n      <td>Consumer</td>\n      <td>Complaint</td>\n      <td>抱怨说明书字太小</td>\n    </tr>\n  </tbody>\n</table>\n</div>"
     },
     "metadata": {},
     "execution_count": 8
    }
   ],
   "source": [
    "import pandas as pd\n",
    "\n",
    "# Load the dataset into a pandas dataframe.\n",
    "# df = pd.read_csv(\"./cola_public/raw/in_domain_train.tsv\", delimiter='\\t', header=None, names=['sentence_source', 'label', 'label_notes', 'sentence'])\n",
    "df = pd.read_excel(\"./test_nlp.xlsx\", delimiter='\\t', names=['label', 'PC', 'Customer Type', 'Question Category','sentence'])\n",
    "# Report the number of sentences.\n",
    "print('Number of training sentences: {:,}\\n'.format(df.shape[0]))\n",
    "\n",
    "# Display 10 random rows from the data.\n",
    "df.sample(10)"
   ]
  },
  {
   "cell_type": "code",
   "execution_count": 9,
   "metadata": {},
   "outputs": [],
   "source": [
    "# Get the lists of sentences and their labels.\n",
    "sentences = df.sentence.values\n",
    "labels = df.label.values"
   ]
  },
  {
   "cell_type": "code",
   "execution_count": 16,
   "metadata": {},
   "outputs": [
    {
     "output_type": "error",
     "ename": "ModuleNotFoundError",
     "evalue": "No module named 'transformers'",
     "traceback": [
      "\u001b[1;31m---------------------------------------------------------------------------\u001b[0m",
      "\u001b[1;31mModuleNotFoundError\u001b[0m                       Traceback (most recent call last)",
      "\u001b[1;32m<ipython-input-16-e5ed35730669>\u001b[0m in \u001b[0;36m<module>\u001b[1;34m\u001b[0m\n\u001b[1;32m----> 1\u001b[1;33m \u001b[1;32mfrom\u001b[0m \u001b[0mtransformers\u001b[0m \u001b[1;32mimport\u001b[0m \u001b[0mBertTokenizer\u001b[0m\u001b[1;33m\u001b[0m\u001b[1;33m\u001b[0m\u001b[0m\n\u001b[0m\u001b[0;32m      2\u001b[0m \u001b[1;33m\u001b[0m\u001b[0m\n\u001b[0;32m      3\u001b[0m \u001b[1;31m# Load the BERT tokenizer.\u001b[0m\u001b[1;33m\u001b[0m\u001b[1;33m\u001b[0m\u001b[1;33m\u001b[0m\u001b[0m\n\u001b[0;32m      4\u001b[0m \u001b[0mprint\u001b[0m\u001b[1;33m(\u001b[0m\u001b[1;34m'Loading BERT tokenizer...'\u001b[0m\u001b[1;33m)\u001b[0m\u001b[1;33m\u001b[0m\u001b[1;33m\u001b[0m\u001b[0m\n\u001b[0;32m      5\u001b[0m \u001b[1;31m# tokenizer = BertTokenizer.from_pretrained('bert-base-uncased', do_lower_case=True)\u001b[0m\u001b[1;33m\u001b[0m\u001b[1;33m\u001b[0m\u001b[1;33m\u001b[0m\u001b[0m\n",
      "\u001b[1;31mModuleNotFoundError\u001b[0m: No module named 'transformers'"
     ]
    }
   ],
   "source": [
    "from transformers import BertTokenizer\n",
    "\n",
    "# Load the BERT tokenizer.\n",
    "print('Loading BERT tokenizer...')\n",
    "# tokenizer = BertTokenizer.from_pretrained('bert-base-uncased', do_lower_case=True)\n",
    "tokenizer = BertTokenizer.from_pretrained('pai-dkplm-medical-base-zh', do_lower_case=True)"
   ]
  },
  {
   "cell_type": "code",
   "execution_count": 13,
   "metadata": {},
   "outputs": [
    {
     "output_type": "error",
     "ename": "ModuleNotFoundError",
     "evalue": "No module named 'easynlp'",
     "traceback": [
      "\u001b[1;31m---------------------------------------------------------------------------\u001b[0m",
      "\u001b[1;31mModuleNotFoundError\u001b[0m                       Traceback (most recent call last)",
      "\u001b[1;32m<ipython-input-13-c3c18b465e25>\u001b[0m in \u001b[0;36m<module>\u001b[1;34m\u001b[0m\n\u001b[1;32m----> 1\u001b[1;33m \u001b[1;32mfrom\u001b[0m \u001b[0measynlp\u001b[0m\u001b[1;33m.\u001b[0m\u001b[0mcore\u001b[0m \u001b[1;32mimport\u001b[0m \u001b[0mTrainer\u001b[0m\u001b[1;33m\u001b[0m\u001b[1;33m\u001b[0m\u001b[0m\n\u001b[0m\u001b[0;32m      2\u001b[0m \u001b[1;32mfrom\u001b[0m \u001b[0measynlp\u001b[0m\u001b[1;33m.\u001b[0m\u001b[0mappzoo\u001b[0m \u001b[1;32mimport\u001b[0m \u001b[0mGeneralDataset\u001b[0m\u001b[1;33m,\u001b[0m \u001b[0mSequenceClassification\u001b[0m\u001b[1;33m,\u001b[0m \u001b[0mload_dataset\u001b[0m\u001b[1;33m\u001b[0m\u001b[1;33m\u001b[0m\u001b[0m\n\u001b[0;32m      3\u001b[0m \u001b[1;32mfrom\u001b[0m \u001b[0measynlp\u001b[0m\u001b[1;33m.\u001b[0m\u001b[0mutils\u001b[0m \u001b[1;32mimport\u001b[0m \u001b[0minitialize_easynlp\u001b[0m\u001b[1;33m\u001b[0m\u001b[1;33m\u001b[0m\u001b[0m\n",
      "\u001b[1;31mModuleNotFoundError\u001b[0m: No module named 'easynlp'"
     ]
    }
   ],
   "source": [
    "from easynlp.core import Trainer\n",
    "from easynlp.appzoo import GeneralDataset, SequenceClassification, load_dataset\n",
    "from easynlp.utils import initialize_easynlp"
   ]
  },
  {
   "cell_type": "code",
   "execution_count": null,
   "metadata": {},
   "outputs": [],
   "source": []
  }
 ]
}