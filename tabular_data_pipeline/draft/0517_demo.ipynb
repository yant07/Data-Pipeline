{
 "metadata": {
  "language_info": {
   "codemirror_mode": {
    "name": "ipython",
    "version": 3
   },
   "file_extension": ".py",
   "mimetype": "text/x-python",
   "name": "python",
   "nbconvert_exporter": "python",
   "pygments_lexer": "ipython3",
   "version": "3.7.13-final"
  },
  "orig_nbformat": 2,
  "kernelspec": {
   "name": "python3",
   "display_name": "Python 3.7.13 64-bit",
   "metadata": {
    "interpreter": {
     "hash": "ca1a6c70ba0ef033524d16c288d1083a318dfe37e6b1f3c85cb25e894a9c8d20"
    }
   }
  }
 },
 "nbformat": 4,
 "nbformat_minor": 2,
 "cells": [
  {
   "source": [
    "# 0517 DataNormalization\n",
    "\n",
    "规范化分类的三种方法参考\n",
    "https://www.geeksforgeeks.org/data-normalization-in-data-mining/?ref=lbp"
   ],
   "cell_type": "markdown",
   "metadata": {}
  },
  {
   "source": [
    "## 数据转换 transformation"
   ],
   "cell_type": "markdown",
   "metadata": {}
  },
  {
   "source": [
    "### 数据集"
   ],
   "cell_type": "markdown",
   "metadata": {}
  },
  {
   "cell_type": "code",
   "execution_count": 1,
   "metadata": {},
   "outputs": [],
   "source": [
    "import pandas as pd\n",
    "import seaborn as sns\n",
    "import numpy as np\n",
    "import matplotlib.pyplot as plt\n",
    "from scipy import stats\n",
    "from sklearn import datasets\n",
    "from sklearn import preprocessing\n",
    "from sklearn.preprocessing import Binarizer\n",
    "from sklearn.decomposition import PCA"
   ]
  },
  {
   "cell_type": "code",
   "execution_count": 2,
   "metadata": {},
   "outputs": [
    {
     "output_type": "execute_result",
     "data": {
      "text/plain": [
       "sklearn.utils.Bunch"
      ]
     },
     "metadata": {},
     "execution_count": 2
    }
   ],
   "source": [
    "#california housing dataset\n",
    "from sklearn.datasets import fetch_california_housing\n",
    "housing = fetch_california_housing()\n",
    "type(housing)"
   ]
  },
  {
   "cell_type": "code",
   "execution_count": 3,
   "metadata": {},
   "outputs": [
    {
     "output_type": "execute_result",
     "data": {
      "text/plain": [
       "(20640, 8)"
      ]
     },
     "metadata": {},
     "execution_count": 3
    }
   ],
   "source": [
    "housing.data.shape"
   ]
  },
  {
   "cell_type": "code",
   "execution_count": 4,
   "metadata": {},
   "outputs": [
    {
     "output_type": "execute_result",
     "data": {
      "text/plain": [
       "['MedInc',\n",
       " 'HouseAge',\n",
       " 'AveRooms',\n",
       " 'AveBedrms',\n",
       " 'Population',\n",
       " 'AveOccup',\n",
       " 'Latitude',\n",
       " 'Longitude']"
      ]
     },
     "metadata": {},
     "execution_count": 4
    }
   ],
   "source": [
    "#哪几个属性\n",
    "housing.feature_names"
   ]
  },
  {
   "cell_type": "code",
   "execution_count": 5,
   "metadata": {},
   "outputs": [
    {
     "output_type": "execute_result",
     "data": {
      "text/plain": [
       "array([4.526, 3.585, 3.521, ..., 0.923, 0.847, 0.894])"
      ]
     },
     "metadata": {},
     "execution_count": 5
    }
   ],
   "source": [
    "#目标属性：房价中位数\n",
    "housing.target"
   ]
  },
  {
   "cell_type": "code",
   "execution_count": 6,
   "metadata": {},
   "outputs": [
    {
     "output_type": "execute_result",
     "data": {
      "text/plain": [
       "       AveRooms  AveBedrms  Population\n",
       "0      6.984127   1.023810       322.0\n",
       "1      6.238137   0.971880      2401.0\n",
       "2      8.288136   1.073446       496.0\n",
       "3      5.817352   1.073059       558.0\n",
       "4      6.281853   1.081081       565.0\n",
       "...         ...        ...         ...\n",
       "20635  5.045455   1.133333       845.0\n",
       "20636  6.114035   1.315789       356.0\n",
       "20637  5.205543   1.120092      1007.0\n",
       "20638  5.329513   1.171920       741.0\n",
       "20639  5.254717   1.162264      1387.0\n",
       "\n",
       "[20640 rows x 3 columns]"
      ],
      "text/html": "<div>\n<style scoped>\n    .dataframe tbody tr th:only-of-type {\n        vertical-align: middle;\n    }\n\n    .dataframe tbody tr th {\n        vertical-align: top;\n    }\n\n    .dataframe thead th {\n        text-align: right;\n    }\n</style>\n<table border=\"1\" class=\"dataframe\">\n  <thead>\n    <tr style=\"text-align: right;\">\n      <th></th>\n      <th>AveRooms</th>\n      <th>AveBedrms</th>\n      <th>Population</th>\n    </tr>\n  </thead>\n  <tbody>\n    <tr>\n      <th>0</th>\n      <td>6.984127</td>\n      <td>1.023810</td>\n      <td>322.0</td>\n    </tr>\n    <tr>\n      <th>1</th>\n      <td>6.238137</td>\n      <td>0.971880</td>\n      <td>2401.0</td>\n    </tr>\n    <tr>\n      <th>2</th>\n      <td>8.288136</td>\n      <td>1.073446</td>\n      <td>496.0</td>\n    </tr>\n    <tr>\n      <th>3</th>\n      <td>5.817352</td>\n      <td>1.073059</td>\n      <td>558.0</td>\n    </tr>\n    <tr>\n      <th>4</th>\n      <td>6.281853</td>\n      <td>1.081081</td>\n      <td>565.0</td>\n    </tr>\n    <tr>\n      <th>...</th>\n      <td>...</td>\n      <td>...</td>\n      <td>...</td>\n    </tr>\n    <tr>\n      <th>20635</th>\n      <td>5.045455</td>\n      <td>1.133333</td>\n      <td>845.0</td>\n    </tr>\n    <tr>\n      <th>20636</th>\n      <td>6.114035</td>\n      <td>1.315789</td>\n      <td>356.0</td>\n    </tr>\n    <tr>\n      <th>20637</th>\n      <td>5.205543</td>\n      <td>1.120092</td>\n      <td>1007.0</td>\n    </tr>\n    <tr>\n      <th>20638</th>\n      <td>5.329513</td>\n      <td>1.171920</td>\n      <td>741.0</td>\n    </tr>\n    <tr>\n      <th>20639</th>\n      <td>5.254717</td>\n      <td>1.162264</td>\n      <td>1387.0</td>\n    </tr>\n  </tbody>\n</table>\n<p>20640 rows × 3 columns</p>\n</div>"
     },
     "metadata": {},
     "execution_count": 6
    }
   ],
   "source": [
    "#切片\n",
    "df = pd.DataFrame(housing.data[:,2:5])\n",
    "df.columns = housing.feature_names[2:5]\n",
    "df"
   ]
  },
  {
   "source": [
    "### 规范化"
   ],
   "cell_type": "markdown",
   "metadata": {}
  },
  {
   "cell_type": "code",
   "execution_count": 8,
   "metadata": {},
   "outputs": [
    {
     "output_type": "execute_result",
     "data": {
      "text/plain": [
       "array([[0.0435123 , 0.02046866, 0.00894083],\n",
       "       [0.03822395, 0.01892926, 0.0672104 ],\n",
       "       [0.05275646, 0.02194011, 0.01381765],\n",
       "       ...,\n",
       "       [0.03090386, 0.0233229 , 0.0281398 ],\n",
       "       [0.03178269, 0.02485928, 0.02068444],\n",
       "       [0.03125246, 0.02457305, 0.03879032]])"
      ]
     },
     "metadata": {},
     "execution_count": 8
    }
   ],
   "source": [
    "# 最小-最大规范化\n",
    "## 用公式\n",
    "df1= (df-df.min())/(df.max()-df.min())\n",
    "# df1\n",
    "## 用preprocessing模块\n",
    "df2=preprocessing.minmax_scale(df)\n",
    "df2\n",
    "######################函数##########################################\n",
    "def MinMax_Norm(df):\n",
    "    df_normed = preprocessing.minmax_scale(df)\n",
    "    return df_normed\n",
    "df_norm_test = MinMax_Norm(df)\n",
    "df_norm_test\n"
   ]
  },
  {
   "cell_type": "code",
   "execution_count": 10,
   "metadata": {},
   "outputs": [
    {
     "output_type": "execute_result",
     "data": {
      "text/plain": [
       "array([[ 0.62855945, -0.15375759, -0.9744286 ],\n",
       "       [ 0.32704136, -0.26333577,  0.86143887],\n",
       "       [ 1.15562047, -0.04901636, -0.82077735],\n",
       "       ...,\n",
       "       [-0.09031802,  0.04941393, -0.3695372 ],\n",
       "       [-0.04021111,  0.15877763, -0.60442933],\n",
       "       [-0.07044252,  0.1384028 , -0.03397701]])"
      ]
     },
     "metadata": {},
     "execution_count": 10
    }
   ],
   "source": [
    "# zscore 规范化\n",
    "## 公式处理\n",
    "df3=(df-df.mean())/df.std()\n",
    "#df3\n",
    "## preprocessing模块处理\n",
    "df4=preprocessing.scale(df)\n",
    "df4\n",
    "######################函数##########################################\n",
    "def Zscore_Norm(df):\n",
    "    df_normed = preprocessing.scale(df)\n",
    "    return df_normed\n",
    "df_norm_test2 = Zscore_Norm(df)\n",
    "df_norm_test2"
   ]
  },
  {
   "cell_type": "code",
   "execution_count": 12,
   "metadata": {},
   "outputs": [
    {
     "output_type": "execute_result",
     "data": {
      "text/plain": [
       "       AveRooms  AveBedrms  Population\n",
       "0      0.006984   0.010238     0.00322\n",
       "1      0.006238   0.009719     0.02401\n",
       "2      0.008288   0.010734     0.00496\n",
       "3      0.005817   0.010731     0.00558\n",
       "4      0.006282   0.010811     0.00565\n",
       "...         ...        ...         ...\n",
       "20635  0.005045   0.011333     0.00845\n",
       "20636  0.006114   0.013158     0.00356\n",
       "20637  0.005206   0.011201     0.01007\n",
       "20638  0.005330   0.011719     0.00741\n",
       "20639  0.005255   0.011623     0.01387\n",
       "\n",
       "[20640 rows x 3 columns]"
      ],
      "text/html": "<div>\n<style scoped>\n    .dataframe tbody tr th:only-of-type {\n        vertical-align: middle;\n    }\n\n    .dataframe tbody tr th {\n        vertical-align: top;\n    }\n\n    .dataframe thead th {\n        text-align: right;\n    }\n</style>\n<table border=\"1\" class=\"dataframe\">\n  <thead>\n    <tr style=\"text-align: right;\">\n      <th></th>\n      <th>AveRooms</th>\n      <th>AveBedrms</th>\n      <th>Population</th>\n    </tr>\n  </thead>\n  <tbody>\n    <tr>\n      <th>0</th>\n      <td>0.006984</td>\n      <td>0.010238</td>\n      <td>0.00322</td>\n    </tr>\n    <tr>\n      <th>1</th>\n      <td>0.006238</td>\n      <td>0.009719</td>\n      <td>0.02401</td>\n    </tr>\n    <tr>\n      <th>2</th>\n      <td>0.008288</td>\n      <td>0.010734</td>\n      <td>0.00496</td>\n    </tr>\n    <tr>\n      <th>3</th>\n      <td>0.005817</td>\n      <td>0.010731</td>\n      <td>0.00558</td>\n    </tr>\n    <tr>\n      <th>4</th>\n      <td>0.006282</td>\n      <td>0.010811</td>\n      <td>0.00565</td>\n    </tr>\n    <tr>\n      <th>...</th>\n      <td>...</td>\n      <td>...</td>\n      <td>...</td>\n    </tr>\n    <tr>\n      <th>20635</th>\n      <td>0.005045</td>\n      <td>0.011333</td>\n      <td>0.00845</td>\n    </tr>\n    <tr>\n      <th>20636</th>\n      <td>0.006114</td>\n      <td>0.013158</td>\n      <td>0.00356</td>\n    </tr>\n    <tr>\n      <th>20637</th>\n      <td>0.005206</td>\n      <td>0.011201</td>\n      <td>0.01007</td>\n    </tr>\n    <tr>\n      <th>20638</th>\n      <td>0.005330</td>\n      <td>0.011719</td>\n      <td>0.00741</td>\n    </tr>\n    <tr>\n      <th>20639</th>\n      <td>0.005255</td>\n      <td>0.011623</td>\n      <td>0.01387</td>\n    </tr>\n  </tbody>\n</table>\n<p>20640 rows × 3 columns</p>\n</div>"
     },
     "metadata": {},
     "execution_count": 12
    }
   ],
   "source": [
    "# 小数定标规范化\n",
    "## 公式处理\n",
    "df5=df/10**np.ceil(np.log10(df.abs().max()))\n",
    "#df5\n",
    "######################函数##########################################\n",
    "def Decimal_Norm(df):\n",
    "    df_normed = df/10**np.ceil(np.log10(df.abs().max()))\n",
    "    return df_normed\n",
    "df_norm_test3 = Decimal_Norm(df)\n",
    "df_norm_test3"
   ]
  },
  {
   "source": [
    "### 连续属性离散化"
   ],
   "cell_type": "markdown",
   "metadata": {}
  },
  {
   "cell_type": "code",
   "execution_count": 15,
   "metadata": {},
   "outputs": [
    {
     "output_type": "execute_result",
     "data": {
      "text/plain": [
       "0         6\n",
       "1         2\n",
       "2        12\n",
       "3        12\n",
       "4        13\n",
       "         ..\n",
       "20635    16\n",
       "20636    19\n",
       "20637    16\n",
       "20638    17\n",
       "20639    17\n",
       "Name: AveBedrms, Length: 20640, dtype: category\n",
       "Categories (20, int64): [0 < 1 < 2 < 3 ... 16 < 17 < 18 < 19]"
      ]
     },
     "metadata": {},
     "execution_count": 15
    }
   ],
   "source": [
    "# df.Population\n",
    "# type(df.Population)\n",
    "# df.iloc[:,1]\n",
    "# df_binned = pd.qcut(df.iloc[:,1],20,labels=range(20))\n",
    "\n",
    "def Binning(col_Index):\n",
    "    df_binned = pd.qcut(df.iloc[:,col_Index],20,labels=range(20))\n",
    "    return df_binned\n",
    "df6=Binning(1)\n",
    "df6"
   ]
  },
  {
   "source": [
    "### 特征二值化\n",
    "\n",
    "prerprossessing模块中Binarizer()或LabelEncoder()函数"
   ],
   "cell_type": "markdown",
   "metadata": {}
  },
  {
   "cell_type": "code",
   "execution_count": 22,
   "metadata": {},
   "outputs": [
    {
     "output_type": "execute_result",
     "data": {
      "text/plain": [
       "array([[1.],\n",
       "       [1.],\n",
       "       [1.],\n",
       "       ...,\n",
       "       [0.],\n",
       "       [1.],\n",
       "       [0.]])"
      ]
     },
     "metadata": {},
     "execution_count": 22
    }
   ],
   "source": [
    "def Bina(data_array,y):#data_array数据类型需为numpy.ndarray\n",
    "    X=data_array.reshape(-1,1)\n",
    "    BI=Binarizer(threshold=y).fit_transform(X)\n",
    "    return BI\n",
    "test=Bina(housing.data,4)\n",
    "test"
   ]
  },
  {
   "cell_type": "code",
   "execution_count": 17,
   "metadata": {},
   "outputs": [
    {
     "output_type": "execute_result",
     "data": {
      "text/plain": [
       "(20640, 1)"
      ]
     },
     "metadata": {},
     "execution_count": 17
    }
   ],
   "source": [
    "\n",
    "housing.target.shape\n",
    "#housing target是1行20640列，要得到每条记录有一个类别，故需要有20640行/样本\n",
    "housing.target.reshape(-1,1).shape"
   ]
  },
  {
   "source": [
    "## 数据规约"
   ],
   "cell_type": "markdown",
   "metadata": {}
  },
  {
   "source": [
    "### 属性规约，以PCA降维为例"
   ],
   "cell_type": "markdown",
   "metadata": {}
  },
  {
   "cell_type": "code",
   "execution_count": 24,
   "metadata": {},
   "outputs": [
    {
     "output_type": "execute_result",
     "data": {
      "text/plain": [
       "array([[   8.3252    ,   41.        ,    6.98412698, ...,    2.55555556,\n",
       "          37.88      , -122.23      ],\n",
       "       [   8.3014    ,   21.        ,    6.23813708, ...,    2.10984183,\n",
       "          37.86      , -122.22      ],\n",
       "       [   7.2574    ,   52.        ,    8.28813559, ...,    2.80225989,\n",
       "          37.85      , -122.24      ],\n",
       "       ...,\n",
       "       [   1.7       ,   17.        ,    5.20554273, ...,    2.3256351 ,\n",
       "          39.43      , -121.22      ],\n",
       "       [   1.8672    ,   18.        ,    5.32951289, ...,    2.12320917,\n",
       "          39.43      , -121.32      ],\n",
       "       [   2.3886    ,   16.        ,    5.25471698, ...,    2.61698113,\n",
       "          39.37      , -121.24      ]])"
      ]
     },
     "metadata": {},
     "execution_count": 24
    }
   ],
   "source": [
    "housing.data"
   ]
  },
  {
   "cell_type": "code",
   "execution_count": 27,
   "metadata": {},
   "outputs": [
    {
     "output_type": "stream",
     "name": "stdout",
     "text": [
      "前3个属性解释了数据中0.6474174722211659的变化。\n"
     ]
    }
   ],
   "source": [
    "def Reduction_pca(df,n='mle'):\n",
    "    X= preprocessing.scale(df)#标准化处理\n",
    "    #n_components设置为‘mle’，算法自动选择满足所要求的方差百分比的特征个数；设置为数字n，则对应n个特征\n",
    "    pca=PCA(n_components=n)\n",
    "    # pca=PCA(n_components='mle')\n",
    "    pca.fit(X)\n",
    "    pca_com=pca.components_\n",
    "    ratio = pca.explained_variance_ratio_#各成分方差百分比，各变量的方差贡献率\n",
    "    s=sum(ratio)\n",
    "    print(\"前\"+str(n)+\"个属性解释了数据中\"+str(s)+\"的变化。\")\n",
    "    return pca_com\n",
    "pca_components = Reduction_pca(housing.data,3)"
   ]
  },
  {
   "source": [
    "### 数值规约，以简单随机抽样为例"
   ],
   "cell_type": "markdown",
   "metadata": {}
  },
  {
   "cell_type": "code",
   "execution_count": 28,
   "metadata": {},
   "outputs": [
    {
     "output_type": "execute_result",
     "data": {
      "text/plain": [
       "       AveRooms  AveBedrms  Population\n",
       "19564  5.962162   1.086486      1796.0\n",
       "10609  6.524752   1.029703      1137.0\n",
       "10858  5.162162   1.135135       208.0\n",
       "15840  5.025467   1.057725      1191.0\n",
       "4694   5.081019   1.006944       884.0"
      ],
      "text/html": "<div>\n<style scoped>\n    .dataframe tbody tr th:only-of-type {\n        vertical-align: middle;\n    }\n\n    .dataframe tbody tr th {\n        vertical-align: top;\n    }\n\n    .dataframe thead th {\n        text-align: right;\n    }\n</style>\n<table border=\"1\" class=\"dataframe\">\n  <thead>\n    <tr style=\"text-align: right;\">\n      <th></th>\n      <th>AveRooms</th>\n      <th>AveBedrms</th>\n      <th>Population</th>\n    </tr>\n  </thead>\n  <tbody>\n    <tr>\n      <th>19564</th>\n      <td>5.962162</td>\n      <td>1.086486</td>\n      <td>1796.0</td>\n    </tr>\n    <tr>\n      <th>10609</th>\n      <td>6.524752</td>\n      <td>1.029703</td>\n      <td>1137.0</td>\n    </tr>\n    <tr>\n      <th>10858</th>\n      <td>5.162162</td>\n      <td>1.135135</td>\n      <td>208.0</td>\n    </tr>\n    <tr>\n      <th>15840</th>\n      <td>5.025467</td>\n      <td>1.057725</td>\n      <td>1191.0</td>\n    </tr>\n    <tr>\n      <th>4694</th>\n      <td>5.081019</td>\n      <td>1.006944</td>\n      <td>884.0</td>\n    </tr>\n  </tbody>\n</table>\n</div>"
     },
     "metadata": {},
     "execution_count": 28
    }
   ],
   "source": [
    "#replace-true表示有放回；反之不放回\n",
    "df.sample(n=20)\n",
    "df.sample(frac=0.1)#frac为抽样百分比\n",
    "def Simple_Sample(df,sam_num):\n",
    "    df_sample=df.sample(n=sam_num)\n",
    "    return df_sample\n",
    "df_sample=Simple_Sample(df,5)\n",
    "df_sample"
   ]
  },
  {
   "source": [
    "### 分层抽样"
   ],
   "cell_type": "markdown",
   "metadata": {}
  },
  {
   "cell_type": "code",
   "execution_count": 89,
   "metadata": {},
   "outputs": [],
   "source": [
    "iris=datasets.load_iris()\n",
    "iris_df=pd.DataFrame(iris.data)\n",
    "iris_df.columns = iris.feature_names\n",
    "iris_df['target']=iris.target"
   ]
  },
  {
   "cell_type": "code",
   "execution_count": 95,
   "metadata": {},
   "outputs": [
    {
     "output_type": "execute_result",
     "data": {
      "text/plain": [
       "    sepal length (cm)  sepal width (cm)  petal length (cm)  petal width (cm)  \\\n",
       "13                4.3               3.0                1.1               0.1   \n",
       "5                 5.4               3.9                1.7               0.4   \n",
       "25                5.0               3.0                1.6               0.2   \n",
       "49                5.0               3.3                1.4               0.2   \n",
       "23                5.1               3.3                1.7               0.5   \n",
       "9                 4.9               3.1                1.5               0.1   \n",
       "41                4.5               2.3                1.3               0.3   \n",
       "4                 5.0               3.6                1.4               0.2   \n",
       "32                5.2               4.1                1.5               0.1   \n",
       "33                5.5               4.2                1.4               0.2   \n",
       "96                5.7               2.9                4.2               1.3   \n",
       "65                6.7               3.1                4.4               1.4   \n",
       "76                6.8               2.8                4.8               1.4   \n",
       "84                5.4               3.0                4.5               1.5   \n",
       "80                5.5               2.4                3.8               1.1   \n",
       "52                6.9               3.1                4.9               1.5   \n",
       "77                6.7               3.0                5.0               1.7   \n",
       "55                5.7               2.8                4.5               1.3   \n",
       "59                5.2               2.7                3.9               1.4   \n",
       "99                5.7               2.8                4.1               1.3   \n",
       "\n",
       "    target  \n",
       "13       0  \n",
       "5        0  \n",
       "25       0  \n",
       "49       0  \n",
       "23       0  \n",
       "9        0  \n",
       "41       0  \n",
       "4        0  \n",
       "32       0  \n",
       "33       0  \n",
       "96       1  \n",
       "65       1  \n",
       "76       1  \n",
       "84       1  \n",
       "80       1  \n",
       "52       1  \n",
       "77       1  \n",
       "55       1  \n",
       "59       1  \n",
       "99       1  "
      ],
      "text/html": "<div>\n<style scoped>\n    .dataframe tbody tr th:only-of-type {\n        vertical-align: middle;\n    }\n\n    .dataframe tbody tr th {\n        vertical-align: top;\n    }\n\n    .dataframe thead th {\n        text-align: right;\n    }\n</style>\n<table border=\"1\" class=\"dataframe\">\n  <thead>\n    <tr style=\"text-align: right;\">\n      <th></th>\n      <th>sepal length (cm)</th>\n      <th>sepal width (cm)</th>\n      <th>petal length (cm)</th>\n      <th>petal width (cm)</th>\n      <th>target</th>\n    </tr>\n  </thead>\n  <tbody>\n    <tr>\n      <th>13</th>\n      <td>4.3</td>\n      <td>3.0</td>\n      <td>1.1</td>\n      <td>0.1</td>\n      <td>0</td>\n    </tr>\n    <tr>\n      <th>5</th>\n      <td>5.4</td>\n      <td>3.9</td>\n      <td>1.7</td>\n      <td>0.4</td>\n      <td>0</td>\n    </tr>\n    <tr>\n      <th>25</th>\n      <td>5.0</td>\n      <td>3.0</td>\n      <td>1.6</td>\n      <td>0.2</td>\n      <td>0</td>\n    </tr>\n    <tr>\n      <th>49</th>\n      <td>5.0</td>\n      <td>3.3</td>\n      <td>1.4</td>\n      <td>0.2</td>\n      <td>0</td>\n    </tr>\n    <tr>\n      <th>23</th>\n      <td>5.1</td>\n      <td>3.3</td>\n      <td>1.7</td>\n      <td>0.5</td>\n      <td>0</td>\n    </tr>\n    <tr>\n      <th>9</th>\n      <td>4.9</td>\n      <td>3.1</td>\n      <td>1.5</td>\n      <td>0.1</td>\n      <td>0</td>\n    </tr>\n    <tr>\n      <th>41</th>\n      <td>4.5</td>\n      <td>2.3</td>\n      <td>1.3</td>\n      <td>0.3</td>\n      <td>0</td>\n    </tr>\n    <tr>\n      <th>4</th>\n      <td>5.0</td>\n      <td>3.6</td>\n      <td>1.4</td>\n      <td>0.2</td>\n      <td>0</td>\n    </tr>\n    <tr>\n      <th>32</th>\n      <td>5.2</td>\n      <td>4.1</td>\n      <td>1.5</td>\n      <td>0.1</td>\n      <td>0</td>\n    </tr>\n    <tr>\n      <th>33</th>\n      <td>5.5</td>\n      <td>4.2</td>\n      <td>1.4</td>\n      <td>0.2</td>\n      <td>0</td>\n    </tr>\n    <tr>\n      <th>96</th>\n      <td>5.7</td>\n      <td>2.9</td>\n      <td>4.2</td>\n      <td>1.3</td>\n      <td>1</td>\n    </tr>\n    <tr>\n      <th>65</th>\n      <td>6.7</td>\n      <td>3.1</td>\n      <td>4.4</td>\n      <td>1.4</td>\n      <td>1</td>\n    </tr>\n    <tr>\n      <th>76</th>\n      <td>6.8</td>\n      <td>2.8</td>\n      <td>4.8</td>\n      <td>1.4</td>\n      <td>1</td>\n    </tr>\n    <tr>\n      <th>84</th>\n      <td>5.4</td>\n      <td>3.0</td>\n      <td>4.5</td>\n      <td>1.5</td>\n      <td>1</td>\n    </tr>\n    <tr>\n      <th>80</th>\n      <td>5.5</td>\n      <td>2.4</td>\n      <td>3.8</td>\n      <td>1.1</td>\n      <td>1</td>\n    </tr>\n    <tr>\n      <th>52</th>\n      <td>6.9</td>\n      <td>3.1</td>\n      <td>4.9</td>\n      <td>1.5</td>\n      <td>1</td>\n    </tr>\n    <tr>\n      <th>77</th>\n      <td>6.7</td>\n      <td>3.0</td>\n      <td>5.0</td>\n      <td>1.7</td>\n      <td>1</td>\n    </tr>\n    <tr>\n      <th>55</th>\n      <td>5.7</td>\n      <td>2.8</td>\n      <td>4.5</td>\n      <td>1.3</td>\n      <td>1</td>\n    </tr>\n    <tr>\n      <th>59</th>\n      <td>5.2</td>\n      <td>2.7</td>\n      <td>3.9</td>\n      <td>1.4</td>\n      <td>1</td>\n    </tr>\n    <tr>\n      <th>99</th>\n      <td>5.7</td>\n      <td>2.8</td>\n      <td>4.1</td>\n      <td>1.3</td>\n      <td>1</td>\n    </tr>\n  </tbody>\n</table>\n</div>"
     },
     "metadata": {},
     "execution_count": 95
    }
   ],
   "source": [
    "A=iris_df[iris_df.target==0].sample(frac=0.2)\n",
    "B=iris_df[iris_df.target==1].sample(frac=0.2)\n",
    "df_new_sampled=A.append(B)\n",
    "df_new_sampled"
   ]
  }
 ]
}