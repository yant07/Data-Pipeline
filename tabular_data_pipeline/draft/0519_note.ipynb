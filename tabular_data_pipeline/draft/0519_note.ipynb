{
 "metadata": {
  "language_info": {
   "codemirror_mode": {
    "name": "ipython",
    "version": 3
   },
   "file_extension": ".py",
   "mimetype": "text/x-python",
   "name": "python",
   "nbconvert_exporter": "python",
   "pygments_lexer": "ipython3",
   "version": "3.7.13-final"
  },
  "orig_nbformat": 2,
  "kernelspec": {
   "name": "python3",
   "display_name": "Python 3.7.13 64-bit ('Simi_com': conda)",
   "metadata": {
    "interpreter": {
     "hash": "ca1a6c70ba0ef033524d16c288d1083a318dfe37e6b1f3c85cb25e894a9c8d20"
    }
   }
  }
 },
 "nbformat": 4,
 "nbformat_minor": 2,
 "cells": [
  {
   "cell_type": "code",
   "execution_count": 2,
   "metadata": {},
   "outputs": [],
   "source": [
    "import pandas as pd\n",
    "import seaborn as sns\n",
    "import numpy as np\n",
    "import matplotlib.pyplot as plt\n",
    "from scipy import stats\n",
    "from sklearn import datasets\n",
    "from sklearn import preprocessing\n",
    "from sklearn.preprocessing import Binarizer\n",
    "from sklearn.decomposition import PCA\n",
    "from sklearn.preprocessing import LabelEncoder, OneHotEncoder\n",
    "sns.set_theme(style=\"darkgrid\")\n",
    "\n",
    "from sklearn.metrics import confusion_matrix\n",
    "from sklearn.model_selection import train_test_split\n",
    "from sklearn.tree import DecisionTreeClassifier\n",
    "from sklearn.metrics import accuracy_score\n",
    "from sklearn.metrics import classification_report\n",
    "\n",
    "\n",
    "from sklearn.datasets import make_hastie_10_2\n",
    "from sklearn.ensemble import GradientBoostingClassifier\n"
   ]
  },
  {
   "cell_type": "code",
   "execution_count": 3,
   "metadata": {},
   "outputs": [
    {
     "output_type": "execute_result",
     "data": {
      "text/plain": [
       "     sepal_length  sepal_width  petal_length  petal_width    species\n",
       "0             5.1          3.5           1.4          0.2     setosa\n",
       "1             4.9          3.0           1.4          0.2     setosa\n",
       "2             4.7          3.2           1.3          0.2     setosa\n",
       "3             4.6          3.1           1.5          0.2     setosa\n",
       "4             5.0          3.6           1.4          0.2     setosa\n",
       "..            ...          ...           ...          ...        ...\n",
       "145           6.7          3.0           5.2          2.3  virginica\n",
       "146           6.3          2.5           5.0          1.9  virginica\n",
       "147           6.5          3.0           5.2          2.0  virginica\n",
       "148           6.2          3.4           5.4          2.3  virginica\n",
       "149           5.9          3.0           5.1          1.8  virginica\n",
       "\n",
       "[150 rows x 5 columns]"
      ],
      "text/html": "<div>\n<style scoped>\n    .dataframe tbody tr th:only-of-type {\n        vertical-align: middle;\n    }\n\n    .dataframe tbody tr th {\n        vertical-align: top;\n    }\n\n    .dataframe thead th {\n        text-align: right;\n    }\n</style>\n<table border=\"1\" class=\"dataframe\">\n  <thead>\n    <tr style=\"text-align: right;\">\n      <th></th>\n      <th>sepal_length</th>\n      <th>sepal_width</th>\n      <th>petal_length</th>\n      <th>petal_width</th>\n      <th>species</th>\n    </tr>\n  </thead>\n  <tbody>\n    <tr>\n      <th>0</th>\n      <td>5.1</td>\n      <td>3.5</td>\n      <td>1.4</td>\n      <td>0.2</td>\n      <td>setosa</td>\n    </tr>\n    <tr>\n      <th>1</th>\n      <td>4.9</td>\n      <td>3.0</td>\n      <td>1.4</td>\n      <td>0.2</td>\n      <td>setosa</td>\n    </tr>\n    <tr>\n      <th>2</th>\n      <td>4.7</td>\n      <td>3.2</td>\n      <td>1.3</td>\n      <td>0.2</td>\n      <td>setosa</td>\n    </tr>\n    <tr>\n      <th>3</th>\n      <td>4.6</td>\n      <td>3.1</td>\n      <td>1.5</td>\n      <td>0.2</td>\n      <td>setosa</td>\n    </tr>\n    <tr>\n      <th>4</th>\n      <td>5.0</td>\n      <td>3.6</td>\n      <td>1.4</td>\n      <td>0.2</td>\n      <td>setosa</td>\n    </tr>\n    <tr>\n      <th>...</th>\n      <td>...</td>\n      <td>...</td>\n      <td>...</td>\n      <td>...</td>\n      <td>...</td>\n    </tr>\n    <tr>\n      <th>145</th>\n      <td>6.7</td>\n      <td>3.0</td>\n      <td>5.2</td>\n      <td>2.3</td>\n      <td>virginica</td>\n    </tr>\n    <tr>\n      <th>146</th>\n      <td>6.3</td>\n      <td>2.5</td>\n      <td>5.0</td>\n      <td>1.9</td>\n      <td>virginica</td>\n    </tr>\n    <tr>\n      <th>147</th>\n      <td>6.5</td>\n      <td>3.0</td>\n      <td>5.2</td>\n      <td>2.0</td>\n      <td>virginica</td>\n    </tr>\n    <tr>\n      <th>148</th>\n      <td>6.2</td>\n      <td>3.4</td>\n      <td>5.4</td>\n      <td>2.3</td>\n      <td>virginica</td>\n    </tr>\n    <tr>\n      <th>149</th>\n      <td>5.9</td>\n      <td>3.0</td>\n      <td>5.1</td>\n      <td>1.8</td>\n      <td>virginica</td>\n    </tr>\n  </tbody>\n</table>\n<p>150 rows × 5 columns</p>\n</div>"
     },
     "metadata": {},
     "execution_count": 3
    }
   ],
   "source": [
    "iris = sns.load_dataset(\"iris\")\n",
    "iris"
   ]
  },
  {
   "source": [
    "## 可视化"
   ],
   "cell_type": "markdown",
   "metadata": {}
  },
  {
   "source": [
    "### 表格形式"
   ],
   "cell_type": "markdown",
   "metadata": {}
  },
  {
   "cell_type": "code",
   "execution_count": 12,
   "metadata": {},
   "outputs": [
    {
     "output_type": "execute_result",
     "data": {
      "text/plain": [
       "     sepal_length  sepal_width  petal_length  petal_width  species\n",
       "13            4.3          3.0           1.1          0.1        0\n",
       "42            4.4          3.2           1.3          0.2        0\n",
       "38            4.4          3.0           1.3          0.2        0\n",
       "8             4.4          2.9           1.4          0.2        0\n",
       "41            4.5          2.3           1.3          0.3        0\n",
       "..            ...          ...           ...          ...      ...\n",
       "122           7.7          2.8           6.7          2.0        2\n",
       "118           7.7          2.6           6.9          2.3        2\n",
       "117           7.7          3.8           6.7          2.2        2\n",
       "135           7.7          3.0           6.1          2.3        2\n",
       "131           7.9          3.8           6.4          2.0        2\n",
       "\n",
       "[150 rows x 5 columns]"
      ],
      "text/html": "<div>\n<style scoped>\n    .dataframe tbody tr th:only-of-type {\n        vertical-align: middle;\n    }\n\n    .dataframe tbody tr th {\n        vertical-align: top;\n    }\n\n    .dataframe thead th {\n        text-align: right;\n    }\n</style>\n<table border=\"1\" class=\"dataframe\">\n  <thead>\n    <tr style=\"text-align: right;\">\n      <th></th>\n      <th>sepal_length</th>\n      <th>sepal_width</th>\n      <th>petal_length</th>\n      <th>petal_width</th>\n      <th>species</th>\n    </tr>\n  </thead>\n  <tbody>\n    <tr>\n      <th>13</th>\n      <td>4.3</td>\n      <td>3.0</td>\n      <td>1.1</td>\n      <td>0.1</td>\n      <td>0</td>\n    </tr>\n    <tr>\n      <th>42</th>\n      <td>4.4</td>\n      <td>3.2</td>\n      <td>1.3</td>\n      <td>0.2</td>\n      <td>0</td>\n    </tr>\n    <tr>\n      <th>38</th>\n      <td>4.4</td>\n      <td>3.0</td>\n      <td>1.3</td>\n      <td>0.2</td>\n      <td>0</td>\n    </tr>\n    <tr>\n      <th>8</th>\n      <td>4.4</td>\n      <td>2.9</td>\n      <td>1.4</td>\n      <td>0.2</td>\n      <td>0</td>\n    </tr>\n    <tr>\n      <th>41</th>\n      <td>4.5</td>\n      <td>2.3</td>\n      <td>1.3</td>\n      <td>0.3</td>\n      <td>0</td>\n    </tr>\n    <tr>\n      <th>...</th>\n      <td>...</td>\n      <td>...</td>\n      <td>...</td>\n      <td>...</td>\n      <td>...</td>\n    </tr>\n    <tr>\n      <th>122</th>\n      <td>7.7</td>\n      <td>2.8</td>\n      <td>6.7</td>\n      <td>2.0</td>\n      <td>2</td>\n    </tr>\n    <tr>\n      <th>118</th>\n      <td>7.7</td>\n      <td>2.6</td>\n      <td>6.9</td>\n      <td>2.3</td>\n      <td>2</td>\n    </tr>\n    <tr>\n      <th>117</th>\n      <td>7.7</td>\n      <td>3.8</td>\n      <td>6.7</td>\n      <td>2.2</td>\n      <td>2</td>\n    </tr>\n    <tr>\n      <th>135</th>\n      <td>7.7</td>\n      <td>3.0</td>\n      <td>6.1</td>\n      <td>2.3</td>\n      <td>2</td>\n    </tr>\n    <tr>\n      <th>131</th>\n      <td>7.9</td>\n      <td>3.8</td>\n      <td>6.4</td>\n      <td>2.0</td>\n      <td>2</td>\n    </tr>\n  </tbody>\n</table>\n<p>150 rows × 5 columns</p>\n</div>"
     },
     "metadata": {},
     "execution_count": 12
    }
   ],
   "source": [
    "#数据排序\n",
    "#.sort_index()根据索引排序，默认纵轴升序，即.sort_index(axis=0,ascending=True)\n",
    "#.sort_values()\n",
    "# Series.sort_values(axis=0,ascending=True)\n",
    "# DataFrame.sort_values(by,axis=0,ascending=True)\n",
    "#其中by是axis轴上某个索引或索引列表\n",
    "df_sorted=df.sort_values('sepal_length',axis=0,ascending=True)\n",
    "df_sorted"
   ]
  },
  {
   "cell_type": "code",
   "execution_count": 14,
   "metadata": {},
   "outputs": [
    {
     "output_type": "execute_result",
     "data": {
      "text/plain": [
       "       sepal_length  sepal_width  petal_length  petal_width     species\n",
       "count    150.000000   150.000000    150.000000   150.000000  150.000000\n",
       "mean       5.843333     3.057333      3.758000     1.199333    1.000000\n",
       "std        0.828066     0.435866      1.765298     0.762238    0.819232\n",
       "min        4.300000     2.000000      1.000000     0.100000    0.000000\n",
       "25%        5.100000     2.800000      1.600000     0.300000    0.000000\n",
       "50%        5.800000     3.000000      4.350000     1.300000    1.000000\n",
       "75%        6.400000     3.300000      5.100000     1.800000    2.000000\n",
       "max        7.900000     4.400000      6.900000     2.500000    2.000000"
      ],
      "text/html": "<div>\n<style scoped>\n    .dataframe tbody tr th:only-of-type {\n        vertical-align: middle;\n    }\n\n    .dataframe tbody tr th {\n        vertical-align: top;\n    }\n\n    .dataframe thead th {\n        text-align: right;\n    }\n</style>\n<table border=\"1\" class=\"dataframe\">\n  <thead>\n    <tr style=\"text-align: right;\">\n      <th></th>\n      <th>sepal_length</th>\n      <th>sepal_width</th>\n      <th>petal_length</th>\n      <th>petal_width</th>\n      <th>species</th>\n    </tr>\n  </thead>\n  <tbody>\n    <tr>\n      <th>count</th>\n      <td>150.000000</td>\n      <td>150.000000</td>\n      <td>150.000000</td>\n      <td>150.000000</td>\n      <td>150.000000</td>\n    </tr>\n    <tr>\n      <th>mean</th>\n      <td>5.843333</td>\n      <td>3.057333</td>\n      <td>3.758000</td>\n      <td>1.199333</td>\n      <td>1.000000</td>\n    </tr>\n    <tr>\n      <th>std</th>\n      <td>0.828066</td>\n      <td>0.435866</td>\n      <td>1.765298</td>\n      <td>0.762238</td>\n      <td>0.819232</td>\n    </tr>\n    <tr>\n      <th>min</th>\n      <td>4.300000</td>\n      <td>2.000000</td>\n      <td>1.000000</td>\n      <td>0.100000</td>\n      <td>0.000000</td>\n    </tr>\n    <tr>\n      <th>25%</th>\n      <td>5.100000</td>\n      <td>2.800000</td>\n      <td>1.600000</td>\n      <td>0.300000</td>\n      <td>0.000000</td>\n    </tr>\n    <tr>\n      <th>50%</th>\n      <td>5.800000</td>\n      <td>3.000000</td>\n      <td>4.350000</td>\n      <td>1.300000</td>\n      <td>1.000000</td>\n    </tr>\n    <tr>\n      <th>75%</th>\n      <td>6.400000</td>\n      <td>3.300000</td>\n      <td>5.100000</td>\n      <td>1.800000</td>\n      <td>2.000000</td>\n    </tr>\n    <tr>\n      <th>max</th>\n      <td>7.900000</td>\n      <td>4.400000</td>\n      <td>6.900000</td>\n      <td>2.500000</td>\n      <td>2.000000</td>\n    </tr>\n  </tbody>\n</table>\n</div>"
     },
     "metadata": {},
     "execution_count": 14
    }
   ],
   "source": [
    "#基本统计\n",
    "iris.describe()\n"
   ]
  },
  {
   "cell_type": "code",
   "execution_count": 13,
   "metadata": {},
   "outputs": [
    {
     "output_type": "execute_result",
     "data": {
      "text/plain": [
       "     sepal_length  sepal_width  petal_length  petal_width\n",
       "149         876.5        458.6         563.7        179.9"
      ],
      "text/html": "<div>\n<style scoped>\n    .dataframe tbody tr th:only-of-type {\n        vertical-align: middle;\n    }\n\n    .dataframe tbody tr th {\n        vertical-align: top;\n    }\n\n    .dataframe thead th {\n        text-align: right;\n    }\n</style>\n<table border=\"1\" class=\"dataframe\">\n  <thead>\n    <tr style=\"text-align: right;\">\n      <th></th>\n      <th>sepal_length</th>\n      <th>sepal_width</th>\n      <th>petal_length</th>\n      <th>petal_width</th>\n    </tr>\n  </thead>\n  <tbody>\n    <tr>\n      <th>149</th>\n      <td>876.5</td>\n      <td>458.6</td>\n      <td>563.7</td>\n      <td>179.9</td>\n    </tr>\n  </tbody>\n</table>\n</div>"
     },
     "metadata": {},
     "execution_count": 13
    }
   ],
   "source": [
    "#累计统计\n",
    "cum_df=df.iloc[:,0:4].cumsum()\n",
    "cum_df\n",
    "# type(cum_df)#pandas.core.frame.DataFrame\n",
    "cum_df.iloc[-1:]#dataframe最后一行，累计"
   ]
  },
  {
   "cell_type": "code",
   "execution_count": 17,
   "metadata": {},
   "outputs": [
    {
     "output_type": "execute_result",
     "data": {
      "text/plain": [
       "     sepal_length  sepal_width  petal_length  petal_width  species\n",
       "0             NaN          NaN           NaN          NaN      NaN\n",
       "1             NaN          NaN           NaN          NaN      NaN\n",
       "2             NaN          NaN           NaN          NaN      NaN\n",
       "3             NaN          NaN           NaN          NaN      NaN\n",
       "4             NaN          NaN           NaN          NaN      NaN\n",
       "..            ...          ...           ...          ...      ...\n",
       "145          6.52         3.10          5.39         2.18      2.0\n",
       "146          6.52         3.01          5.33         2.13      2.0\n",
       "147          6.53         3.00          5.30         2.15      2.0\n",
       "148          6.55         3.04          5.36         2.20      2.0\n",
       "149          6.45         3.03          5.33         2.17      2.0\n",
       "\n",
       "[150 rows x 5 columns]"
      ],
      "text/html": "<div>\n<style scoped>\n    .dataframe tbody tr th:only-of-type {\n        vertical-align: middle;\n    }\n\n    .dataframe tbody tr th {\n        vertical-align: top;\n    }\n\n    .dataframe thead th {\n        text-align: right;\n    }\n</style>\n<table border=\"1\" class=\"dataframe\">\n  <thead>\n    <tr style=\"text-align: right;\">\n      <th></th>\n      <th>sepal_length</th>\n      <th>sepal_width</th>\n      <th>petal_length</th>\n      <th>petal_width</th>\n      <th>species</th>\n    </tr>\n  </thead>\n  <tbody>\n    <tr>\n      <th>0</th>\n      <td>NaN</td>\n      <td>NaN</td>\n      <td>NaN</td>\n      <td>NaN</td>\n      <td>NaN</td>\n    </tr>\n    <tr>\n      <th>1</th>\n      <td>NaN</td>\n      <td>NaN</td>\n      <td>NaN</td>\n      <td>NaN</td>\n      <td>NaN</td>\n    </tr>\n    <tr>\n      <th>2</th>\n      <td>NaN</td>\n      <td>NaN</td>\n      <td>NaN</td>\n      <td>NaN</td>\n      <td>NaN</td>\n    </tr>\n    <tr>\n      <th>3</th>\n      <td>NaN</td>\n      <td>NaN</td>\n      <td>NaN</td>\n      <td>NaN</td>\n      <td>NaN</td>\n    </tr>\n    <tr>\n      <th>4</th>\n      <td>NaN</td>\n      <td>NaN</td>\n      <td>NaN</td>\n      <td>NaN</td>\n      <td>NaN</td>\n    </tr>\n    <tr>\n      <th>...</th>\n      <td>...</td>\n      <td>...</td>\n      <td>...</td>\n      <td>...</td>\n      <td>...</td>\n    </tr>\n    <tr>\n      <th>145</th>\n      <td>6.52</td>\n      <td>3.10</td>\n      <td>5.39</td>\n      <td>2.18</td>\n      <td>2.0</td>\n    </tr>\n    <tr>\n      <th>146</th>\n      <td>6.52</td>\n      <td>3.01</td>\n      <td>5.33</td>\n      <td>2.13</td>\n      <td>2.0</td>\n    </tr>\n    <tr>\n      <th>147</th>\n      <td>6.53</td>\n      <td>3.00</td>\n      <td>5.30</td>\n      <td>2.15</td>\n      <td>2.0</td>\n    </tr>\n    <tr>\n      <th>148</th>\n      <td>6.55</td>\n      <td>3.04</td>\n      <td>5.36</td>\n      <td>2.20</td>\n      <td>2.0</td>\n    </tr>\n    <tr>\n      <th>149</th>\n      <td>6.45</td>\n      <td>3.03</td>\n      <td>5.33</td>\n      <td>2.17</td>\n      <td>2.0</td>\n    </tr>\n  </tbody>\n</table>\n<p>150 rows × 5 columns</p>\n</div>"
     },
     "metadata": {},
     "execution_count": 17
    }
   ],
   "source": [
    "#窗口计算，依次计算相邻w个元素的统计值，用.rolling(w).sum()计算\n",
    "df_roll_sum=df.rolling(10).mean()\n",
    "df_roll_sum"
   ]
  },
  {
   "cell_type": "code",
   "execution_count": 18,
   "metadata": {},
   "outputs": [
    {
     "output_type": "execute_result",
     "data": {
      "text/plain": [
       "              sepal_length  sepal_width  petal_length  petal_width   species\n",
       "sepal_length      0.685694    -0.042434      1.274315     0.516271  0.530872\n",
       "sepal_width      -0.042434     0.189979     -0.329656    -0.121639 -0.152349\n",
       "petal_length      1.274315    -0.329656      3.116278     1.295609  1.372483\n",
       "petal_width       0.516271    -0.121639      1.295609     0.581006  0.597315\n",
       "species           0.530872    -0.152349      1.372483     0.597315  0.671141"
      ],
      "text/html": "<div>\n<style scoped>\n    .dataframe tbody tr th:only-of-type {\n        vertical-align: middle;\n    }\n\n    .dataframe tbody tr th {\n        vertical-align: top;\n    }\n\n    .dataframe thead th {\n        text-align: right;\n    }\n</style>\n<table border=\"1\" class=\"dataframe\">\n  <thead>\n    <tr style=\"text-align: right;\">\n      <th></th>\n      <th>sepal_length</th>\n      <th>sepal_width</th>\n      <th>petal_length</th>\n      <th>petal_width</th>\n      <th>species</th>\n    </tr>\n  </thead>\n  <tbody>\n    <tr>\n      <th>sepal_length</th>\n      <td>0.685694</td>\n      <td>-0.042434</td>\n      <td>1.274315</td>\n      <td>0.516271</td>\n      <td>0.530872</td>\n    </tr>\n    <tr>\n      <th>sepal_width</th>\n      <td>-0.042434</td>\n      <td>0.189979</td>\n      <td>-0.329656</td>\n      <td>-0.121639</td>\n      <td>-0.152349</td>\n    </tr>\n    <tr>\n      <th>petal_length</th>\n      <td>1.274315</td>\n      <td>-0.329656</td>\n      <td>3.116278</td>\n      <td>1.295609</td>\n      <td>1.372483</td>\n    </tr>\n    <tr>\n      <th>petal_width</th>\n      <td>0.516271</td>\n      <td>-0.121639</td>\n      <td>1.295609</td>\n      <td>0.581006</td>\n      <td>0.597315</td>\n    </tr>\n    <tr>\n      <th>species</th>\n      <td>0.530872</td>\n      <td>-0.152349</td>\n      <td>1.372483</td>\n      <td>0.597315</td>\n      <td>0.671141</td>\n    </tr>\n  </tbody>\n</table>\n</div>"
     },
     "metadata": {},
     "execution_count": 18
    }
   ],
   "source": [
    "#变量之间相关性，以pearson相关系数为例\n",
    "#.cov()计算协方差矩阵\n",
    "#.corr()计算相关系数矩阵，Pearson，Kendall等系数\n",
    "df_cov=df.cov()\n",
    "df_cov\n"
   ]
  },
  {
   "cell_type": "code",
   "execution_count": 20,
   "metadata": {},
   "outputs": [
    {
     "output_type": "execute_result",
     "data": {
      "text/plain": [
       "              sepal_length  sepal_width  petal_length  petal_width   species\n",
       "sepal_length      1.000000    -0.117570      0.871754     0.817941  0.782561\n",
       "sepal_width      -0.117570     1.000000     -0.428440    -0.366126 -0.426658\n",
       "petal_length      0.871754    -0.428440      1.000000     0.962865  0.949035\n",
       "petal_width       0.817941    -0.366126      0.962865     1.000000  0.956547\n",
       "species           0.782561    -0.426658      0.949035     0.956547  1.000000"
      ],
      "text/html": "<div>\n<style scoped>\n    .dataframe tbody tr th:only-of-type {\n        vertical-align: middle;\n    }\n\n    .dataframe tbody tr th {\n        vertical-align: top;\n    }\n\n    .dataframe thead th {\n        text-align: right;\n    }\n</style>\n<table border=\"1\" class=\"dataframe\">\n  <thead>\n    <tr style=\"text-align: right;\">\n      <th></th>\n      <th>sepal_length</th>\n      <th>sepal_width</th>\n      <th>petal_length</th>\n      <th>petal_width</th>\n      <th>species</th>\n    </tr>\n  </thead>\n  <tbody>\n    <tr>\n      <th>sepal_length</th>\n      <td>1.000000</td>\n      <td>-0.117570</td>\n      <td>0.871754</td>\n      <td>0.817941</td>\n      <td>0.782561</td>\n    </tr>\n    <tr>\n      <th>sepal_width</th>\n      <td>-0.117570</td>\n      <td>1.000000</td>\n      <td>-0.428440</td>\n      <td>-0.366126</td>\n      <td>-0.426658</td>\n    </tr>\n    <tr>\n      <th>petal_length</th>\n      <td>0.871754</td>\n      <td>-0.428440</td>\n      <td>1.000000</td>\n      <td>0.962865</td>\n      <td>0.949035</td>\n    </tr>\n    <tr>\n      <th>petal_width</th>\n      <td>0.817941</td>\n      <td>-0.366126</td>\n      <td>0.962865</td>\n      <td>1.000000</td>\n      <td>0.956547</td>\n    </tr>\n    <tr>\n      <th>species</th>\n      <td>0.782561</td>\n      <td>-0.426658</td>\n      <td>0.949035</td>\n      <td>0.956547</td>\n      <td>1.000000</td>\n    </tr>\n  </tbody>\n</table>\n</div>"
     },
     "metadata": {},
     "execution_count": 20
    }
   ],
   "source": [
    "df_cor=df.corr(method='pearson')\n",
    "df_cor"
   ]
  },
  {
   "source": [
    "## 数据建模/分析预测"
   ],
   "cell_type": "markdown",
   "metadata": {}
  },
  {
   "source": [
    "### 无监督  聚类，以kmeans为例\n"
   ],
   "cell_type": "markdown",
   "metadata": {}
  },
  {
   "cell_type": "code",
   "execution_count": 19,
   "metadata": {},
   "outputs": [],
   "source": [
    "import scipy\n",
    "from scipy.cluster.vq import vq,kmeans,whiten"
   ]
  },
  {
   "cell_type": "code",
   "execution_count": 26,
   "metadata": {},
   "outputs": [],
   "source": [
    "obs=df.iloc[:,0]"
   ]
  },
  {
   "cell_type": "code",
   "execution_count": 27,
   "metadata": {},
   "outputs": [
    {
     "output_type": "execute_result",
     "data": {
      "text/plain": [
       "pandas.core.series.Series"
      ]
     },
     "metadata": {},
     "execution_count": 27
    }
   ],
   "source": [
    "type(obs)"
   ]
  },
  {
   "cell_type": "code",
   "execution_count": 28,
   "metadata": {},
   "outputs": [],
   "source": [
    "data= np.array(obs)\n",
    "type(data)#numpy.ndarray"
   ]
  },
  {
   "cell_type": "code",
   "execution_count": 30,
   "metadata": {},
   "outputs": [
    {
     "output_type": "stream",
     "name": "stdout",
     "text": [
      "[0 0 0 0 0 1 0 0 0 0 1 0 0 0 1 1 1 0 1 0 1 0 0 0 0 0 0 0 0 0 0 1 0 1 0 0 1\n 0 0 0 0 0 0 0 0 0 0 0 0 0 2 2 2 1 2 1 2 0 2 0 0 1 1 1 1 2 1 1 1 1 1 1 2 1\n 2 2 2 2 1 1 1 1 1 1 1 1 2 2 1 1 1 1 1 0 1 1 1 1 0 1 2 1 2 2 2 2 0 2 2 2 2\n 2 2 1 1 2 2 2 2 1 2 1 2 2 2 2 1 1 2 2 2 2 2 2 1 2 2 2 1 2 2 2 1 2 2 2 2 2\n 1 1]\n"
     ]
    }
   ],
   "source": [
    "whiten=whiten(data)\n",
    "centroids,_=kmeans(whiten,3)\n",
    "result,_=vq(whiten,centroids)\n",
    "print(result)\n",
    "# type(result)#numpy.ndarray"
   ]
  },
  {
   "cell_type": "code",
   "execution_count": 32,
   "metadata": {},
   "outputs": [
    {
     "output_type": "execute_result",
     "data": {
      "text/plain": [
       "array([0, 0, 0, 0, 0, 0, 0, 0, 0, 0, 0, 0, 0, 0, 0, 0, 0, 0, 0, 0, 0, 0,\n",
       "       0, 0, 0, 0, 0, 0, 0, 0, 0, 0, 0, 0, 0, 0, 0, 0, 0, 0, 0, 0, 0, 0,\n",
       "       0, 0, 0, 0, 0, 0, 1, 1, 1, 1, 1, 1, 1, 1, 1, 1, 1, 1, 1, 1, 1, 1,\n",
       "       1, 1, 1, 1, 1, 1, 1, 1, 1, 1, 1, 1, 1, 1, 1, 1, 1, 1, 1, 1, 1, 1,\n",
       "       1, 1, 1, 1, 1, 1, 1, 1, 1, 1, 1, 1, 2, 2, 2, 2, 2, 2, 2, 2, 2, 2,\n",
       "       2, 2, 2, 2, 2, 2, 2, 2, 2, 2, 2, 2, 2, 2, 2, 2, 2, 2, 2, 2, 2, 2,\n",
       "       2, 2, 2, 2, 2, 2, 2, 2, 2, 2, 2, 2, 2, 2, 2, 2, 2, 2])"
      ]
     },
     "metadata": {},
     "execution_count": 32
    }
   ],
   "source": [
    "encoded_col"
   ]
  },
  {
   "cell_type": "code",
   "execution_count": 38,
   "metadata": {},
   "outputs": [
    {
     "output_type": "execute_result",
     "data": {
      "text/plain": [
       "0.9113294688411048"
      ]
     },
     "metadata": {},
     "execution_count": 38
    }
   ],
   "source": [
    "#余弦相似度\n",
    "from scipy import spatial\n",
    "res = 1 - spatial.distance.cosine(result, encoded_col)\n",
    "res"
   ]
  },
  {
   "cell_type": "code",
   "execution_count": 41,
   "metadata": {},
   "outputs": [
    {
     "output_type": "execute_result",
     "data": {
      "text/plain": [
       "0.9113294688411047"
      ]
     },
     "metadata": {},
     "execution_count": 41
    }
   ],
   "source": [
    "#欧氏距离\n",
    "from numpy import dot\n",
    "from numpy.linalg import norm\n",
    "a=result\n",
    "b=encoded_col\n",
    "res = dot(a, b) / (norm(a) * norm(b))\n",
    "res"
   ]
  },
  {
   "source": [
    "### 分类"
   ],
   "cell_type": "markdown",
   "metadata": {}
  },
  {
   "source": [
    "#### 决策树、随机森林、 GBDT(Gradient Boosting Decision Tree)"
   ],
   "cell_type": "markdown",
   "metadata": {}
  },
  {
   "cell_type": "code",
   "execution_count": 4,
   "metadata": {},
   "outputs": [],
   "source": [
    "from sklearn import tree\n",
    "from sklearn.ensemble import RandomForestClassifier\n",
    "from sklearn.ensemble import GradientBoostingClassifier"
   ]
  },
  {
   "cell_type": "code",
   "execution_count": 5,
   "metadata": {},
   "outputs": [
    {
     "output_type": "stream",
     "name": "stdout",
     "text": [
      "[1]\n"
     ]
    },
    {
     "output_type": "display_data",
     "data": {
      "text/plain": "<Figure size 432x288 with 1 Axes>",
      "image/svg+xml": "<?xml version=\"1.0\" encoding=\"utf-8\" standalone=\"no\"?>\r\n<!DOCTYPE svg PUBLIC \"-//W3C//DTD SVG 1.1//EN\"\r\n  \"http://www.w3.org/Graphics/SVG/1.1/DTD/svg11.dtd\">\r\n<!-- Created with matplotlib (https://matplotlib.org/) -->\r\n<svg height=\"231.84pt\" version=\"1.1\" viewBox=\"0 0 349.2 231.84\" width=\"349.2pt\" xmlns=\"http://www.w3.org/2000/svg\" xmlns:xlink=\"http://www.w3.org/1999/xlink\">\r\n <defs>\r\n  <style type=\"text/css\">\r\n*{stroke-linecap:butt;stroke-linejoin:round;}\r\n  </style>\r\n </defs>\r\n <g id=\"figure_1\">\r\n  <g id=\"patch_1\">\r\n   <path d=\"M 0 231.84 \r\nL 349.2 231.84 \r\nL 349.2 0 \r\nL 0 0 \r\nz\r\n\" style=\"fill:#ffffff;\"/>\r\n  </g>\r\n  <g id=\"axes_1\">\r\n   <g id=\"patch_2\">\r\n    <path d=\"M 171.294563 193.051306 \r\nQ 178.483594 182.935129 186.320271 171.907604 \r\n\" style=\"fill:none;stroke:#262626;stroke-linecap:round;\"/>\r\n    <path d=\"M 173.499164 191.877344 \r\nL 171.294563 193.051306 \r\nL 171.678154 190.583248 \r\n\" style=\"fill:none;stroke:#262626;stroke-linecap:round;\"/>\r\n   </g>\r\n   <g id=\"text_1\">\r\n    <g id=\"patch_3\">\r\n     <path d=\"M 140.70863 216.884981 \r\nL 182.737524 216.884981 \r\nL 182.737524 196.08957 \r\nL 140.70863 196.08957 \r\nz\r\n\" style=\"fill:#eaeaf2;stroke:#ffffff;stroke-linejoin:miter;\"/>\r\n    </g>\r\n    <!-- gini = 0.0 -->\r\n    <defs>\r\n     <path d=\"M 4.984375 -4.296875 \r\nL 13.53125 -5.5625 \r\nQ 14.0625 -9.515625 16.5 -11.328125 \r\nQ 19.78125 -13.765625 25.4375 -13.765625 \r\nQ 31.546875 -13.765625 34.859375 -11.328125 \r\nQ 38.1875 -8.890625 39.359375 -4.5 \r\nQ 40.046875 -1.8125 39.984375 6.78125 \r\nQ 34.234375 0 25.640625 0 \r\nQ 14.9375 0 9.078125 7.71875 \r\nQ 3.21875 15.4375 3.21875 26.21875 \r\nQ 3.21875 33.640625 5.90625 39.90625 \r\nQ 8.59375 46.1875 13.6875 49.609375 \r\nQ 18.796875 53.03125 25.6875 53.03125 \r\nQ 34.859375 53.03125 40.828125 45.609375 \r\nL 40.828125 51.859375 \r\nL 48.921875 51.859375 \r\nL 48.921875 7.03125 \r\nQ 48.921875 -5.078125 46.453125 -10.125 \r\nQ 44 -15.1875 38.640625 -18.109375 \r\nQ 33.296875 -21.046875 25.484375 -21.046875 \r\nQ 16.21875 -21.046875 10.5 -16.875 \r\nQ 4.78125 -12.703125 4.984375 -4.296875 \r\nz\r\nM 12.25 26.859375 \r\nQ 12.25 16.65625 16.296875 11.96875 \r\nQ 20.359375 7.28125 26.46875 7.28125 \r\nQ 32.515625 7.28125 36.609375 11.9375 \r\nQ 40.71875 16.609375 40.71875 26.5625 \r\nQ 40.71875 36.078125 36.5 40.90625 \r\nQ 32.28125 45.75 26.3125 45.75 \r\nQ 20.453125 45.75 16.34375 40.984375 \r\nQ 12.25 36.234375 12.25 26.859375 \r\nz\r\n\" id=\"ArialMT-103\"/>\r\n     <path d=\"M 6.640625 61.46875 \r\nL 6.640625 71.578125 \r\nL 15.4375 71.578125 \r\nL 15.4375 61.46875 \r\nz\r\nM 6.640625 0 \r\nL 6.640625 51.859375 \r\nL 15.4375 51.859375 \r\nL 15.4375 0 \r\nz\r\n\" id=\"ArialMT-105\"/>\r\n     <path d=\"M 6.59375 0 \r\nL 6.59375 51.859375 \r\nL 14.5 51.859375 \r\nL 14.5 44.484375 \r\nQ 20.21875 53.03125 31 53.03125 \r\nQ 35.6875 53.03125 39.625 51.34375 \r\nQ 43.5625 49.65625 45.515625 46.921875 \r\nQ 47.46875 44.1875 48.25 40.4375 \r\nQ 48.734375 37.984375 48.734375 31.890625 \r\nL 48.734375 0 \r\nL 39.9375 0 \r\nL 39.9375 31.546875 \r\nQ 39.9375 36.921875 38.90625 39.578125 \r\nQ 37.890625 42.234375 35.28125 43.8125 \r\nQ 32.671875 45.40625 29.15625 45.40625 \r\nQ 23.53125 45.40625 19.453125 41.84375 \r\nQ 15.375 38.28125 15.375 28.328125 \r\nL 15.375 0 \r\nz\r\n\" id=\"ArialMT-110\"/>\r\n     <path id=\"ArialMT-32\"/>\r\n     <path d=\"M 52.828125 42.09375 \r\nL 5.5625 42.09375 \r\nL 5.5625 50.296875 \r\nL 52.828125 50.296875 \r\nz\r\nM 52.828125 20.359375 \r\nL 5.5625 20.359375 \r\nL 5.5625 28.5625 \r\nL 52.828125 28.5625 \r\nz\r\n\" id=\"ArialMT-61\"/>\r\n     <path d=\"M 4.15625 35.296875 \r\nQ 4.15625 48 6.765625 55.734375 \r\nQ 9.375 63.484375 14.515625 67.671875 \r\nQ 19.671875 71.875 27.484375 71.875 \r\nQ 33.25 71.875 37.59375 69.546875 \r\nQ 41.9375 67.234375 44.765625 62.859375 \r\nQ 47.609375 58.5 49.21875 52.21875 \r\nQ 50.828125 45.953125 50.828125 35.296875 \r\nQ 50.828125 22.703125 48.234375 14.96875 \r\nQ 45.65625 7.234375 40.5 3 \r\nQ 35.359375 -1.21875 27.484375 -1.21875 \r\nQ 17.140625 -1.21875 11.234375 6.203125 \r\nQ 4.15625 15.140625 4.15625 35.296875 \r\nz\r\nM 13.1875 35.296875 \r\nQ 13.1875 17.671875 17.3125 11.828125 \r\nQ 21.4375 6 27.484375 6 \r\nQ 33.546875 6 37.671875 11.859375 \r\nQ 41.796875 17.71875 41.796875 35.296875 \r\nQ 41.796875 52.984375 37.671875 58.78125 \r\nQ 33.546875 64.59375 27.390625 64.59375 \r\nQ 21.34375 64.59375 17.71875 59.46875 \r\nQ 13.1875 52.9375 13.1875 35.296875 \r\nz\r\n\" id=\"ArialMT-48\"/>\r\n     <path d=\"M 9.078125 0 \r\nL 9.078125 10.015625 \r\nL 19.09375 10.015625 \r\nL 19.09375 0 \r\nz\r\n\" id=\"ArialMT-46\"/>\r\n    </defs>\r\n    <g style=\"fill:#262626;\" transform=\"translate(150.312217 202.012292)scale(0.05585 -0.05585)\">\r\n     <use xlink:href=\"#ArialMT-103\"/>\r\n     <use x=\"55.615234\" xlink:href=\"#ArialMT-105\"/>\r\n     <use x=\"77.832031\" xlink:href=\"#ArialMT-110\"/>\r\n     <use x=\"133.447266\" xlink:href=\"#ArialMT-105\"/>\r\n     <use x=\"155.664062\" xlink:href=\"#ArialMT-32\"/>\r\n     <use x=\"183.447266\" xlink:href=\"#ArialMT-61\"/>\r\n     <use x=\"241.845703\" xlink:href=\"#ArialMT-32\"/>\r\n     <use x=\"269.628906\" xlink:href=\"#ArialMT-48\"/>\r\n     <use x=\"325.244141\" xlink:href=\"#ArialMT-46\"/>\r\n     <use x=\"353.027344\" xlink:href=\"#ArialMT-48\"/>\r\n    </g>\r\n    <!-- samples = 2 -->\r\n    <defs>\r\n     <path d=\"M 3.078125 15.484375 \r\nL 11.765625 16.84375 \r\nQ 12.5 11.625 15.84375 8.84375 \r\nQ 19.1875 6.0625 25.203125 6.0625 \r\nQ 31.25 6.0625 34.171875 8.515625 \r\nQ 37.109375 10.984375 37.109375 14.3125 \r\nQ 37.109375 17.28125 34.515625 19 \r\nQ 32.71875 20.171875 25.53125 21.96875 \r\nQ 15.875 24.421875 12.140625 26.203125 \r\nQ 8.40625 27.984375 6.46875 31.125 \r\nQ 4.546875 34.28125 4.546875 38.09375 \r\nQ 4.546875 41.546875 6.125 44.5 \r\nQ 7.71875 47.46875 10.453125 49.421875 \r\nQ 12.5 50.921875 16.03125 51.96875 \r\nQ 19.578125 53.03125 23.640625 53.03125 \r\nQ 29.734375 53.03125 34.34375 51.265625 \r\nQ 38.96875 49.515625 41.15625 46.5 \r\nQ 43.359375 43.5 44.1875 38.484375 \r\nL 35.59375 37.3125 \r\nQ 35.015625 41.3125 32.203125 43.546875 \r\nQ 29.390625 45.796875 24.265625 45.796875 \r\nQ 18.21875 45.796875 15.625 43.796875 \r\nQ 13.03125 41.796875 13.03125 39.109375 \r\nQ 13.03125 37.40625 14.109375 36.03125 \r\nQ 15.1875 34.625 17.484375 33.6875 \r\nQ 18.796875 33.203125 25.25 31.453125 \r\nQ 34.578125 28.953125 38.25 27.359375 \r\nQ 41.9375 25.78125 44.03125 22.75 \r\nQ 46.140625 19.734375 46.140625 15.234375 \r\nQ 46.140625 10.84375 43.578125 6.953125 \r\nQ 41.015625 3.078125 36.171875 0.953125 \r\nQ 31.34375 -1.171875 25.25 -1.171875 \r\nQ 15.140625 -1.171875 9.84375 3.03125 \r\nQ 4.546875 7.234375 3.078125 15.484375 \r\nz\r\n\" id=\"ArialMT-115\"/>\r\n     <path d=\"M 40.4375 6.390625 \r\nQ 35.546875 2.25 31.03125 0.53125 \r\nQ 26.515625 -1.171875 21.34375 -1.171875 \r\nQ 12.796875 -1.171875 8.203125 3 \r\nQ 3.609375 7.171875 3.609375 13.671875 \r\nQ 3.609375 17.484375 5.34375 20.625 \r\nQ 7.078125 23.78125 9.890625 25.6875 \r\nQ 12.703125 27.59375 16.21875 28.5625 \r\nQ 18.796875 29.25 24.03125 29.890625 \r\nQ 34.671875 31.15625 39.703125 32.90625 \r\nQ 39.75 34.71875 39.75 35.203125 \r\nQ 39.75 40.578125 37.25 42.78125 \r\nQ 33.890625 45.75 27.25 45.75 \r\nQ 21.046875 45.75 18.09375 43.578125 \r\nQ 15.140625 41.40625 13.71875 35.890625 \r\nL 5.125 37.0625 \r\nQ 6.296875 42.578125 8.984375 45.96875 \r\nQ 11.671875 49.359375 16.75 51.1875 \r\nQ 21.828125 53.03125 28.515625 53.03125 \r\nQ 35.15625 53.03125 39.296875 51.46875 \r\nQ 43.453125 49.90625 45.40625 47.53125 \r\nQ 47.359375 45.171875 48.140625 41.546875 \r\nQ 48.578125 39.3125 48.578125 33.453125 \r\nL 48.578125 21.734375 \r\nQ 48.578125 9.46875 49.140625 6.21875 \r\nQ 49.703125 2.984375 51.375 0 \r\nL 42.1875 0 \r\nQ 40.828125 2.734375 40.4375 6.390625 \r\nz\r\nM 39.703125 26.03125 \r\nQ 34.90625 24.078125 25.34375 22.703125 \r\nQ 19.921875 21.921875 17.671875 20.9375 \r\nQ 15.4375 19.96875 14.203125 18.09375 \r\nQ 12.984375 16.21875 12.984375 13.921875 \r\nQ 12.984375 10.40625 15.640625 8.0625 \r\nQ 18.3125 5.71875 23.4375 5.71875 \r\nQ 28.515625 5.71875 32.46875 7.9375 \r\nQ 36.421875 10.15625 38.28125 14.015625 \r\nQ 39.703125 17 39.703125 22.796875 \r\nz\r\n\" id=\"ArialMT-97\"/>\r\n     <path d=\"M 6.59375 0 \r\nL 6.59375 51.859375 \r\nL 14.453125 51.859375 \r\nL 14.453125 44.578125 \r\nQ 16.890625 48.390625 20.9375 50.703125 \r\nQ 25 53.03125 30.171875 53.03125 \r\nQ 35.9375 53.03125 39.625 50.640625 \r\nQ 43.3125 48.25 44.828125 43.953125 \r\nQ 50.984375 53.03125 60.84375 53.03125 \r\nQ 68.5625 53.03125 72.703125 48.75 \r\nQ 76.859375 44.484375 76.859375 35.59375 \r\nL 76.859375 0 \r\nL 68.109375 0 \r\nL 68.109375 32.671875 \r\nQ 68.109375 37.9375 67.25 40.25 \r\nQ 66.40625 42.578125 64.15625 43.984375 \r\nQ 61.921875 45.40625 58.890625 45.40625 \r\nQ 53.421875 45.40625 49.796875 41.765625 \r\nQ 46.1875 38.140625 46.1875 30.125 \r\nL 46.1875 0 \r\nL 37.40625 0 \r\nL 37.40625 33.6875 \r\nQ 37.40625 39.546875 35.25 42.46875 \r\nQ 33.109375 45.40625 28.21875 45.40625 \r\nQ 24.515625 45.40625 21.359375 43.453125 \r\nQ 18.21875 41.5 16.796875 37.734375 \r\nQ 15.375 33.984375 15.375 26.90625 \r\nL 15.375 0 \r\nz\r\n\" id=\"ArialMT-109\"/>\r\n     <path d=\"M 6.59375 -19.875 \r\nL 6.59375 51.859375 \r\nL 14.59375 51.859375 \r\nL 14.59375 45.125 \r\nQ 17.4375 49.078125 21 51.046875 \r\nQ 24.5625 53.03125 29.640625 53.03125 \r\nQ 36.28125 53.03125 41.359375 49.609375 \r\nQ 46.4375 46.1875 49.015625 39.953125 \r\nQ 51.609375 33.734375 51.609375 26.3125 \r\nQ 51.609375 18.359375 48.75 11.984375 \r\nQ 45.90625 5.609375 40.453125 2.21875 \r\nQ 35.015625 -1.171875 29 -1.171875 \r\nQ 24.609375 -1.171875 21.109375 0.6875 \r\nQ 17.625 2.546875 15.375 5.375 \r\nL 15.375 -19.875 \r\nz\r\nM 14.546875 25.640625 \r\nQ 14.546875 15.625 18.59375 10.84375 \r\nQ 22.65625 6.0625 28.421875 6.0625 \r\nQ 34.28125 6.0625 38.453125 11.015625 \r\nQ 42.625 15.96875 42.625 26.375 \r\nQ 42.625 36.28125 38.546875 41.203125 \r\nQ 34.46875 46.140625 28.8125 46.140625 \r\nQ 23.1875 46.140625 18.859375 40.890625 \r\nQ 14.546875 35.640625 14.546875 25.640625 \r\nz\r\n\" id=\"ArialMT-112\"/>\r\n     <path d=\"M 6.390625 0 \r\nL 6.390625 71.578125 \r\nL 15.1875 71.578125 \r\nL 15.1875 0 \r\nz\r\n\" id=\"ArialMT-108\"/>\r\n     <path d=\"M 42.09375 16.703125 \r\nL 51.171875 15.578125 \r\nQ 49.03125 7.625 43.21875 3.21875 \r\nQ 37.40625 -1.171875 28.375 -1.171875 \r\nQ 17 -1.171875 10.328125 5.828125 \r\nQ 3.65625 12.84375 3.65625 25.484375 \r\nQ 3.65625 38.578125 10.390625 45.796875 \r\nQ 17.140625 53.03125 27.875 53.03125 \r\nQ 38.28125 53.03125 44.875 45.953125 \r\nQ 51.46875 38.875 51.46875 26.03125 \r\nQ 51.46875 25.25 51.421875 23.6875 \r\nL 12.75 23.6875 \r\nQ 13.234375 15.140625 17.578125 10.59375 \r\nQ 21.921875 6.0625 28.421875 6.0625 \r\nQ 33.25 6.0625 36.671875 8.59375 \r\nQ 40.09375 11.140625 42.09375 16.703125 \r\nz\r\nM 13.234375 30.90625 \r\nL 42.1875 30.90625 \r\nQ 41.609375 37.453125 38.875 40.71875 \r\nQ 34.671875 45.796875 27.984375 45.796875 \r\nQ 21.921875 45.796875 17.796875 41.75 \r\nQ 13.671875 37.703125 13.234375 30.90625 \r\nz\r\n\" id=\"ArialMT-101\"/>\r\n     <path d=\"M 50.34375 8.453125 \r\nL 50.34375 0 \r\nL 3.03125 0 \r\nQ 2.9375 3.171875 4.046875 6.109375 \r\nQ 5.859375 10.9375 9.828125 15.625 \r\nQ 13.8125 20.3125 21.34375 26.46875 \r\nQ 33.015625 36.03125 37.109375 41.625 \r\nQ 41.21875 47.21875 41.21875 52.203125 \r\nQ 41.21875 57.421875 37.46875 61 \r\nQ 33.734375 64.59375 27.734375 64.59375 \r\nQ 21.390625 64.59375 17.578125 60.78125 \r\nQ 13.765625 56.984375 13.71875 50.25 \r\nL 4.6875 51.171875 \r\nQ 5.609375 61.28125 11.65625 66.578125 \r\nQ 17.71875 71.875 27.9375 71.875 \r\nQ 38.234375 71.875 44.234375 66.15625 \r\nQ 50.25 60.453125 50.25 52 \r\nQ 50.25 47.703125 48.484375 43.546875 \r\nQ 46.734375 39.40625 42.65625 34.8125 \r\nQ 38.578125 30.21875 29.109375 22.21875 \r\nQ 21.1875 15.578125 18.9375 13.203125 \r\nQ 16.703125 10.84375 15.234375 8.453125 \r\nz\r\n\" id=\"ArialMT-50\"/>\r\n    </defs>\r\n    <g style=\"fill:#262626;\" transform=\"translate(146.5899 208.004825)scale(0.05585 -0.05585)\">\r\n     <use xlink:href=\"#ArialMT-115\"/>\r\n     <use x=\"50\" xlink:href=\"#ArialMT-97\"/>\r\n     <use x=\"105.615234\" xlink:href=\"#ArialMT-109\"/>\r\n     <use x=\"188.916016\" xlink:href=\"#ArialMT-112\"/>\r\n     <use x=\"244.53125\" xlink:href=\"#ArialMT-108\"/>\r\n     <use x=\"266.748047\" xlink:href=\"#ArialMT-101\"/>\r\n     <use x=\"322.363281\" xlink:href=\"#ArialMT-115\"/>\r\n     <use x=\"372.363281\" xlink:href=\"#ArialMT-32\"/>\r\n     <use x=\"400.146484\" xlink:href=\"#ArialMT-61\"/>\r\n     <use x=\"458.544922\" xlink:href=\"#ArialMT-32\"/>\r\n     <use x=\"486.328125\" xlink:href=\"#ArialMT-50\"/>\r\n    </g>\r\n    <!-- value = [0, 2, 0] -->\r\n    <defs>\r\n     <path d=\"M 21 0 \r\nL 1.265625 51.859375 \r\nL 10.546875 51.859375 \r\nL 21.6875 20.796875 \r\nQ 23.484375 15.765625 25 10.359375 \r\nQ 26.171875 14.453125 28.265625 20.21875 \r\nL 39.796875 51.859375 \r\nL 48.828125 51.859375 \r\nL 29.203125 0 \r\nz\r\n\" id=\"ArialMT-118\"/>\r\n     <path d=\"M 40.578125 0 \r\nL 40.578125 7.625 \r\nQ 34.515625 -1.171875 24.125 -1.171875 \r\nQ 19.53125 -1.171875 15.546875 0.578125 \r\nQ 11.578125 2.34375 9.640625 5 \r\nQ 7.71875 7.671875 6.9375 11.53125 \r\nQ 6.390625 14.109375 6.390625 19.734375 \r\nL 6.390625 51.859375 \r\nL 15.1875 51.859375 \r\nL 15.1875 23.09375 \r\nQ 15.1875 16.21875 15.71875 13.8125 \r\nQ 16.546875 10.359375 19.234375 8.375 \r\nQ 21.921875 6.390625 25.875 6.390625 \r\nQ 29.828125 6.390625 33.296875 8.421875 \r\nQ 36.765625 10.453125 38.203125 13.9375 \r\nQ 39.65625 17.4375 39.65625 24.078125 \r\nL 39.65625 51.859375 \r\nL 48.4375 51.859375 \r\nL 48.4375 0 \r\nz\r\n\" id=\"ArialMT-117\"/>\r\n     <path d=\"M 6.78125 -19.875 \r\nL 6.78125 71.578125 \r\nL 26.171875 71.578125 \r\nL 26.171875 64.3125 \r\nL 15.578125 64.3125 \r\nL 15.578125 -12.59375 \r\nL 26.171875 -12.59375 \r\nL 26.171875 -19.875 \r\nz\r\n\" id=\"ArialMT-91\"/>\r\n     <path d=\"M 8.890625 0 \r\nL 8.890625 10.015625 \r\nL 18.890625 10.015625 \r\nL 18.890625 0 \r\nQ 18.890625 -5.515625 16.9375 -8.90625 \r\nQ 14.984375 -12.3125 10.75 -14.15625 \r\nL 8.296875 -10.40625 \r\nQ 11.078125 -9.1875 12.390625 -6.8125 \r\nQ 13.71875 -4.4375 13.875 0 \r\nz\r\n\" id=\"ArialMT-44\"/>\r\n     <path d=\"M 21.296875 -19.875 \r\nL 1.90625 -19.875 \r\nL 1.90625 -12.59375 \r\nL 12.5 -12.59375 \r\nL 12.5 64.3125 \r\nL 1.90625 64.3125 \r\nL 1.90625 71.578125 \r\nL 21.296875 71.578125 \r\nz\r\n\" id=\"ArialMT-93\"/>\r\n    </defs>\r\n    <g style=\"fill:#262626;\" transform=\"translate(142.551681 213.93191)scale(0.05585 -0.05585)\">\r\n     <use xlink:href=\"#ArialMT-118\"/>\r\n     <use x=\"50\" xlink:href=\"#ArialMT-97\"/>\r\n     <use x=\"105.615234\" xlink:href=\"#ArialMT-108\"/>\r\n     <use x=\"127.832031\" xlink:href=\"#ArialMT-117\"/>\r\n     <use x=\"183.447266\" xlink:href=\"#ArialMT-101\"/>\r\n     <use x=\"239.0625\" xlink:href=\"#ArialMT-32\"/>\r\n     <use x=\"266.845703\" xlink:href=\"#ArialMT-61\"/>\r\n     <use x=\"325.244141\" xlink:href=\"#ArialMT-32\"/>\r\n     <use x=\"353.027344\" xlink:href=\"#ArialMT-91\"/>\r\n     <use x=\"380.810547\" xlink:href=\"#ArialMT-48\"/>\r\n     <use x=\"436.425781\" xlink:href=\"#ArialMT-44\"/>\r\n     <use x=\"464.208984\" xlink:href=\"#ArialMT-32\"/>\r\n     <use x=\"491.992188\" xlink:href=\"#ArialMT-50\"/>\r\n     <use x=\"547.607422\" xlink:href=\"#ArialMT-44\"/>\r\n     <use x=\"575.390625\" xlink:href=\"#ArialMT-32\"/>\r\n     <use x=\"603.173828\" xlink:href=\"#ArialMT-48\"/>\r\n     <use x=\"658.789062\" xlink:href=\"#ArialMT-93\"/>\r\n    </g>\r\n   </g>\r\n   <g id=\"patch_4\">\r\n    <path d=\"M 203.659283 193.051306 \r\nQ 196.470252 182.935129 188.633575 171.907604 \r\n\" style=\"fill:none;stroke:#262626;stroke-linecap:round;\"/>\r\n    <path d=\"M 203.275692 190.583248 \r\nL 203.659283 193.051306 \r\nL 201.454682 191.877344 \r\n\" style=\"fill:none;stroke:#262626;stroke-linecap:round;\"/>\r\n   </g>\r\n   <g id=\"text_2\">\r\n    <g id=\"patch_5\">\r\n     <path d=\"M 192.216322 216.884981 \r\nL 234.245217 216.884981 \r\nL 234.245217 196.08957 \r\nL 192.216322 196.08957 \r\nz\r\n\" style=\"fill:#eaeaf2;stroke:#ffffff;stroke-linejoin:miter;\"/>\r\n    </g>\r\n    <!-- gini = 0.0 -->\r\n    <g style=\"fill:#262626;\" transform=\"translate(201.81991 202.012292)scale(0.05585 -0.05585)\">\r\n     <use xlink:href=\"#ArialMT-103\"/>\r\n     <use x=\"55.615234\" xlink:href=\"#ArialMT-105\"/>\r\n     <use x=\"77.832031\" xlink:href=\"#ArialMT-110\"/>\r\n     <use x=\"133.447266\" xlink:href=\"#ArialMT-105\"/>\r\n     <use x=\"155.664062\" xlink:href=\"#ArialMT-32\"/>\r\n     <use x=\"183.447266\" xlink:href=\"#ArialMT-61\"/>\r\n     <use x=\"241.845703\" xlink:href=\"#ArialMT-32\"/>\r\n     <use x=\"269.628906\" xlink:href=\"#ArialMT-48\"/>\r\n     <use x=\"325.244141\" xlink:href=\"#ArialMT-46\"/>\r\n     <use x=\"353.027344\" xlink:href=\"#ArialMT-48\"/>\r\n    </g>\r\n    <!-- samples = 1 -->\r\n    <defs>\r\n     <path d=\"M 37.25 0 \r\nL 28.46875 0 \r\nL 28.46875 56 \r\nQ 25.296875 52.984375 20.140625 49.953125 \r\nQ 14.984375 46.921875 10.890625 45.40625 \r\nL 10.890625 53.90625 \r\nQ 18.265625 57.375 23.78125 62.296875 \r\nQ 29.296875 67.234375 31.59375 71.875 \r\nL 37.25 71.875 \r\nz\r\n\" id=\"ArialMT-49\"/>\r\n    </defs>\r\n    <g style=\"fill:#262626;\" transform=\"translate(198.097592 208.004825)scale(0.05585 -0.05585)\">\r\n     <use xlink:href=\"#ArialMT-115\"/>\r\n     <use x=\"50\" xlink:href=\"#ArialMT-97\"/>\r\n     <use x=\"105.615234\" xlink:href=\"#ArialMT-109\"/>\r\n     <use x=\"188.916016\" xlink:href=\"#ArialMT-112\"/>\r\n     <use x=\"244.53125\" xlink:href=\"#ArialMT-108\"/>\r\n     <use x=\"266.748047\" xlink:href=\"#ArialMT-101\"/>\r\n     <use x=\"322.363281\" xlink:href=\"#ArialMT-115\"/>\r\n     <use x=\"372.363281\" xlink:href=\"#ArialMT-32\"/>\r\n     <use x=\"400.146484\" xlink:href=\"#ArialMT-61\"/>\r\n     <use x=\"458.544922\" xlink:href=\"#ArialMT-32\"/>\r\n     <use x=\"486.328125\" xlink:href=\"#ArialMT-49\"/>\r\n    </g>\r\n    <!-- value = [0, 0, 1] -->\r\n    <g style=\"fill:#262626;\" transform=\"translate(194.059373 213.93191)scale(0.05585 -0.05585)\">\r\n     <use xlink:href=\"#ArialMT-118\"/>\r\n     <use x=\"50\" xlink:href=\"#ArialMT-97\"/>\r\n     <use x=\"105.615234\" xlink:href=\"#ArialMT-108\"/>\r\n     <use x=\"127.832031\" xlink:href=\"#ArialMT-117\"/>\r\n     <use x=\"183.447266\" xlink:href=\"#ArialMT-101\"/>\r\n     <use x=\"239.0625\" xlink:href=\"#ArialMT-32\"/>\r\n     <use x=\"266.845703\" xlink:href=\"#ArialMT-61\"/>\r\n     <use x=\"325.244141\" xlink:href=\"#ArialMT-32\"/>\r\n     <use x=\"353.027344\" xlink:href=\"#ArialMT-91\"/>\r\n     <use x=\"380.810547\" xlink:href=\"#ArialMT-48\"/>\r\n     <use x=\"436.425781\" xlink:href=\"#ArialMT-44\"/>\r\n     <use x=\"464.208984\" xlink:href=\"#ArialMT-32\"/>\r\n     <use x=\"491.992188\" xlink:href=\"#ArialMT-48\"/>\r\n     <use x=\"547.607422\" xlink:href=\"#ArialMT-44\"/>\r\n     <use x=\"575.390625\" xlink:href=\"#ArialMT-32\"/>\r\n     <use x=\"603.173828\" xlink:href=\"#ArialMT-49\"/>\r\n     <use x=\"658.789062\" xlink:href=\"#ArialMT-93\"/>\r\n    </g>\r\n   </g>\r\n   <g id=\"patch_6\">\r\n    <path d=\"M 42.51945 156.819585 \r\nQ 49.71122 146.699553 57.550636 135.668173 \r\n\" style=\"fill:none;stroke:#262626;stroke-linecap:round;\"/>\r\n    <path d=\"M 44.72405 155.645622 \r\nL 42.51945 156.819585 \r\nL 42.90304 154.351527 \r\n\" style=\"fill:none;stroke:#262626;stroke-linecap:round;\"/>\r\n   </g>\r\n   <g id=\"text_3\">\r\n    <g id=\"patch_7\">\r\n     <path d=\"M 10.386506 180.635032 \r\nL 55.521186 180.635032 \r\nL 55.521186 159.859518 \r\nL 10.386506 159.859518 \r\nz\r\n\" style=\"fill:#eaeaf2;stroke:#ffffff;stroke-linejoin:miter;\"/>\r\n    </g>\r\n    <!-- gini = 0.0 -->\r\n    <g style=\"fill:#262626;\" transform=\"translate(21.542986 165.78224)scale(0.05585 -0.05585)\">\r\n     <use xlink:href=\"#ArialMT-103\"/>\r\n     <use x=\"55.615234\" xlink:href=\"#ArialMT-105\"/>\r\n     <use x=\"77.832031\" xlink:href=\"#ArialMT-110\"/>\r\n     <use x=\"133.447266\" xlink:href=\"#ArialMT-105\"/>\r\n     <use x=\"155.664062\" xlink:href=\"#ArialMT-32\"/>\r\n     <use x=\"183.447266\" xlink:href=\"#ArialMT-61\"/>\r\n     <use x=\"241.845703\" xlink:href=\"#ArialMT-32\"/>\r\n     <use x=\"269.628906\" xlink:href=\"#ArialMT-48\"/>\r\n     <use x=\"325.244141\" xlink:href=\"#ArialMT-46\"/>\r\n     <use x=\"353.027344\" xlink:href=\"#ArialMT-48\"/>\r\n    </g>\r\n    <!-- samples = 47 -->\r\n    <defs>\r\n     <path d=\"M 32.328125 0 \r\nL 32.328125 17.140625 \r\nL 1.265625 17.140625 \r\nL 1.265625 25.203125 \r\nL 33.9375 71.578125 \r\nL 41.109375 71.578125 \r\nL 41.109375 25.203125 \r\nL 50.78125 25.203125 \r\nL 50.78125 17.140625 \r\nL 41.109375 17.140625 \r\nL 41.109375 0 \r\nz\r\nM 32.328125 25.203125 \r\nL 32.328125 57.46875 \r\nL 9.90625 25.203125 \r\nz\r\n\" id=\"ArialMT-52\"/>\r\n     <path d=\"M 4.734375 62.203125 \r\nL 4.734375 70.65625 \r\nL 51.078125 70.65625 \r\nL 51.078125 63.8125 \r\nQ 44.234375 56.546875 37.515625 44.484375 \r\nQ 30.8125 32.421875 27.15625 19.671875 \r\nQ 24.515625 10.6875 23.78125 0 \r\nL 14.75 0 \r\nQ 14.890625 8.453125 18.0625 20.40625 \r\nQ 21.234375 32.375 27.171875 43.484375 \r\nQ 33.109375 54.59375 39.796875 62.203125 \r\nz\r\n\" id=\"ArialMT-55\"/>\r\n    </defs>\r\n    <g style=\"fill:#262626;\" transform=\"translate(16.267776 171.754877)scale(0.05585 -0.05585)\">\r\n     <use xlink:href=\"#ArialMT-115\"/>\r\n     <use x=\"50\" xlink:href=\"#ArialMT-97\"/>\r\n     <use x=\"105.615234\" xlink:href=\"#ArialMT-109\"/>\r\n     <use x=\"188.916016\" xlink:href=\"#ArialMT-112\"/>\r\n     <use x=\"244.53125\" xlink:href=\"#ArialMT-108\"/>\r\n     <use x=\"266.748047\" xlink:href=\"#ArialMT-101\"/>\r\n     <use x=\"322.363281\" xlink:href=\"#ArialMT-115\"/>\r\n     <use x=\"372.363281\" xlink:href=\"#ArialMT-32\"/>\r\n     <use x=\"400.146484\" xlink:href=\"#ArialMT-61\"/>\r\n     <use x=\"458.544922\" xlink:href=\"#ArialMT-32\"/>\r\n     <use x=\"486.328125\" xlink:href=\"#ArialMT-52\"/>\r\n     <use x=\"541.943359\" xlink:href=\"#ArialMT-55\"/>\r\n    </g>\r\n    <!-- value = [0, 47, 0] -->\r\n    <g style=\"fill:#262626;\" transform=\"translate(12.229557 177.681962)scale(0.05585 -0.05585)\">\r\n     <use xlink:href=\"#ArialMT-118\"/>\r\n     <use x=\"50\" xlink:href=\"#ArialMT-97\"/>\r\n     <use x=\"105.615234\" xlink:href=\"#ArialMT-108\"/>\r\n     <use x=\"127.832031\" xlink:href=\"#ArialMT-117\"/>\r\n     <use x=\"183.447266\" xlink:href=\"#ArialMT-101\"/>\r\n     <use x=\"239.0625\" xlink:href=\"#ArialMT-32\"/>\r\n     <use x=\"266.845703\" xlink:href=\"#ArialMT-61\"/>\r\n     <use x=\"325.244141\" xlink:href=\"#ArialMT-32\"/>\r\n     <use x=\"353.027344\" xlink:href=\"#ArialMT-91\"/>\r\n     <use x=\"380.810547\" xlink:href=\"#ArialMT-48\"/>\r\n     <use x=\"436.425781\" xlink:href=\"#ArialMT-44\"/>\r\n     <use x=\"464.208984\" xlink:href=\"#ArialMT-32\"/>\r\n     <use x=\"491.992188\" xlink:href=\"#ArialMT-52\"/>\r\n     <use x=\"547.607422\" xlink:href=\"#ArialMT-55\"/>\r\n     <use x=\"603.222656\" xlink:href=\"#ArialMT-44\"/>\r\n     <use x=\"631.005859\" xlink:href=\"#ArialMT-32\"/>\r\n     <use x=\"658.789062\" xlink:href=\"#ArialMT-48\"/>\r\n     <use x=\"714.404297\" xlink:href=\"#ArialMT-93\"/>\r\n    </g>\r\n   </g>\r\n   <g id=\"patch_8\">\r\n    <path d=\"M 74.890052 156.811306 \r\nQ 67.701021 146.695129 59.864344 135.667604 \r\n\" style=\"fill:none;stroke:#262626;stroke-linecap:round;\"/>\r\n    <path d=\"M 74.506462 154.343248 \r\nL 74.890052 156.811306 \r\nL 72.685451 155.637344 \r\n\" style=\"fill:none;stroke:#262626;stroke-linecap:round;\"/>\r\n   </g>\r\n   <g id=\"text_4\">\r\n    <g id=\"patch_9\">\r\n     <path d=\"M 63.447091 180.644981 \r\nL 105.475986 180.644981 \r\nL 105.475986 159.84957 \r\nL 63.447091 159.84957 \r\nz\r\n\" style=\"fill:#eaeaf2;stroke:#ffffff;stroke-linejoin:miter;\"/>\r\n    </g>\r\n    <!-- gini = 0.0 -->\r\n    <g style=\"fill:#262626;\" transform=\"translate(73.050679 165.772292)scale(0.05585 -0.05585)\">\r\n     <use xlink:href=\"#ArialMT-103\"/>\r\n     <use x=\"55.615234\" xlink:href=\"#ArialMT-105\"/>\r\n     <use x=\"77.832031\" xlink:href=\"#ArialMT-110\"/>\r\n     <use x=\"133.447266\" xlink:href=\"#ArialMT-105\"/>\r\n     <use x=\"155.664062\" xlink:href=\"#ArialMT-32\"/>\r\n     <use x=\"183.447266\" xlink:href=\"#ArialMT-61\"/>\r\n     <use x=\"241.845703\" xlink:href=\"#ArialMT-32\"/>\r\n     <use x=\"269.628906\" xlink:href=\"#ArialMT-48\"/>\r\n     <use x=\"325.244141\" xlink:href=\"#ArialMT-46\"/>\r\n     <use x=\"353.027344\" xlink:href=\"#ArialMT-48\"/>\r\n    </g>\r\n    <!-- samples = 1 -->\r\n    <g style=\"fill:#262626;\" transform=\"translate(69.328361 171.764825)scale(0.05585 -0.05585)\">\r\n     <use xlink:href=\"#ArialMT-115\"/>\r\n     <use x=\"50\" xlink:href=\"#ArialMT-97\"/>\r\n     <use x=\"105.615234\" xlink:href=\"#ArialMT-109\"/>\r\n     <use x=\"188.916016\" xlink:href=\"#ArialMT-112\"/>\r\n     <use x=\"244.53125\" xlink:href=\"#ArialMT-108\"/>\r\n     <use x=\"266.748047\" xlink:href=\"#ArialMT-101\"/>\r\n     <use x=\"322.363281\" xlink:href=\"#ArialMT-115\"/>\r\n     <use x=\"372.363281\" xlink:href=\"#ArialMT-32\"/>\r\n     <use x=\"400.146484\" xlink:href=\"#ArialMT-61\"/>\r\n     <use x=\"458.544922\" xlink:href=\"#ArialMT-32\"/>\r\n     <use x=\"486.328125\" xlink:href=\"#ArialMT-49\"/>\r\n    </g>\r\n    <!-- value = [0, 0, 1] -->\r\n    <g style=\"fill:#262626;\" transform=\"translate(65.290142 177.69191)scale(0.05585 -0.05585)\">\r\n     <use xlink:href=\"#ArialMT-118\"/>\r\n     <use x=\"50\" xlink:href=\"#ArialMT-97\"/>\r\n     <use x=\"105.615234\" xlink:href=\"#ArialMT-108\"/>\r\n     <use x=\"127.832031\" xlink:href=\"#ArialMT-117\"/>\r\n     <use x=\"183.447266\" xlink:href=\"#ArialMT-101\"/>\r\n     <use x=\"239.0625\" xlink:href=\"#ArialMT-32\"/>\r\n     <use x=\"266.845703\" xlink:href=\"#ArialMT-61\"/>\r\n     <use x=\"325.244141\" xlink:href=\"#ArialMT-32\"/>\r\n     <use x=\"353.027344\" xlink:href=\"#ArialMT-91\"/>\r\n     <use x=\"380.810547\" xlink:href=\"#ArialMT-48\"/>\r\n     <use x=\"436.425781\" xlink:href=\"#ArialMT-44\"/>\r\n     <use x=\"464.208984\" xlink:href=\"#ArialMT-32\"/>\r\n     <use x=\"491.992188\" xlink:href=\"#ArialMT-48\"/>\r\n     <use x=\"547.607422\" xlink:href=\"#ArialMT-44\"/>\r\n     <use x=\"575.390625\" xlink:href=\"#ArialMT-32\"/>\r\n     <use x=\"603.173828\" xlink:href=\"#ArialMT-49\"/>\r\n     <use x=\"658.789062\" xlink:href=\"#ArialMT-93\"/>\r\n    </g>\r\n   </g>\r\n   <g id=\"patch_10\">\r\n    <path d=\"M 145.540717 156.811306 \r\nQ 152.729748 146.695129 160.566425 135.667604 \r\n\" style=\"fill:none;stroke:#262626;stroke-linecap:round;\"/>\r\n    <path d=\"M 147.745318 155.637344 \r\nL 145.540717 156.811306 \r\nL 145.924308 154.343248 \r\n\" style=\"fill:none;stroke:#262626;stroke-linecap:round;\"/>\r\n   </g>\r\n   <g id=\"text_5\">\r\n    <g id=\"patch_11\">\r\n     <path d=\"M 114.954783 180.644981 \r\nL 156.983678 180.644981 \r\nL 156.983678 159.84957 \r\nL 114.954783 159.84957 \r\nz\r\n\" style=\"fill:#eaeaf2;stroke:#ffffff;stroke-linejoin:miter;\"/>\r\n    </g>\r\n    <!-- gini = 0.0 -->\r\n    <g style=\"fill:#262626;\" transform=\"translate(124.558371 165.772292)scale(0.05585 -0.05585)\">\r\n     <use xlink:href=\"#ArialMT-103\"/>\r\n     <use x=\"55.615234\" xlink:href=\"#ArialMT-105\"/>\r\n     <use x=\"77.832031\" xlink:href=\"#ArialMT-110\"/>\r\n     <use x=\"133.447266\" xlink:href=\"#ArialMT-105\"/>\r\n     <use x=\"155.664062\" xlink:href=\"#ArialMT-32\"/>\r\n     <use x=\"183.447266\" xlink:href=\"#ArialMT-61\"/>\r\n     <use x=\"241.845703\" xlink:href=\"#ArialMT-32\"/>\r\n     <use x=\"269.628906\" xlink:href=\"#ArialMT-48\"/>\r\n     <use x=\"325.244141\" xlink:href=\"#ArialMT-46\"/>\r\n     <use x=\"353.027344\" xlink:href=\"#ArialMT-48\"/>\r\n    </g>\r\n    <!-- samples = 3 -->\r\n    <defs>\r\n     <path d=\"M 4.203125 18.890625 \r\nL 12.984375 20.0625 \r\nQ 14.5 12.59375 18.140625 9.296875 \r\nQ 21.78125 6 27 6 \r\nQ 33.203125 6 37.46875 10.296875 \r\nQ 41.75 14.59375 41.75 20.953125 \r\nQ 41.75 27 37.796875 30.921875 \r\nQ 33.84375 34.859375 27.734375 34.859375 \r\nQ 25.25 34.859375 21.53125 33.890625 \r\nL 22.515625 41.609375 \r\nQ 23.390625 41.5 23.921875 41.5 \r\nQ 29.546875 41.5 34.03125 44.421875 \r\nQ 38.53125 47.359375 38.53125 53.46875 \r\nQ 38.53125 58.296875 35.25 61.46875 \r\nQ 31.984375 64.65625 26.8125 64.65625 \r\nQ 21.6875 64.65625 18.265625 61.421875 \r\nQ 14.84375 58.203125 13.875 51.765625 \r\nL 5.078125 53.328125 \r\nQ 6.6875 62.15625 12.390625 67.015625 \r\nQ 18.109375 71.875 26.609375 71.875 \r\nQ 32.46875 71.875 37.390625 69.359375 \r\nQ 42.328125 66.84375 44.9375 62.5 \r\nQ 47.5625 58.15625 47.5625 53.265625 \r\nQ 47.5625 48.640625 45.0625 44.828125 \r\nQ 42.578125 41.015625 37.703125 38.765625 \r\nQ 44.046875 37.3125 47.5625 32.6875 \r\nQ 51.078125 28.078125 51.078125 21.140625 \r\nQ 51.078125 11.765625 44.234375 5.25 \r\nQ 37.40625 -1.265625 26.953125 -1.265625 \r\nQ 17.53125 -1.265625 11.296875 4.34375 \r\nQ 5.078125 9.96875 4.203125 18.890625 \r\nz\r\n\" id=\"ArialMT-51\"/>\r\n    </defs>\r\n    <g style=\"fill:#262626;\" transform=\"translate(120.836054 171.764825)scale(0.05585 -0.05585)\">\r\n     <use xlink:href=\"#ArialMT-115\"/>\r\n     <use x=\"50\" xlink:href=\"#ArialMT-97\"/>\r\n     <use x=\"105.615234\" xlink:href=\"#ArialMT-109\"/>\r\n     <use x=\"188.916016\" xlink:href=\"#ArialMT-112\"/>\r\n     <use x=\"244.53125\" xlink:href=\"#ArialMT-108\"/>\r\n     <use x=\"266.748047\" xlink:href=\"#ArialMT-101\"/>\r\n     <use x=\"322.363281\" xlink:href=\"#ArialMT-115\"/>\r\n     <use x=\"372.363281\" xlink:href=\"#ArialMT-32\"/>\r\n     <use x=\"400.146484\" xlink:href=\"#ArialMT-61\"/>\r\n     <use x=\"458.544922\" xlink:href=\"#ArialMT-32\"/>\r\n     <use x=\"486.328125\" xlink:href=\"#ArialMT-51\"/>\r\n    </g>\r\n    <!-- value = [0, 0, 3] -->\r\n    <g style=\"fill:#262626;\" transform=\"translate(116.797835 177.69191)scale(0.05585 -0.05585)\">\r\n     <use xlink:href=\"#ArialMT-118\"/>\r\n     <use x=\"50\" xlink:href=\"#ArialMT-97\"/>\r\n     <use x=\"105.615234\" xlink:href=\"#ArialMT-108\"/>\r\n     <use x=\"127.832031\" xlink:href=\"#ArialMT-117\"/>\r\n     <use x=\"183.447266\" xlink:href=\"#ArialMT-101\"/>\r\n     <use x=\"239.0625\" xlink:href=\"#ArialMT-32\"/>\r\n     <use x=\"266.845703\" xlink:href=\"#ArialMT-61\"/>\r\n     <use x=\"325.244141\" xlink:href=\"#ArialMT-32\"/>\r\n     <use x=\"353.027344\" xlink:href=\"#ArialMT-91\"/>\r\n     <use x=\"380.810547\" xlink:href=\"#ArialMT-48\"/>\r\n     <use x=\"436.425781\" xlink:href=\"#ArialMT-44\"/>\r\n     <use x=\"464.208984\" xlink:href=\"#ArialMT-32\"/>\r\n     <use x=\"491.992188\" xlink:href=\"#ArialMT-48\"/>\r\n     <use x=\"547.607422\" xlink:href=\"#ArialMT-44\"/>\r\n     <use x=\"575.390625\" xlink:href=\"#ArialMT-32\"/>\r\n     <use x=\"603.173828\" xlink:href=\"#ArialMT-51\"/>\r\n     <use x=\"658.789062\" xlink:href=\"#ArialMT-93\"/>\r\n    </g>\r\n   </g>\r\n   <g id=\"patch_12\">\r\n    <path d=\"M 175.846515 153.914057 \r\nQ 169.688319 145.248438 162.882477 135.671472 \r\n\" style=\"fill:none;stroke:#262626;stroke-linecap:round;\"/>\r\n    <path d=\"M 175.462925 151.445999 \r\nL 175.846515 153.914057 \r\nL 173.641914 152.740094 \r\n\" style=\"fill:none;stroke:#262626;stroke-linecap:round;\"/>\r\n   </g>\r\n   <g id=\"text_6\">\r\n    <g id=\"patch_13\">\r\n     <path d=\"M 166.462476 183.608523 \r\nL 208.49137 183.608523 \r\nL 208.49137 156.951477 \r\nL 166.462476 156.951477 \r\nz\r\n\" style=\"fill:#eaeaf2;stroke:#ffffff;stroke-linejoin:miter;\"/>\r\n    </g>\r\n    <!-- X[2] &lt;= 5.45 -->\r\n    <defs>\r\n     <path d=\"M 0.4375 0 \r\nL 28.125 37.3125 \r\nL 3.71875 71.578125 \r\nL 14.984375 71.578125 \r\nL 27.984375 53.21875 \r\nQ 32.03125 47.515625 33.734375 44.4375 \r\nQ 36.140625 48.34375 39.40625 52.59375 \r\nL 53.8125 71.578125 \r\nL 64.109375 71.578125 \r\nL 38.96875 37.84375 \r\nL 66.0625 0 \r\nL 54.34375 0 \r\nL 36.328125 25.53125 \r\nQ 34.8125 27.734375 33.203125 30.328125 \r\nQ 30.8125 26.421875 29.78125 24.953125 \r\nL 11.8125 0 \r\nz\r\n\" id=\"ArialMT-88\"/>\r\n     <path d=\"M 5.46875 31.296875 \r\nL 5.46875 39.5 \r\nL 52.875 59.515625 \r\nL 52.875 50.78125 \r\nL 15.28125 35.359375 \r\nL 52.875 19.78125 \r\nL 52.875 11.03125 \r\nz\r\n\" id=\"ArialMT-60\"/>\r\n     <path d=\"M 4.15625 18.75 \r\nL 13.375 19.53125 \r\nQ 14.40625 12.796875 18.140625 9.390625 \r\nQ 21.875 6 27.15625 6 \r\nQ 33.5 6 37.890625 10.78125 \r\nQ 42.28125 15.578125 42.28125 23.484375 \r\nQ 42.28125 31 38.0625 35.34375 \r\nQ 33.84375 39.703125 27 39.703125 \r\nQ 22.75 39.703125 19.328125 37.765625 \r\nQ 15.921875 35.84375 13.96875 32.765625 \r\nL 5.71875 33.84375 \r\nL 12.640625 70.609375 \r\nL 48.25 70.609375 \r\nL 48.25 62.203125 \r\nL 19.671875 62.203125 \r\nL 15.828125 42.96875 \r\nQ 22.265625 47.46875 29.34375 47.46875 \r\nQ 38.71875 47.46875 45.15625 40.96875 \r\nQ 51.609375 34.46875 51.609375 24.265625 \r\nQ 51.609375 14.546875 45.953125 7.46875 \r\nQ 39.0625 -1.21875 27.15625 -1.21875 \r\nQ 17.390625 -1.21875 11.203125 4.25 \r\nQ 5.03125 9.71875 4.15625 18.75 \r\nz\r\n\" id=\"ArialMT-53\"/>\r\n    </defs>\r\n    <g style=\"fill:#262626;\" transform=\"translate(172.261716 162.808749)scale(0.05585 -0.05585)\">\r\n     <use xlink:href=\"#ArialMT-88\"/>\r\n     <use x=\"66.699219\" xlink:href=\"#ArialMT-91\"/>\r\n     <use x=\"94.482422\" xlink:href=\"#ArialMT-50\"/>\r\n     <use x=\"150.097656\" xlink:href=\"#ArialMT-93\"/>\r\n     <use x=\"177.880859\" xlink:href=\"#ArialMT-32\"/>\r\n     <use x=\"205.664062\" xlink:href=\"#ArialMT-60\"/>\r\n     <use x=\"264.0625\" xlink:href=\"#ArialMT-61\"/>\r\n     <use x=\"322.460938\" xlink:href=\"#ArialMT-32\"/>\r\n     <use x=\"350.244141\" xlink:href=\"#ArialMT-53\"/>\r\n     <use x=\"405.859375\" xlink:href=\"#ArialMT-46\"/>\r\n     <use x=\"433.642578\" xlink:href=\"#ArialMT-52\"/>\r\n     <use x=\"489.257812\" xlink:href=\"#ArialMT-53\"/>\r\n    </g>\r\n    <!-- gini = 0.444 -->\r\n    <g style=\"fill:#262626;\" transform=\"translate(172.960278 168.735834)scale(0.05585 -0.05585)\">\r\n     <use xlink:href=\"#ArialMT-103\"/>\r\n     <use x=\"55.615234\" xlink:href=\"#ArialMT-105\"/>\r\n     <use x=\"77.832031\" xlink:href=\"#ArialMT-110\"/>\r\n     <use x=\"133.447266\" xlink:href=\"#ArialMT-105\"/>\r\n     <use x=\"155.664062\" xlink:href=\"#ArialMT-32\"/>\r\n     <use x=\"183.447266\" xlink:href=\"#ArialMT-61\"/>\r\n     <use x=\"241.845703\" xlink:href=\"#ArialMT-32\"/>\r\n     <use x=\"269.628906\" xlink:href=\"#ArialMT-48\"/>\r\n     <use x=\"325.244141\" xlink:href=\"#ArialMT-46\"/>\r\n     <use x=\"353.027344\" xlink:href=\"#ArialMT-52\"/>\r\n     <use x=\"408.642578\" xlink:href=\"#ArialMT-52\"/>\r\n     <use x=\"464.257812\" xlink:href=\"#ArialMT-52\"/>\r\n    </g>\r\n    <!-- samples = 3 -->\r\n    <g style=\"fill:#262626;\" transform=\"translate(172.343746 174.728368)scale(0.05585 -0.05585)\">\r\n     <use xlink:href=\"#ArialMT-115\"/>\r\n     <use x=\"50\" xlink:href=\"#ArialMT-97\"/>\r\n     <use x=\"105.615234\" xlink:href=\"#ArialMT-109\"/>\r\n     <use x=\"188.916016\" xlink:href=\"#ArialMT-112\"/>\r\n     <use x=\"244.53125\" xlink:href=\"#ArialMT-108\"/>\r\n     <use x=\"266.748047\" xlink:href=\"#ArialMT-101\"/>\r\n     <use x=\"322.363281\" xlink:href=\"#ArialMT-115\"/>\r\n     <use x=\"372.363281\" xlink:href=\"#ArialMT-32\"/>\r\n     <use x=\"400.146484\" xlink:href=\"#ArialMT-61\"/>\r\n     <use x=\"458.544922\" xlink:href=\"#ArialMT-32\"/>\r\n     <use x=\"486.328125\" xlink:href=\"#ArialMT-51\"/>\r\n    </g>\r\n    <!-- value = [0, 2, 1] -->\r\n    <g style=\"fill:#262626;\" transform=\"translate(168.305527 180.655452)scale(0.05585 -0.05585)\">\r\n     <use xlink:href=\"#ArialMT-118\"/>\r\n     <use x=\"50\" xlink:href=\"#ArialMT-97\"/>\r\n     <use x=\"105.615234\" xlink:href=\"#ArialMT-108\"/>\r\n     <use x=\"127.832031\" xlink:href=\"#ArialMT-117\"/>\r\n     <use x=\"183.447266\" xlink:href=\"#ArialMT-101\"/>\r\n     <use x=\"239.0625\" xlink:href=\"#ArialMT-32\"/>\r\n     <use x=\"266.845703\" xlink:href=\"#ArialMT-61\"/>\r\n     <use x=\"325.244141\" xlink:href=\"#ArialMT-32\"/>\r\n     <use x=\"353.027344\" xlink:href=\"#ArialMT-91\"/>\r\n     <use x=\"380.810547\" xlink:href=\"#ArialMT-48\"/>\r\n     <use x=\"436.425781\" xlink:href=\"#ArialMT-44\"/>\r\n     <use x=\"464.208984\" xlink:href=\"#ArialMT-32\"/>\r\n     <use x=\"491.992188\" xlink:href=\"#ArialMT-50\"/>\r\n     <use x=\"547.607422\" xlink:href=\"#ArialMT-44\"/>\r\n     <use x=\"575.390625\" xlink:href=\"#ArialMT-32\"/>\r\n     <use x=\"603.173828\" xlink:href=\"#ArialMT-49\"/>\r\n     <use x=\"658.789062\" xlink:href=\"#ArialMT-93\"/>\r\n    </g>\r\n   </g>\r\n   <g id=\"patch_14\">\r\n    <path d=\"M 248.556102 156.811306 \r\nQ 255.745133 146.695129 263.58181 135.667604 \r\n\" style=\"fill:none;stroke:#262626;stroke-linecap:round;\"/>\r\n    <path d=\"M 250.760703 155.637344 \r\nL 248.556102 156.811306 \r\nL 248.939692 154.343248 \r\n\" style=\"fill:none;stroke:#262626;stroke-linecap:round;\"/>\r\n   </g>\r\n   <g id=\"text_7\">\r\n    <g id=\"patch_15\">\r\n     <path d=\"M 217.970168 180.644981 \r\nL 259.999063 180.644981 \r\nL 259.999063 159.84957 \r\nL 217.970168 159.84957 \r\nz\r\n\" style=\"fill:#eaeaf2;stroke:#ffffff;stroke-linejoin:miter;\"/>\r\n    </g>\r\n    <!-- gini = 0.0 -->\r\n    <g style=\"fill:#262626;\" transform=\"translate(227.573756 165.772292)scale(0.05585 -0.05585)\">\r\n     <use xlink:href=\"#ArialMT-103\"/>\r\n     <use x=\"55.615234\" xlink:href=\"#ArialMT-105\"/>\r\n     <use x=\"77.832031\" xlink:href=\"#ArialMT-110\"/>\r\n     <use x=\"133.447266\" xlink:href=\"#ArialMT-105\"/>\r\n     <use x=\"155.664062\" xlink:href=\"#ArialMT-32\"/>\r\n     <use x=\"183.447266\" xlink:href=\"#ArialMT-61\"/>\r\n     <use x=\"241.845703\" xlink:href=\"#ArialMT-32\"/>\r\n     <use x=\"269.628906\" xlink:href=\"#ArialMT-48\"/>\r\n     <use x=\"325.244141\" xlink:href=\"#ArialMT-46\"/>\r\n     <use x=\"353.027344\" xlink:href=\"#ArialMT-48\"/>\r\n    </g>\r\n    <!-- samples = 1 -->\r\n    <g style=\"fill:#262626;\" transform=\"translate(223.851438 171.764825)scale(0.05585 -0.05585)\">\r\n     <use xlink:href=\"#ArialMT-115\"/>\r\n     <use x=\"50\" xlink:href=\"#ArialMT-97\"/>\r\n     <use x=\"105.615234\" xlink:href=\"#ArialMT-109\"/>\r\n     <use x=\"188.916016\" xlink:href=\"#ArialMT-112\"/>\r\n     <use x=\"244.53125\" xlink:href=\"#ArialMT-108\"/>\r\n     <use x=\"266.748047\" xlink:href=\"#ArialMT-101\"/>\r\n     <use x=\"322.363281\" xlink:href=\"#ArialMT-115\"/>\r\n     <use x=\"372.363281\" xlink:href=\"#ArialMT-32\"/>\r\n     <use x=\"400.146484\" xlink:href=\"#ArialMT-61\"/>\r\n     <use x=\"458.544922\" xlink:href=\"#ArialMT-32\"/>\r\n     <use x=\"486.328125\" xlink:href=\"#ArialMT-49\"/>\r\n    </g>\r\n    <!-- value = [0, 1, 0] -->\r\n    <g style=\"fill:#262626;\" transform=\"translate(219.813219 177.69191)scale(0.05585 -0.05585)\">\r\n     <use xlink:href=\"#ArialMT-118\"/>\r\n     <use x=\"50\" xlink:href=\"#ArialMT-97\"/>\r\n     <use x=\"105.615234\" xlink:href=\"#ArialMT-108\"/>\r\n     <use x=\"127.832031\" xlink:href=\"#ArialMT-117\"/>\r\n     <use x=\"183.447266\" xlink:href=\"#ArialMT-101\"/>\r\n     <use x=\"239.0625\" xlink:href=\"#ArialMT-32\"/>\r\n     <use x=\"266.845703\" xlink:href=\"#ArialMT-61\"/>\r\n     <use x=\"325.244141\" xlink:href=\"#ArialMT-32\"/>\r\n     <use x=\"353.027344\" xlink:href=\"#ArialMT-91\"/>\r\n     <use x=\"380.810547\" xlink:href=\"#ArialMT-48\"/>\r\n     <use x=\"436.425781\" xlink:href=\"#ArialMT-44\"/>\r\n     <use x=\"464.208984\" xlink:href=\"#ArialMT-32\"/>\r\n     <use x=\"491.992188\" xlink:href=\"#ArialMT-49\"/>\r\n     <use x=\"547.607422\" xlink:href=\"#ArialMT-44\"/>\r\n     <use x=\"575.390625\" xlink:href=\"#ArialMT-32\"/>\r\n     <use x=\"603.173828\" xlink:href=\"#ArialMT-48\"/>\r\n     <use x=\"658.789062\" xlink:href=\"#ArialMT-93\"/>\r\n    </g>\r\n   </g>\r\n   <g id=\"patch_16\">\r\n    <path d=\"M 280.920821 156.811306 \r\nQ 273.731791 146.695129 265.895114 135.667604 \r\n\" style=\"fill:none;stroke:#262626;stroke-linecap:round;\"/>\r\n    <path d=\"M 280.537231 154.343248 \r\nL 280.920821 156.811306 \r\nL 278.716221 155.637344 \r\n\" style=\"fill:none;stroke:#262626;stroke-linecap:round;\"/>\r\n   </g>\r\n   <g id=\"text_8\">\r\n    <g id=\"patch_17\">\r\n     <path d=\"M 269.47786 180.644981 \r\nL 311.506755 180.644981 \r\nL 311.506755 159.84957 \r\nL 269.47786 159.84957 \r\nz\r\n\" style=\"fill:#eaeaf2;stroke:#ffffff;stroke-linejoin:miter;\"/>\r\n    </g>\r\n    <!-- gini = 0.0 -->\r\n    <g style=\"fill:#262626;\" transform=\"translate(279.081448 165.772292)scale(0.05585 -0.05585)\">\r\n     <use xlink:href=\"#ArialMT-103\"/>\r\n     <use x=\"55.615234\" xlink:href=\"#ArialMT-105\"/>\r\n     <use x=\"77.832031\" xlink:href=\"#ArialMT-110\"/>\r\n     <use x=\"133.447266\" xlink:href=\"#ArialMT-105\"/>\r\n     <use x=\"155.664062\" xlink:href=\"#ArialMT-32\"/>\r\n     <use x=\"183.447266\" xlink:href=\"#ArialMT-61\"/>\r\n     <use x=\"241.845703\" xlink:href=\"#ArialMT-32\"/>\r\n     <use x=\"269.628906\" xlink:href=\"#ArialMT-48\"/>\r\n     <use x=\"325.244141\" xlink:href=\"#ArialMT-46\"/>\r\n     <use x=\"353.027344\" xlink:href=\"#ArialMT-48\"/>\r\n    </g>\r\n    <!-- samples = 2 -->\r\n    <g style=\"fill:#262626;\" transform=\"translate(275.359131 171.764825)scale(0.05585 -0.05585)\">\r\n     <use xlink:href=\"#ArialMT-115\"/>\r\n     <use x=\"50\" xlink:href=\"#ArialMT-97\"/>\r\n     <use x=\"105.615234\" xlink:href=\"#ArialMT-109\"/>\r\n     <use x=\"188.916016\" xlink:href=\"#ArialMT-112\"/>\r\n     <use x=\"244.53125\" xlink:href=\"#ArialMT-108\"/>\r\n     <use x=\"266.748047\" xlink:href=\"#ArialMT-101\"/>\r\n     <use x=\"322.363281\" xlink:href=\"#ArialMT-115\"/>\r\n     <use x=\"372.363281\" xlink:href=\"#ArialMT-32\"/>\r\n     <use x=\"400.146484\" xlink:href=\"#ArialMT-61\"/>\r\n     <use x=\"458.544922\" xlink:href=\"#ArialMT-32\"/>\r\n     <use x=\"486.328125\" xlink:href=\"#ArialMT-50\"/>\r\n    </g>\r\n    <!-- value = [0, 0, 2] -->\r\n    <g style=\"fill:#262626;\" transform=\"translate(271.320911 177.69191)scale(0.05585 -0.05585)\">\r\n     <use xlink:href=\"#ArialMT-118\"/>\r\n     <use x=\"50\" xlink:href=\"#ArialMT-97\"/>\r\n     <use x=\"105.615234\" xlink:href=\"#ArialMT-108\"/>\r\n     <use x=\"127.832031\" xlink:href=\"#ArialMT-117\"/>\r\n     <use x=\"183.447266\" xlink:href=\"#ArialMT-101\"/>\r\n     <use x=\"239.0625\" xlink:href=\"#ArialMT-32\"/>\r\n     <use x=\"266.845703\" xlink:href=\"#ArialMT-61\"/>\r\n     <use x=\"325.244141\" xlink:href=\"#ArialMT-32\"/>\r\n     <use x=\"353.027344\" xlink:href=\"#ArialMT-91\"/>\r\n     <use x=\"380.810547\" xlink:href=\"#ArialMT-48\"/>\r\n     <use x=\"436.425781\" xlink:href=\"#ArialMT-44\"/>\r\n     <use x=\"464.208984\" xlink:href=\"#ArialMT-32\"/>\r\n     <use x=\"491.992188\" xlink:href=\"#ArialMT-48\"/>\r\n     <use x=\"547.607422\" xlink:href=\"#ArialMT-44\"/>\r\n     <use x=\"575.390625\" xlink:href=\"#ArialMT-32\"/>\r\n     <use x=\"603.173828\" xlink:href=\"#ArialMT-50\"/>\r\n     <use x=\"658.789062\" xlink:href=\"#ArialMT-93\"/>\r\n    </g>\r\n   </g>\r\n   <g id=\"patch_18\">\r\n    <path d=\"M 80.910975 118.41812 \r\nQ 94.288913 109.005614 108.581238 98.94976 \r\n\" style=\"fill:none;stroke:#262626;stroke-linecap:round;\"/>\r\n    <path d=\"M 83.380812 118.046155 \r\nL 80.910975 118.41812 \r\nL 82.095305 116.219072 \r\n\" style=\"fill:none;stroke:#262626;stroke-linecap:round;\"/>\r\n   </g>\r\n   <g id=\"text_9\">\r\n    <g id=\"patch_19\">\r\n     <path d=\"M 36.140352 147.368523 \r\nL 81.275032 147.368523 \r\nL 81.275032 120.711477 \r\nL 36.140352 120.711477 \r\nz\r\n\" style=\"fill:#eaeaf2;stroke:#ffffff;stroke-linejoin:miter;\"/>\r\n    </g>\r\n    <!-- X[3] &lt;= 1.65 -->\r\n    <defs>\r\n     <path d=\"M 49.75 54.046875 \r\nL 41.015625 53.375 \r\nQ 39.84375 58.546875 37.703125 60.890625 \r\nQ 34.125 64.65625 28.90625 64.65625 \r\nQ 24.703125 64.65625 21.53125 62.3125 \r\nQ 17.390625 59.28125 14.984375 53.46875 \r\nQ 12.59375 47.65625 12.5 36.921875 \r\nQ 15.671875 41.75 20.265625 44.09375 \r\nQ 24.859375 46.4375 29.890625 46.4375 \r\nQ 38.671875 46.4375 44.84375 39.96875 \r\nQ 51.03125 33.5 51.03125 23.25 \r\nQ 51.03125 16.5 48.125 10.71875 \r\nQ 45.21875 4.9375 40.140625 1.859375 \r\nQ 35.0625 -1.21875 28.609375 -1.21875 \r\nQ 17.625 -1.21875 10.6875 6.859375 \r\nQ 3.765625 14.9375 3.765625 33.5 \r\nQ 3.765625 54.25 11.421875 63.671875 \r\nQ 18.109375 71.875 29.4375 71.875 \r\nQ 37.890625 71.875 43.28125 67.140625 \r\nQ 48.6875 62.40625 49.75 54.046875 \r\nz\r\nM 13.875 23.1875 \r\nQ 13.875 18.65625 15.796875 14.5 \r\nQ 17.71875 10.359375 21.1875 8.171875 \r\nQ 24.65625 6 28.46875 6 \r\nQ 34.03125 6 38.03125 10.484375 \r\nQ 42.046875 14.984375 42.046875 22.703125 \r\nQ 42.046875 30.125 38.078125 34.390625 \r\nQ 34.125 38.671875 28.125 38.671875 \r\nQ 22.171875 38.671875 18.015625 34.390625 \r\nQ 13.875 30.125 13.875 23.1875 \r\nz\r\n\" id=\"ArialMT-54\"/>\r\n    </defs>\r\n    <g style=\"fill:#262626;\" transform=\"translate(43.492485 126.568749)scale(0.05585 -0.05585)\">\r\n     <use xlink:href=\"#ArialMT-88\"/>\r\n     <use x=\"66.699219\" xlink:href=\"#ArialMT-91\"/>\r\n     <use x=\"94.482422\" xlink:href=\"#ArialMT-51\"/>\r\n     <use x=\"150.097656\" xlink:href=\"#ArialMT-93\"/>\r\n     <use x=\"177.880859\" xlink:href=\"#ArialMT-32\"/>\r\n     <use x=\"205.664062\" xlink:href=\"#ArialMT-60\"/>\r\n     <use x=\"264.0625\" xlink:href=\"#ArialMT-61\"/>\r\n     <use x=\"322.460938\" xlink:href=\"#ArialMT-32\"/>\r\n     <use x=\"350.244141\" xlink:href=\"#ArialMT-49\"/>\r\n     <use x=\"405.859375\" xlink:href=\"#ArialMT-46\"/>\r\n     <use x=\"433.642578\" xlink:href=\"#ArialMT-54\"/>\r\n     <use x=\"489.257812\" xlink:href=\"#ArialMT-53\"/>\r\n    </g>\r\n    <!-- gini = 0.041 -->\r\n    <g style=\"fill:#262626;\" transform=\"translate(44.191047 132.495834)scale(0.05585 -0.05585)\">\r\n     <use xlink:href=\"#ArialMT-103\"/>\r\n     <use x=\"55.615234\" xlink:href=\"#ArialMT-105\"/>\r\n     <use x=\"77.832031\" xlink:href=\"#ArialMT-110\"/>\r\n     <use x=\"133.447266\" xlink:href=\"#ArialMT-105\"/>\r\n     <use x=\"155.664062\" xlink:href=\"#ArialMT-32\"/>\r\n     <use x=\"183.447266\" xlink:href=\"#ArialMT-61\"/>\r\n     <use x=\"241.845703\" xlink:href=\"#ArialMT-32\"/>\r\n     <use x=\"269.628906\" xlink:href=\"#ArialMT-48\"/>\r\n     <use x=\"325.244141\" xlink:href=\"#ArialMT-46\"/>\r\n     <use x=\"353.027344\" xlink:href=\"#ArialMT-48\"/>\r\n     <use x=\"408.642578\" xlink:href=\"#ArialMT-52\"/>\r\n     <use x=\"464.257812\" xlink:href=\"#ArialMT-49\"/>\r\n    </g>\r\n    <!-- samples = 48 -->\r\n    <defs>\r\n     <path d=\"M 17.671875 38.8125 \r\nQ 12.203125 40.828125 9.5625 44.53125 \r\nQ 6.9375 48.25 6.9375 53.421875 \r\nQ 6.9375 61.234375 12.546875 66.546875 \r\nQ 18.171875 71.875 27.484375 71.875 \r\nQ 36.859375 71.875 42.578125 66.421875 \r\nQ 48.296875 60.984375 48.296875 53.171875 \r\nQ 48.296875 48.1875 45.671875 44.5 \r\nQ 43.0625 40.828125 37.75 38.8125 \r\nQ 44.34375 36.671875 47.78125 31.875 \r\nQ 51.21875 27.09375 51.21875 20.453125 \r\nQ 51.21875 11.28125 44.71875 5.03125 \r\nQ 38.234375 -1.21875 27.640625 -1.21875 \r\nQ 17.046875 -1.21875 10.546875 5.046875 \r\nQ 4.046875 11.328125 4.046875 20.703125 \r\nQ 4.046875 27.6875 7.59375 32.390625 \r\nQ 11.140625 37.109375 17.671875 38.8125 \r\nz\r\nM 15.921875 53.71875 \r\nQ 15.921875 48.640625 19.1875 45.40625 \r\nQ 22.46875 42.1875 27.6875 42.1875 \r\nQ 32.765625 42.1875 36.015625 45.375 \r\nQ 39.265625 48.578125 39.265625 53.21875 \r\nQ 39.265625 58.0625 35.90625 61.359375 \r\nQ 32.5625 64.65625 27.59375 64.65625 \r\nQ 22.5625 64.65625 19.234375 61.421875 \r\nQ 15.921875 58.203125 15.921875 53.71875 \r\nz\r\nM 13.09375 20.65625 \r\nQ 13.09375 16.890625 14.875 13.375 \r\nQ 16.65625 9.859375 20.171875 7.921875 \r\nQ 23.6875 6 27.734375 6 \r\nQ 34.03125 6 38.125 10.046875 \r\nQ 42.234375 14.109375 42.234375 20.359375 \r\nQ 42.234375 26.703125 38.015625 30.859375 \r\nQ 33.796875 35.015625 27.4375 35.015625 \r\nQ 21.234375 35.015625 17.15625 30.90625 \r\nQ 13.09375 26.8125 13.09375 20.65625 \r\nz\r\n\" id=\"ArialMT-56\"/>\r\n    </defs>\r\n    <g style=\"fill:#262626;\" transform=\"translate(42.021622 138.488368)scale(0.05585 -0.05585)\">\r\n     <use xlink:href=\"#ArialMT-115\"/>\r\n     <use x=\"50\" xlink:href=\"#ArialMT-97\"/>\r\n     <use x=\"105.615234\" xlink:href=\"#ArialMT-109\"/>\r\n     <use x=\"188.916016\" xlink:href=\"#ArialMT-112\"/>\r\n     <use x=\"244.53125\" xlink:href=\"#ArialMT-108\"/>\r\n     <use x=\"266.748047\" xlink:href=\"#ArialMT-101\"/>\r\n     <use x=\"322.363281\" xlink:href=\"#ArialMT-115\"/>\r\n     <use x=\"372.363281\" xlink:href=\"#ArialMT-32\"/>\r\n     <use x=\"400.146484\" xlink:href=\"#ArialMT-61\"/>\r\n     <use x=\"458.544922\" xlink:href=\"#ArialMT-32\"/>\r\n     <use x=\"486.328125\" xlink:href=\"#ArialMT-52\"/>\r\n     <use x=\"541.943359\" xlink:href=\"#ArialMT-56\"/>\r\n    </g>\r\n    <!-- value = [0, 47, 1] -->\r\n    <g style=\"fill:#262626;\" transform=\"translate(37.983403 144.415452)scale(0.05585 -0.05585)\">\r\n     <use xlink:href=\"#ArialMT-118\"/>\r\n     <use x=\"50\" xlink:href=\"#ArialMT-97\"/>\r\n     <use x=\"105.615234\" xlink:href=\"#ArialMT-108\"/>\r\n     <use x=\"127.832031\" xlink:href=\"#ArialMT-117\"/>\r\n     <use x=\"183.447266\" xlink:href=\"#ArialMT-101\"/>\r\n     <use x=\"239.0625\" xlink:href=\"#ArialMT-32\"/>\r\n     <use x=\"266.845703\" xlink:href=\"#ArialMT-61\"/>\r\n     <use x=\"325.244141\" xlink:href=\"#ArialMT-32\"/>\r\n     <use x=\"353.027344\" xlink:href=\"#ArialMT-91\"/>\r\n     <use x=\"380.810547\" xlink:href=\"#ArialMT-48\"/>\r\n     <use x=\"436.425781\" xlink:href=\"#ArialMT-44\"/>\r\n     <use x=\"464.208984\" xlink:href=\"#ArialMT-32\"/>\r\n     <use x=\"491.992188\" xlink:href=\"#ArialMT-52\"/>\r\n     <use x=\"547.607422\" xlink:href=\"#ArialMT-55\"/>\r\n     <use x=\"603.222656\" xlink:href=\"#ArialMT-44\"/>\r\n     <use x=\"631.005859\" xlink:href=\"#ArialMT-32\"/>\r\n     <use x=\"658.789062\" xlink:href=\"#ArialMT-49\"/>\r\n     <use x=\"714.404297\" xlink:href=\"#ArialMT-93\"/>\r\n    </g>\r\n   </g>\r\n   <g id=\"patch_20\">\r\n    <path d=\"M 139.519794 118.41812 \r\nQ 126.141856 109.005614 111.849531 98.94976 \r\n\" style=\"fill:none;stroke:#262626;stroke-linecap:round;\"/>\r\n    <path d=\"M 138.335464 116.219072 \r\nL 139.519794 118.41812 \r\nL 137.049957 118.046155 \r\n\" style=\"fill:none;stroke:#262626;stroke-linecap:round;\"/>\r\n   </g>\r\n   <g id=\"text_10\">\r\n    <g id=\"patch_21\">\r\n     <path d=\"M 140.70863 147.368523 \r\nL 182.737524 147.368523 \r\nL 182.737524 120.711477 \r\nL 140.70863 120.711477 \r\nz\r\n\" style=\"fill:#eaeaf2;stroke:#ffffff;stroke-linejoin:miter;\"/>\r\n    </g>\r\n    <!-- X[3] &lt;= 1.55 -->\r\n    <g style=\"fill:#262626;\" transform=\"translate(146.50787 126.568749)scale(0.05585 -0.05585)\">\r\n     <use xlink:href=\"#ArialMT-88\"/>\r\n     <use x=\"66.699219\" xlink:href=\"#ArialMT-91\"/>\r\n     <use x=\"94.482422\" xlink:href=\"#ArialMT-51\"/>\r\n     <use x=\"150.097656\" xlink:href=\"#ArialMT-93\"/>\r\n     <use x=\"177.880859\" xlink:href=\"#ArialMT-32\"/>\r\n     <use x=\"205.664062\" xlink:href=\"#ArialMT-60\"/>\r\n     <use x=\"264.0625\" xlink:href=\"#ArialMT-61\"/>\r\n     <use x=\"322.460938\" xlink:href=\"#ArialMT-32\"/>\r\n     <use x=\"350.244141\" xlink:href=\"#ArialMT-49\"/>\r\n     <use x=\"405.859375\" xlink:href=\"#ArialMT-46\"/>\r\n     <use x=\"433.642578\" xlink:href=\"#ArialMT-53\"/>\r\n     <use x=\"489.257812\" xlink:href=\"#ArialMT-53\"/>\r\n    </g>\r\n    <!-- gini = 0.444 -->\r\n    <g style=\"fill:#262626;\" transform=\"translate(147.206432 132.495834)scale(0.05585 -0.05585)\">\r\n     <use xlink:href=\"#ArialMT-103\"/>\r\n     <use x=\"55.615234\" xlink:href=\"#ArialMT-105\"/>\r\n     <use x=\"77.832031\" xlink:href=\"#ArialMT-110\"/>\r\n     <use x=\"133.447266\" xlink:href=\"#ArialMT-105\"/>\r\n     <use x=\"155.664062\" xlink:href=\"#ArialMT-32\"/>\r\n     <use x=\"183.447266\" xlink:href=\"#ArialMT-61\"/>\r\n     <use x=\"241.845703\" xlink:href=\"#ArialMT-32\"/>\r\n     <use x=\"269.628906\" xlink:href=\"#ArialMT-48\"/>\r\n     <use x=\"325.244141\" xlink:href=\"#ArialMT-46\"/>\r\n     <use x=\"353.027344\" xlink:href=\"#ArialMT-52\"/>\r\n     <use x=\"408.642578\" xlink:href=\"#ArialMT-52\"/>\r\n     <use x=\"464.257812\" xlink:href=\"#ArialMT-52\"/>\r\n    </g>\r\n    <!-- samples = 6 -->\r\n    <g style=\"fill:#262626;\" transform=\"translate(146.5899 138.488368)scale(0.05585 -0.05585)\">\r\n     <use xlink:href=\"#ArialMT-115\"/>\r\n     <use x=\"50\" xlink:href=\"#ArialMT-97\"/>\r\n     <use x=\"105.615234\" xlink:href=\"#ArialMT-109\"/>\r\n     <use x=\"188.916016\" xlink:href=\"#ArialMT-112\"/>\r\n     <use x=\"244.53125\" xlink:href=\"#ArialMT-108\"/>\r\n     <use x=\"266.748047\" xlink:href=\"#ArialMT-101\"/>\r\n     <use x=\"322.363281\" xlink:href=\"#ArialMT-115\"/>\r\n     <use x=\"372.363281\" xlink:href=\"#ArialMT-32\"/>\r\n     <use x=\"400.146484\" xlink:href=\"#ArialMT-61\"/>\r\n     <use x=\"458.544922\" xlink:href=\"#ArialMT-32\"/>\r\n     <use x=\"486.328125\" xlink:href=\"#ArialMT-54\"/>\r\n    </g>\r\n    <!-- value = [0, 2, 4] -->\r\n    <g style=\"fill:#262626;\" transform=\"translate(142.551681 144.415452)scale(0.05585 -0.05585)\">\r\n     <use xlink:href=\"#ArialMT-118\"/>\r\n     <use x=\"50\" xlink:href=\"#ArialMT-97\"/>\r\n     <use x=\"105.615234\" xlink:href=\"#ArialMT-108\"/>\r\n     <use x=\"127.832031\" xlink:href=\"#ArialMT-117\"/>\r\n     <use x=\"183.447266\" xlink:href=\"#ArialMT-101\"/>\r\n     <use x=\"239.0625\" xlink:href=\"#ArialMT-32\"/>\r\n     <use x=\"266.845703\" xlink:href=\"#ArialMT-61\"/>\r\n     <use x=\"325.244141\" xlink:href=\"#ArialMT-32\"/>\r\n     <use x=\"353.027344\" xlink:href=\"#ArialMT-91\"/>\r\n     <use x=\"380.810547\" xlink:href=\"#ArialMT-48\"/>\r\n     <use x=\"436.425781\" xlink:href=\"#ArialMT-44\"/>\r\n     <use x=\"464.208984\" xlink:href=\"#ArialMT-32\"/>\r\n     <use x=\"491.992188\" xlink:href=\"#ArialMT-50\"/>\r\n     <use x=\"547.607422\" xlink:href=\"#ArialMT-44\"/>\r\n     <use x=\"575.390625\" xlink:href=\"#ArialMT-32\"/>\r\n     <use x=\"603.173828\" xlink:href=\"#ArialMT-52\"/>\r\n     <use x=\"658.789062\" xlink:href=\"#ArialMT-93\"/>\r\n    </g>\r\n   </g>\r\n   <g id=\"patch_22\">\r\n    <path d=\"M 276.36887 117.674057 \r\nQ 282.527065 109.008438 289.332907 99.431472 \r\n\" style=\"fill:none;stroke:#262626;stroke-linecap:round;\"/>\r\n    <path d=\"M 278.57347 116.500094 \r\nL 276.36887 117.674057 \r\nL 276.75246 115.205999 \r\n\" style=\"fill:none;stroke:#262626;stroke-linecap:round;\"/>\r\n   </g>\r\n   <g id=\"text_11\">\r\n    <g id=\"patch_23\">\r\n     <path d=\"M 243.724014 147.368523 \r\nL 285.752909 147.368523 \r\nL 285.752909 120.711477 \r\nL 243.724014 120.711477 \r\nz\r\n\" style=\"fill:#eaeaf2;stroke:#ffffff;stroke-linejoin:miter;\"/>\r\n    </g>\r\n    <!-- X[0] &lt;= 5.95 -->\r\n    <defs>\r\n     <path d=\"M 5.46875 16.546875 \r\nL 13.921875 17.328125 \r\nQ 14.984375 11.375 18.015625 8.6875 \r\nQ 21.046875 6 25.78125 6 \r\nQ 29.828125 6 32.875 7.859375 \r\nQ 35.9375 9.71875 37.890625 12.8125 \r\nQ 39.84375 15.921875 41.15625 21.1875 \r\nQ 42.484375 26.46875 42.484375 31.9375 \r\nQ 42.484375 32.515625 42.4375 33.6875 \r\nQ 39.796875 29.5 35.234375 26.875 \r\nQ 30.671875 24.265625 25.34375 24.265625 \r\nQ 16.453125 24.265625 10.296875 30.703125 \r\nQ 4.15625 37.15625 4.15625 47.703125 \r\nQ 4.15625 58.59375 10.578125 65.234375 \r\nQ 17 71.875 26.65625 71.875 \r\nQ 33.640625 71.875 39.421875 68.109375 \r\nQ 45.21875 64.359375 48.21875 57.390625 \r\nQ 51.21875 50.4375 51.21875 37.25 \r\nQ 51.21875 23.53125 48.234375 15.40625 \r\nQ 45.265625 7.28125 39.375 3.03125 \r\nQ 33.5 -1.21875 25.59375 -1.21875 \r\nQ 17.1875 -1.21875 11.859375 3.4375 \r\nQ 6.546875 8.109375 5.46875 16.546875 \r\nz\r\nM 41.453125 48.140625 \r\nQ 41.453125 55.71875 37.421875 60.15625 \r\nQ 33.40625 64.59375 27.734375 64.59375 \r\nQ 21.875 64.59375 17.53125 59.8125 \r\nQ 13.1875 55.03125 13.1875 47.40625 \r\nQ 13.1875 40.578125 17.3125 36.296875 \r\nQ 21.4375 32.03125 27.484375 32.03125 \r\nQ 33.59375 32.03125 37.515625 36.296875 \r\nQ 41.453125 40.578125 41.453125 48.140625 \r\nz\r\n\" id=\"ArialMT-57\"/>\r\n    </defs>\r\n    <g style=\"fill:#262626;\" transform=\"translate(249.523255 126.568749)scale(0.05585 -0.05585)\">\r\n     <use xlink:href=\"#ArialMT-88\"/>\r\n     <use x=\"66.699219\" xlink:href=\"#ArialMT-91\"/>\r\n     <use x=\"94.482422\" xlink:href=\"#ArialMT-48\"/>\r\n     <use x=\"150.097656\" xlink:href=\"#ArialMT-93\"/>\r\n     <use x=\"177.880859\" xlink:href=\"#ArialMT-32\"/>\r\n     <use x=\"205.664062\" xlink:href=\"#ArialMT-60\"/>\r\n     <use x=\"264.0625\" xlink:href=\"#ArialMT-61\"/>\r\n     <use x=\"322.460938\" xlink:href=\"#ArialMT-32\"/>\r\n     <use x=\"350.244141\" xlink:href=\"#ArialMT-53\"/>\r\n     <use x=\"405.859375\" xlink:href=\"#ArialMT-46\"/>\r\n     <use x=\"433.642578\" xlink:href=\"#ArialMT-57\"/>\r\n     <use x=\"489.257812\" xlink:href=\"#ArialMT-53\"/>\r\n    </g>\r\n    <!-- gini = 0.444 -->\r\n    <g style=\"fill:#262626;\" transform=\"translate(250.221816 132.495834)scale(0.05585 -0.05585)\">\r\n     <use xlink:href=\"#ArialMT-103\"/>\r\n     <use x=\"55.615234\" xlink:href=\"#ArialMT-105\"/>\r\n     <use x=\"77.832031\" xlink:href=\"#ArialMT-110\"/>\r\n     <use x=\"133.447266\" xlink:href=\"#ArialMT-105\"/>\r\n     <use x=\"155.664062\" xlink:href=\"#ArialMT-32\"/>\r\n     <use x=\"183.447266\" xlink:href=\"#ArialMT-61\"/>\r\n     <use x=\"241.845703\" xlink:href=\"#ArialMT-32\"/>\r\n     <use x=\"269.628906\" xlink:href=\"#ArialMT-48\"/>\r\n     <use x=\"325.244141\" xlink:href=\"#ArialMT-46\"/>\r\n     <use x=\"353.027344\" xlink:href=\"#ArialMT-52\"/>\r\n     <use x=\"408.642578\" xlink:href=\"#ArialMT-52\"/>\r\n     <use x=\"464.257812\" xlink:href=\"#ArialMT-52\"/>\r\n    </g>\r\n    <!-- samples = 3 -->\r\n    <g style=\"fill:#262626;\" transform=\"translate(249.605284 138.488368)scale(0.05585 -0.05585)\">\r\n     <use xlink:href=\"#ArialMT-115\"/>\r\n     <use x=\"50\" xlink:href=\"#ArialMT-97\"/>\r\n     <use x=\"105.615234\" xlink:href=\"#ArialMT-109\"/>\r\n     <use x=\"188.916016\" xlink:href=\"#ArialMT-112\"/>\r\n     <use x=\"244.53125\" xlink:href=\"#ArialMT-108\"/>\r\n     <use x=\"266.748047\" xlink:href=\"#ArialMT-101\"/>\r\n     <use x=\"322.363281\" xlink:href=\"#ArialMT-115\"/>\r\n     <use x=\"372.363281\" xlink:href=\"#ArialMT-32\"/>\r\n     <use x=\"400.146484\" xlink:href=\"#ArialMT-61\"/>\r\n     <use x=\"458.544922\" xlink:href=\"#ArialMT-32\"/>\r\n     <use x=\"486.328125\" xlink:href=\"#ArialMT-51\"/>\r\n    </g>\r\n    <!-- value = [0, 1, 2] -->\r\n    <g style=\"fill:#262626;\" transform=\"translate(245.567065 144.415452)scale(0.05585 -0.05585)\">\r\n     <use xlink:href=\"#ArialMT-118\"/>\r\n     <use x=\"50\" xlink:href=\"#ArialMT-97\"/>\r\n     <use x=\"105.615234\" xlink:href=\"#ArialMT-108\"/>\r\n     <use x=\"127.832031\" xlink:href=\"#ArialMT-117\"/>\r\n     <use x=\"183.447266\" xlink:href=\"#ArialMT-101\"/>\r\n     <use x=\"239.0625\" xlink:href=\"#ArialMT-32\"/>\r\n     <use x=\"266.845703\" xlink:href=\"#ArialMT-61\"/>\r\n     <use x=\"325.244141\" xlink:href=\"#ArialMT-32\"/>\r\n     <use x=\"353.027344\" xlink:href=\"#ArialMT-91\"/>\r\n     <use x=\"380.810547\" xlink:href=\"#ArialMT-48\"/>\r\n     <use x=\"436.425781\" xlink:href=\"#ArialMT-44\"/>\r\n     <use x=\"464.208984\" xlink:href=\"#ArialMT-32\"/>\r\n     <use x=\"491.992188\" xlink:href=\"#ArialMT-49\"/>\r\n     <use x=\"547.607422\" xlink:href=\"#ArialMT-44\"/>\r\n     <use x=\"575.390625\" xlink:href=\"#ArialMT-32\"/>\r\n     <use x=\"603.173828\" xlink:href=\"#ArialMT-50\"/>\r\n     <use x=\"658.789062\" xlink:href=\"#ArialMT-93\"/>\r\n    </g>\r\n   </g>\r\n   <g id=\"patch_24\">\r\n    <path d=\"M 306.674667 120.571306 \r\nQ 299.485637 110.455129 291.64896 99.427604 \r\n\" style=\"fill:none;stroke:#262626;stroke-linecap:round;\"/>\r\n    <path d=\"M 306.291077 118.103248 \r\nL 306.674667 120.571306 \r\nL 304.470067 119.397344 \r\n\" style=\"fill:none;stroke:#262626;stroke-linecap:round;\"/>\r\n   </g>\r\n   <g id=\"text_12\">\r\n    <g id=\"patch_25\">\r\n     <path d=\"M 293.678814 144.404981 \r\nL 338.813494 144.404981 \r\nL 338.813494 123.60957 \r\nL 293.678814 123.60957 \r\nz\r\n\" style=\"fill:#eaeaf2;stroke:#ffffff;stroke-linejoin:miter;\"/>\r\n    </g>\r\n    <!-- gini = 0.0 -->\r\n    <g style=\"fill:#262626;\" transform=\"translate(304.835294 129.532292)scale(0.05585 -0.05585)\">\r\n     <use xlink:href=\"#ArialMT-103\"/>\r\n     <use x=\"55.615234\" xlink:href=\"#ArialMT-105\"/>\r\n     <use x=\"77.832031\" xlink:href=\"#ArialMT-110\"/>\r\n     <use x=\"133.447266\" xlink:href=\"#ArialMT-105\"/>\r\n     <use x=\"155.664062\" xlink:href=\"#ArialMT-32\"/>\r\n     <use x=\"183.447266\" xlink:href=\"#ArialMT-61\"/>\r\n     <use x=\"241.845703\" xlink:href=\"#ArialMT-32\"/>\r\n     <use x=\"269.628906\" xlink:href=\"#ArialMT-48\"/>\r\n     <use x=\"325.244141\" xlink:href=\"#ArialMT-46\"/>\r\n     <use x=\"353.027344\" xlink:href=\"#ArialMT-48\"/>\r\n    </g>\r\n    <!-- samples = 43 -->\r\n    <g style=\"fill:#262626;\" transform=\"translate(299.560084 135.524825)scale(0.05585 -0.05585)\">\r\n     <use xlink:href=\"#ArialMT-115\"/>\r\n     <use x=\"50\" xlink:href=\"#ArialMT-97\"/>\r\n     <use x=\"105.615234\" xlink:href=\"#ArialMT-109\"/>\r\n     <use x=\"188.916016\" xlink:href=\"#ArialMT-112\"/>\r\n     <use x=\"244.53125\" xlink:href=\"#ArialMT-108\"/>\r\n     <use x=\"266.748047\" xlink:href=\"#ArialMT-101\"/>\r\n     <use x=\"322.363281\" xlink:href=\"#ArialMT-115\"/>\r\n     <use x=\"372.363281\" xlink:href=\"#ArialMT-32\"/>\r\n     <use x=\"400.146484\" xlink:href=\"#ArialMT-61\"/>\r\n     <use x=\"458.544922\" xlink:href=\"#ArialMT-32\"/>\r\n     <use x=\"486.328125\" xlink:href=\"#ArialMT-52\"/>\r\n     <use x=\"541.943359\" xlink:href=\"#ArialMT-51\"/>\r\n    </g>\r\n    <!-- value = [0, 0, 43] -->\r\n    <g style=\"fill:#262626;\" transform=\"translate(295.521865 141.45191)scale(0.05585 -0.05585)\">\r\n     <use xlink:href=\"#ArialMT-118\"/>\r\n     <use x=\"50\" xlink:href=\"#ArialMT-97\"/>\r\n     <use x=\"105.615234\" xlink:href=\"#ArialMT-108\"/>\r\n     <use x=\"127.832031\" xlink:href=\"#ArialMT-117\"/>\r\n     <use x=\"183.447266\" xlink:href=\"#ArialMT-101\"/>\r\n     <use x=\"239.0625\" xlink:href=\"#ArialMT-32\"/>\r\n     <use x=\"266.845703\" xlink:href=\"#ArialMT-61\"/>\r\n     <use x=\"325.244141\" xlink:href=\"#ArialMT-32\"/>\r\n     <use x=\"353.027344\" xlink:href=\"#ArialMT-91\"/>\r\n     <use x=\"380.810547\" xlink:href=\"#ArialMT-48\"/>\r\n     <use x=\"436.425781\" xlink:href=\"#ArialMT-44\"/>\r\n     <use x=\"464.208984\" xlink:href=\"#ArialMT-32\"/>\r\n     <use x=\"491.992188\" xlink:href=\"#ArialMT-48\"/>\r\n     <use x=\"547.607422\" xlink:href=\"#ArialMT-44\"/>\r\n     <use x=\"575.390625\" xlink:href=\"#ArialMT-32\"/>\r\n     <use x=\"603.173828\" xlink:href=\"#ArialMT-52\"/>\r\n     <use x=\"658.789062\" xlink:href=\"#ArialMT-51\"/>\r\n     <use x=\"714.404297\" xlink:href=\"#ArialMT-93\"/>\r\n    </g>\r\n   </g>\r\n   <g id=\"patch_26\">\r\n    <path d=\"M 136.172735 87.363896 \r\nQ 166.815149 75.04417 198.494898 62.307387 \r\n\" style=\"fill:none;stroke:#262626;stroke-linecap:round;\"/>\r\n    <path d=\"M 138.662159 87.566926 \r\nL 136.172735 87.363896 \r\nL 137.828813 85.494175 \r\n\" style=\"fill:none;stroke:#262626;stroke-linecap:round;\"/>\r\n   </g>\r\n   <g id=\"text_13\">\r\n    <g id=\"patch_27\">\r\n     <path d=\"M 87.648045 111.118575 \r\nL 132.782725 111.118575 \r\nL 132.782725 84.481425 \r\nL 87.648045 84.481425 \r\nz\r\n\" style=\"fill:#eaeaf2;stroke:#ffffff;stroke-linejoin:miter;\"/>\r\n    </g>\r\n    <!-- X[2] &lt;= 4.95 -->\r\n    <g style=\"fill:#262626;\" transform=\"translate(95.000178 90.338697)scale(0.05585 -0.05585)\">\r\n     <use xlink:href=\"#ArialMT-88\"/>\r\n     <use x=\"66.699219\" xlink:href=\"#ArialMT-91\"/>\r\n     <use x=\"94.482422\" xlink:href=\"#ArialMT-50\"/>\r\n     <use x=\"150.097656\" xlink:href=\"#ArialMT-93\"/>\r\n     <use x=\"177.880859\" xlink:href=\"#ArialMT-32\"/>\r\n     <use x=\"205.664062\" xlink:href=\"#ArialMT-60\"/>\r\n     <use x=\"264.0625\" xlink:href=\"#ArialMT-61\"/>\r\n     <use x=\"322.460938\" xlink:href=\"#ArialMT-32\"/>\r\n     <use x=\"350.244141\" xlink:href=\"#ArialMT-52\"/>\r\n     <use x=\"405.859375\" xlink:href=\"#ArialMT-46\"/>\r\n     <use x=\"433.642578\" xlink:href=\"#ArialMT-57\"/>\r\n     <use x=\"489.257812\" xlink:href=\"#ArialMT-53\"/>\r\n    </g>\r\n    <!-- gini = 0.168 -->\r\n    <g style=\"fill:#262626;\" transform=\"translate(95.698739 96.265782)scale(0.05585 -0.05585)\">\r\n     <use xlink:href=\"#ArialMT-103\"/>\r\n     <use x=\"55.615234\" xlink:href=\"#ArialMT-105\"/>\r\n     <use x=\"77.832031\" xlink:href=\"#ArialMT-110\"/>\r\n     <use x=\"133.447266\" xlink:href=\"#ArialMT-105\"/>\r\n     <use x=\"155.664062\" xlink:href=\"#ArialMT-32\"/>\r\n     <use x=\"183.447266\" xlink:href=\"#ArialMT-61\"/>\r\n     <use x=\"241.845703\" xlink:href=\"#ArialMT-32\"/>\r\n     <use x=\"269.628906\" xlink:href=\"#ArialMT-48\"/>\r\n     <use x=\"325.244141\" xlink:href=\"#ArialMT-46\"/>\r\n     <use x=\"353.027344\" xlink:href=\"#ArialMT-49\"/>\r\n     <use x=\"408.642578\" xlink:href=\"#ArialMT-54\"/>\r\n     <use x=\"464.257812\" xlink:href=\"#ArialMT-56\"/>\r\n    </g>\r\n    <!-- samples = 54 -->\r\n    <g style=\"fill:#262626;\" transform=\"translate(93.529315 102.23842)scale(0.05585 -0.05585)\">\r\n     <use xlink:href=\"#ArialMT-115\"/>\r\n     <use x=\"50\" xlink:href=\"#ArialMT-97\"/>\r\n     <use x=\"105.615234\" xlink:href=\"#ArialMT-109\"/>\r\n     <use x=\"188.916016\" xlink:href=\"#ArialMT-112\"/>\r\n     <use x=\"244.53125\" xlink:href=\"#ArialMT-108\"/>\r\n     <use x=\"266.748047\" xlink:href=\"#ArialMT-101\"/>\r\n     <use x=\"322.363281\" xlink:href=\"#ArialMT-115\"/>\r\n     <use x=\"372.363281\" xlink:href=\"#ArialMT-32\"/>\r\n     <use x=\"400.146484\" xlink:href=\"#ArialMT-61\"/>\r\n     <use x=\"458.544922\" xlink:href=\"#ArialMT-32\"/>\r\n     <use x=\"486.328125\" xlink:href=\"#ArialMT-53\"/>\r\n     <use x=\"541.943359\" xlink:href=\"#ArialMT-52\"/>\r\n    </g>\r\n    <!-- value = [0, 49, 5] -->\r\n    <g style=\"fill:#262626;\" transform=\"translate(89.491096 108.165504)scale(0.05585 -0.05585)\">\r\n     <use xlink:href=\"#ArialMT-118\"/>\r\n     <use x=\"50\" xlink:href=\"#ArialMT-97\"/>\r\n     <use x=\"105.615234\" xlink:href=\"#ArialMT-108\"/>\r\n     <use x=\"127.832031\" xlink:href=\"#ArialMT-117\"/>\r\n     <use x=\"183.447266\" xlink:href=\"#ArialMT-101\"/>\r\n     <use x=\"239.0625\" xlink:href=\"#ArialMT-32\"/>\r\n     <use x=\"266.845703\" xlink:href=\"#ArialMT-61\"/>\r\n     <use x=\"325.244141\" xlink:href=\"#ArialMT-32\"/>\r\n     <use x=\"353.027344\" xlink:href=\"#ArialMT-91\"/>\r\n     <use x=\"380.810547\" xlink:href=\"#ArialMT-48\"/>\r\n     <use x=\"436.425781\" xlink:href=\"#ArialMT-44\"/>\r\n     <use x=\"464.208984\" xlink:href=\"#ArialMT-32\"/>\r\n     <use x=\"491.992188\" xlink:href=\"#ArialMT-52\"/>\r\n     <use x=\"547.607422\" xlink:href=\"#ArialMT-57\"/>\r\n     <use x=\"603.222656\" xlink:href=\"#ArialMT-44\"/>\r\n     <use x=\"631.005859\" xlink:href=\"#ArialMT-32\"/>\r\n     <use x=\"658.789062\" xlink:href=\"#ArialMT-53\"/>\r\n     <use x=\"714.404297\" xlink:href=\"#ArialMT-93\"/>\r\n    </g>\r\n   </g>\r\n   <g id=\"patch_28\">\r\n    <path d=\"M 264.534957 87.363896 \r\nQ 233.892543 75.04417 202.212795 62.307387 \r\n\" style=\"fill:none;stroke:#262626;stroke-linecap:round;\"/>\r\n    <path d=\"M 262.878879 85.494175 \r\nL 264.534957 87.363896 \r\nL 262.045534 87.566926 \r\n\" style=\"fill:none;stroke:#262626;stroke-linecap:round;\"/>\r\n   </g>\r\n   <g id=\"text_14\">\r\n    <g id=\"patch_29\">\r\n     <path d=\"M 267.924968 111.128523 \r\nL 313.059648 111.128523 \r\nL 313.059648 84.471477 \r\nL 267.924968 84.471477 \r\nz\r\n\" style=\"fill:#eaeaf2;stroke:#ffffff;stroke-linejoin:miter;\"/>\r\n    </g>\r\n    <!-- X[2] &lt;= 4.85 -->\r\n    <g style=\"fill:#262626;\" transform=\"translate(275.277101 90.328749)scale(0.05585 -0.05585)\">\r\n     <use xlink:href=\"#ArialMT-88\"/>\r\n     <use x=\"66.699219\" xlink:href=\"#ArialMT-91\"/>\r\n     <use x=\"94.482422\" xlink:href=\"#ArialMT-50\"/>\r\n     <use x=\"150.097656\" xlink:href=\"#ArialMT-93\"/>\r\n     <use x=\"177.880859\" xlink:href=\"#ArialMT-32\"/>\r\n     <use x=\"205.664062\" xlink:href=\"#ArialMT-60\"/>\r\n     <use x=\"264.0625\" xlink:href=\"#ArialMT-61\"/>\r\n     <use x=\"322.460938\" xlink:href=\"#ArialMT-32\"/>\r\n     <use x=\"350.244141\" xlink:href=\"#ArialMT-52\"/>\r\n     <use x=\"405.859375\" xlink:href=\"#ArialMT-46\"/>\r\n     <use x=\"433.642578\" xlink:href=\"#ArialMT-56\"/>\r\n     <use x=\"489.257812\" xlink:href=\"#ArialMT-53\"/>\r\n    </g>\r\n    <!-- gini = 0.043 -->\r\n    <g style=\"fill:#262626;\" transform=\"translate(275.975663 96.255834)scale(0.05585 -0.05585)\">\r\n     <use xlink:href=\"#ArialMT-103\"/>\r\n     <use x=\"55.615234\" xlink:href=\"#ArialMT-105\"/>\r\n     <use x=\"77.832031\" xlink:href=\"#ArialMT-110\"/>\r\n     <use x=\"133.447266\" xlink:href=\"#ArialMT-105\"/>\r\n     <use x=\"155.664062\" xlink:href=\"#ArialMT-32\"/>\r\n     <use x=\"183.447266\" xlink:href=\"#ArialMT-61\"/>\r\n     <use x=\"241.845703\" xlink:href=\"#ArialMT-32\"/>\r\n     <use x=\"269.628906\" xlink:href=\"#ArialMT-48\"/>\r\n     <use x=\"325.244141\" xlink:href=\"#ArialMT-46\"/>\r\n     <use x=\"353.027344\" xlink:href=\"#ArialMT-48\"/>\r\n     <use x=\"408.642578\" xlink:href=\"#ArialMT-52\"/>\r\n     <use x=\"464.257812\" xlink:href=\"#ArialMT-51\"/>\r\n    </g>\r\n    <!-- samples = 46 -->\r\n    <g style=\"fill:#262626;\" transform=\"translate(273.806238 102.248368)scale(0.05585 -0.05585)\">\r\n     <use xlink:href=\"#ArialMT-115\"/>\r\n     <use x=\"50\" xlink:href=\"#ArialMT-97\"/>\r\n     <use x=\"105.615234\" xlink:href=\"#ArialMT-109\"/>\r\n     <use x=\"188.916016\" xlink:href=\"#ArialMT-112\"/>\r\n     <use x=\"244.53125\" xlink:href=\"#ArialMT-108\"/>\r\n     <use x=\"266.748047\" xlink:href=\"#ArialMT-101\"/>\r\n     <use x=\"322.363281\" xlink:href=\"#ArialMT-115\"/>\r\n     <use x=\"372.363281\" xlink:href=\"#ArialMT-32\"/>\r\n     <use x=\"400.146484\" xlink:href=\"#ArialMT-61\"/>\r\n     <use x=\"458.544922\" xlink:href=\"#ArialMT-32\"/>\r\n     <use x=\"486.328125\" xlink:href=\"#ArialMT-52\"/>\r\n     <use x=\"541.943359\" xlink:href=\"#ArialMT-54\"/>\r\n    </g>\r\n    <!-- value = [0, 1, 45] -->\r\n    <g style=\"fill:#262626;\" transform=\"translate(269.768019 108.175452)scale(0.05585 -0.05585)\">\r\n     <use xlink:href=\"#ArialMT-118\"/>\r\n     <use x=\"50\" xlink:href=\"#ArialMT-97\"/>\r\n     <use x=\"105.615234\" xlink:href=\"#ArialMT-108\"/>\r\n     <use x=\"127.832031\" xlink:href=\"#ArialMT-117\"/>\r\n     <use x=\"183.447266\" xlink:href=\"#ArialMT-101\"/>\r\n     <use x=\"239.0625\" xlink:href=\"#ArialMT-32\"/>\r\n     <use x=\"266.845703\" xlink:href=\"#ArialMT-61\"/>\r\n     <use x=\"325.244141\" xlink:href=\"#ArialMT-32\"/>\r\n     <use x=\"353.027344\" xlink:href=\"#ArialMT-91\"/>\r\n     <use x=\"380.810547\" xlink:href=\"#ArialMT-48\"/>\r\n     <use x=\"436.425781\" xlink:href=\"#ArialMT-44\"/>\r\n     <use x=\"464.208984\" xlink:href=\"#ArialMT-32\"/>\r\n     <use x=\"491.992188\" xlink:href=\"#ArialMT-49\"/>\r\n     <use x=\"547.607422\" xlink:href=\"#ArialMT-44\"/>\r\n     <use x=\"575.390625\" xlink:href=\"#ArialMT-32\"/>\r\n     <use x=\"603.173828\" xlink:href=\"#ArialMT-52\"/>\r\n     <use x=\"658.789062\" xlink:href=\"#ArialMT-53\"/>\r\n     <use x=\"714.404297\" xlink:href=\"#ArialMT-93\"/>\r\n    </g>\r\n   </g>\r\n   <g id=\"patch_30\">\r\n    <path d=\"M 158.41764 48.091306 \r\nQ 165.606671 37.975129 173.443348 26.947604 \r\n\" style=\"fill:none;stroke:#262626;stroke-linecap:round;\"/>\r\n    <path d=\"M 160.622241 46.917344 \r\nL 158.41764 48.091306 \r\nL 158.801231 45.623248 \r\n\" style=\"fill:none;stroke:#262626;stroke-linecap:round;\"/>\r\n   </g>\r\n   <g id=\"text_15\">\r\n    <g id=\"patch_31\">\r\n     <path d=\"M 126.278814 71.924981 \r\nL 171.413494 71.924981 \r\nL 171.413494 51.12957 \r\nL 126.278814 51.12957 \r\nz\r\n\" style=\"fill:#eaeaf2;stroke:#ffffff;stroke-linejoin:miter;\"/>\r\n    </g>\r\n    <!-- gini = 0.0 -->\r\n    <g style=\"fill:#262626;\" transform=\"translate(137.435294 57.052292)scale(0.05585 -0.05585)\">\r\n     <use xlink:href=\"#ArialMT-103\"/>\r\n     <use x=\"55.615234\" xlink:href=\"#ArialMT-105\"/>\r\n     <use x=\"77.832031\" xlink:href=\"#ArialMT-110\"/>\r\n     <use x=\"133.447266\" xlink:href=\"#ArialMT-105\"/>\r\n     <use x=\"155.664062\" xlink:href=\"#ArialMT-32\"/>\r\n     <use x=\"183.447266\" xlink:href=\"#ArialMT-61\"/>\r\n     <use x=\"241.845703\" xlink:href=\"#ArialMT-32\"/>\r\n     <use x=\"269.628906\" xlink:href=\"#ArialMT-48\"/>\r\n     <use x=\"325.244141\" xlink:href=\"#ArialMT-46\"/>\r\n     <use x=\"353.027344\" xlink:href=\"#ArialMT-48\"/>\r\n    </g>\r\n    <!-- samples = 50 -->\r\n    <g style=\"fill:#262626;\" transform=\"translate(132.160084 63.044825)scale(0.05585 -0.05585)\">\r\n     <use xlink:href=\"#ArialMT-115\"/>\r\n     <use x=\"50\" xlink:href=\"#ArialMT-97\"/>\r\n     <use x=\"105.615234\" xlink:href=\"#ArialMT-109\"/>\r\n     <use x=\"188.916016\" xlink:href=\"#ArialMT-112\"/>\r\n     <use x=\"244.53125\" xlink:href=\"#ArialMT-108\"/>\r\n     <use x=\"266.748047\" xlink:href=\"#ArialMT-101\"/>\r\n     <use x=\"322.363281\" xlink:href=\"#ArialMT-115\"/>\r\n     <use x=\"372.363281\" xlink:href=\"#ArialMT-32\"/>\r\n     <use x=\"400.146484\" xlink:href=\"#ArialMT-61\"/>\r\n     <use x=\"458.544922\" xlink:href=\"#ArialMT-32\"/>\r\n     <use x=\"486.328125\" xlink:href=\"#ArialMT-53\"/>\r\n     <use x=\"541.943359\" xlink:href=\"#ArialMT-48\"/>\r\n    </g>\r\n    <!-- value = [50, 0, 0] -->\r\n    <g style=\"fill:#262626;\" transform=\"translate(128.121865 68.97191)scale(0.05585 -0.05585)\">\r\n     <use xlink:href=\"#ArialMT-118\"/>\r\n     <use x=\"50\" xlink:href=\"#ArialMT-97\"/>\r\n     <use x=\"105.615234\" xlink:href=\"#ArialMT-108\"/>\r\n     <use x=\"127.832031\" xlink:href=\"#ArialMT-117\"/>\r\n     <use x=\"183.447266\" xlink:href=\"#ArialMT-101\"/>\r\n     <use x=\"239.0625\" xlink:href=\"#ArialMT-32\"/>\r\n     <use x=\"266.845703\" xlink:href=\"#ArialMT-61\"/>\r\n     <use x=\"325.244141\" xlink:href=\"#ArialMT-32\"/>\r\n     <use x=\"353.027344\" xlink:href=\"#ArialMT-91\"/>\r\n     <use x=\"380.810547\" xlink:href=\"#ArialMT-53\"/>\r\n     <use x=\"436.425781\" xlink:href=\"#ArialMT-48\"/>\r\n     <use x=\"492.041016\" xlink:href=\"#ArialMT-44\"/>\r\n     <use x=\"519.824219\" xlink:href=\"#ArialMT-32\"/>\r\n     <use x=\"547.607422\" xlink:href=\"#ArialMT-48\"/>\r\n     <use x=\"603.222656\" xlink:href=\"#ArialMT-44\"/>\r\n     <use x=\"631.005859\" xlink:href=\"#ArialMT-32\"/>\r\n     <use x=\"658.789062\" xlink:href=\"#ArialMT-48\"/>\r\n     <use x=\"714.404297\" xlink:href=\"#ArialMT-93\"/>\r\n    </g>\r\n   </g>\r\n   <g id=\"patch_32\">\r\n    <path d=\"M 188.723438 45.194057 \r\nQ 182.565242 36.528438 175.7594 26.951472 \r\n\" style=\"fill:none;stroke:#262626;stroke-linecap:round;\"/>\r\n    <path d=\"M 188.339848 42.725999 \r\nL 188.723438 45.194057 \r\nL 186.518838 44.020094 \r\n\" style=\"fill:none;stroke:#262626;stroke-linecap:round;\"/>\r\n   </g>\r\n   <g id=\"text_16\">\r\n    <g id=\"patch_33\">\r\n     <path d=\"M 176.233613 74.888523 \r\nL 224.474079 74.888523 \r\nL 224.474079 48.231477 \r\nL 176.233613 48.231477 \r\nz\r\n\" style=\"fill:#eaeaf2;stroke:#ffffff;stroke-linejoin:miter;\"/>\r\n    </g>\r\n    <!-- X[3] &lt;= 1.75 -->\r\n    <g style=\"fill:#262626;\" transform=\"translate(185.138639 54.088749)scale(0.05585 -0.05585)\">\r\n     <use xlink:href=\"#ArialMT-88\"/>\r\n     <use x=\"66.699219\" xlink:href=\"#ArialMT-91\"/>\r\n     <use x=\"94.482422\" xlink:href=\"#ArialMT-51\"/>\r\n     <use x=\"150.097656\" xlink:href=\"#ArialMT-93\"/>\r\n     <use x=\"177.880859\" xlink:href=\"#ArialMT-32\"/>\r\n     <use x=\"205.664062\" xlink:href=\"#ArialMT-60\"/>\r\n     <use x=\"264.0625\" xlink:href=\"#ArialMT-61\"/>\r\n     <use x=\"322.460938\" xlink:href=\"#ArialMT-32\"/>\r\n     <use x=\"350.244141\" xlink:href=\"#ArialMT-49\"/>\r\n     <use x=\"405.859375\" xlink:href=\"#ArialMT-46\"/>\r\n     <use x=\"433.642578\" xlink:href=\"#ArialMT-55\"/>\r\n     <use x=\"489.257812\" xlink:href=\"#ArialMT-53\"/>\r\n    </g>\r\n    <!-- gini = 0.5 -->\r\n    <g style=\"fill:#262626;\" transform=\"translate(188.942986 60.015834)scale(0.05585 -0.05585)\">\r\n     <use xlink:href=\"#ArialMT-103\"/>\r\n     <use x=\"55.615234\" xlink:href=\"#ArialMT-105\"/>\r\n     <use x=\"77.832031\" xlink:href=\"#ArialMT-110\"/>\r\n     <use x=\"133.447266\" xlink:href=\"#ArialMT-105\"/>\r\n     <use x=\"155.664062\" xlink:href=\"#ArialMT-32\"/>\r\n     <use x=\"183.447266\" xlink:href=\"#ArialMT-61\"/>\r\n     <use x=\"241.845703\" xlink:href=\"#ArialMT-32\"/>\r\n     <use x=\"269.628906\" xlink:href=\"#ArialMT-48\"/>\r\n     <use x=\"325.244141\" xlink:href=\"#ArialMT-46\"/>\r\n     <use x=\"353.027344\" xlink:href=\"#ArialMT-53\"/>\r\n    </g>\r\n    <!-- samples = 100 -->\r\n    <g style=\"fill:#262626;\" transform=\"translate(182.114884 66.008368)scale(0.05585 -0.05585)\">\r\n     <use xlink:href=\"#ArialMT-115\"/>\r\n     <use x=\"50\" xlink:href=\"#ArialMT-97\"/>\r\n     <use x=\"105.615234\" xlink:href=\"#ArialMT-109\"/>\r\n     <use x=\"188.916016\" xlink:href=\"#ArialMT-112\"/>\r\n     <use x=\"244.53125\" xlink:href=\"#ArialMT-108\"/>\r\n     <use x=\"266.748047\" xlink:href=\"#ArialMT-101\"/>\r\n     <use x=\"322.363281\" xlink:href=\"#ArialMT-115\"/>\r\n     <use x=\"372.363281\" xlink:href=\"#ArialMT-32\"/>\r\n     <use x=\"400.146484\" xlink:href=\"#ArialMT-61\"/>\r\n     <use x=\"458.544922\" xlink:href=\"#ArialMT-32\"/>\r\n     <use x=\"486.328125\" xlink:href=\"#ArialMT-49\"/>\r\n     <use x=\"541.943359\" xlink:href=\"#ArialMT-48\"/>\r\n     <use x=\"597.558594\" xlink:href=\"#ArialMT-48\"/>\r\n    </g>\r\n    <!-- value = [0, 50, 50] -->\r\n    <g style=\"fill:#262626;\" transform=\"translate(178.076665 71.935452)scale(0.05585 -0.05585)\">\r\n     <use xlink:href=\"#ArialMT-118\"/>\r\n     <use x=\"50\" xlink:href=\"#ArialMT-97\"/>\r\n     <use x=\"105.615234\" xlink:href=\"#ArialMT-108\"/>\r\n     <use x=\"127.832031\" xlink:href=\"#ArialMT-117\"/>\r\n     <use x=\"183.447266\" xlink:href=\"#ArialMT-101\"/>\r\n     <use x=\"239.0625\" xlink:href=\"#ArialMT-32\"/>\r\n     <use x=\"266.845703\" xlink:href=\"#ArialMT-61\"/>\r\n     <use x=\"325.244141\" xlink:href=\"#ArialMT-32\"/>\r\n     <use x=\"353.027344\" xlink:href=\"#ArialMT-91\"/>\r\n     <use x=\"380.810547\" xlink:href=\"#ArialMT-48\"/>\r\n     <use x=\"436.425781\" xlink:href=\"#ArialMT-44\"/>\r\n     <use x=\"464.208984\" xlink:href=\"#ArialMT-32\"/>\r\n     <use x=\"491.992188\" xlink:href=\"#ArialMT-53\"/>\r\n     <use x=\"547.607422\" xlink:href=\"#ArialMT-48\"/>\r\n     <use x=\"603.222656\" xlink:href=\"#ArialMT-44\"/>\r\n     <use x=\"631.005859\" xlink:href=\"#ArialMT-32\"/>\r\n     <use x=\"658.789062\" xlink:href=\"#ArialMT-53\"/>\r\n     <use x=\"714.404297\" xlink:href=\"#ArialMT-48\"/>\r\n     <use x=\"770.019531\" xlink:href=\"#ArialMT-93\"/>\r\n    </g>\r\n   </g>\r\n   <g id=\"patch_34\">\r\n    <path d=\"M 174.6 25.32 \r\nQ 174.6 25.32 174.6 25.32 \r\n\" style=\"fill:none;stroke:#262626;stroke-linecap:round;\"/>\r\n   </g>\r\n   <g id=\"text_17\">\r\n    <g id=\"patch_35\">\r\n     <path d=\"M 148.926875 38.648523 \r\nL 200.273125 38.648523 \r\nL 200.273125 11.991477 \r\nL 148.926875 11.991477 \r\nz\r\n\" style=\"fill:#eaeaf2;stroke:#ffffff;stroke-linejoin:miter;\"/>\r\n    </g>\r\n    <!-- X[3] &lt;= 0.8 -->\r\n    <g style=\"fill:#262626;\" transform=\"translate(160.937686 17.848749)scale(0.05585 -0.05585)\">\r\n     <use xlink:href=\"#ArialMT-88\"/>\r\n     <use x=\"66.699219\" xlink:href=\"#ArialMT-91\"/>\r\n     <use x=\"94.482422\" xlink:href=\"#ArialMT-51\"/>\r\n     <use x=\"150.097656\" xlink:href=\"#ArialMT-93\"/>\r\n     <use x=\"177.880859\" xlink:href=\"#ArialMT-32\"/>\r\n     <use x=\"205.664062\" xlink:href=\"#ArialMT-60\"/>\r\n     <use x=\"264.0625\" xlink:href=\"#ArialMT-61\"/>\r\n     <use x=\"322.460938\" xlink:href=\"#ArialMT-32\"/>\r\n     <use x=\"350.244141\" xlink:href=\"#ArialMT-48\"/>\r\n     <use x=\"405.859375\" xlink:href=\"#ArialMT-46\"/>\r\n     <use x=\"433.642578\" xlink:href=\"#ArialMT-56\"/>\r\n    </g>\r\n    <!-- gini = 0.667 -->\r\n    <g style=\"fill:#262626;\" transform=\"translate(160.083355 23.775834)scale(0.05585 -0.05585)\">\r\n     <use xlink:href=\"#ArialMT-103\"/>\r\n     <use x=\"55.615234\" xlink:href=\"#ArialMT-105\"/>\r\n     <use x=\"77.832031\" xlink:href=\"#ArialMT-110\"/>\r\n     <use x=\"133.447266\" xlink:href=\"#ArialMT-105\"/>\r\n     <use x=\"155.664062\" xlink:href=\"#ArialMT-32\"/>\r\n     <use x=\"183.447266\" xlink:href=\"#ArialMT-61\"/>\r\n     <use x=\"241.845703\" xlink:href=\"#ArialMT-32\"/>\r\n     <use x=\"269.628906\" xlink:href=\"#ArialMT-48\"/>\r\n     <use x=\"325.244141\" xlink:href=\"#ArialMT-46\"/>\r\n     <use x=\"353.027344\" xlink:href=\"#ArialMT-54\"/>\r\n     <use x=\"408.642578\" xlink:href=\"#ArialMT-54\"/>\r\n     <use x=\"464.257812\" xlink:href=\"#ArialMT-55\"/>\r\n    </g>\r\n    <!-- samples = 150 -->\r\n    <g style=\"fill:#262626;\" transform=\"translate(156.361037 29.768368)scale(0.05585 -0.05585)\">\r\n     <use xlink:href=\"#ArialMT-115\"/>\r\n     <use x=\"50\" xlink:href=\"#ArialMT-97\"/>\r\n     <use x=\"105.615234\" xlink:href=\"#ArialMT-109\"/>\r\n     <use x=\"188.916016\" xlink:href=\"#ArialMT-112\"/>\r\n     <use x=\"244.53125\" xlink:href=\"#ArialMT-108\"/>\r\n     <use x=\"266.748047\" xlink:href=\"#ArialMT-101\"/>\r\n     <use x=\"322.363281\" xlink:href=\"#ArialMT-115\"/>\r\n     <use x=\"372.363281\" xlink:href=\"#ArialMT-32\"/>\r\n     <use x=\"400.146484\" xlink:href=\"#ArialMT-61\"/>\r\n     <use x=\"458.544922\" xlink:href=\"#ArialMT-32\"/>\r\n     <use x=\"486.328125\" xlink:href=\"#ArialMT-49\"/>\r\n     <use x=\"541.943359\" xlink:href=\"#ArialMT-53\"/>\r\n     <use x=\"597.558594\" xlink:href=\"#ArialMT-48\"/>\r\n    </g>\r\n    <!-- value = [50, 50, 50] -->\r\n    <g style=\"fill:#262626;\" transform=\"translate(150.769926 35.695452)scale(0.05585 -0.05585)\">\r\n     <use xlink:href=\"#ArialMT-118\"/>\r\n     <use x=\"50\" xlink:href=\"#ArialMT-97\"/>\r\n     <use x=\"105.615234\" xlink:href=\"#ArialMT-108\"/>\r\n     <use x=\"127.832031\" xlink:href=\"#ArialMT-117\"/>\r\n     <use x=\"183.447266\" xlink:href=\"#ArialMT-101\"/>\r\n     <use x=\"239.0625\" xlink:href=\"#ArialMT-32\"/>\r\n     <use x=\"266.845703\" xlink:href=\"#ArialMT-61\"/>\r\n     <use x=\"325.244141\" xlink:href=\"#ArialMT-32\"/>\r\n     <use x=\"353.027344\" xlink:href=\"#ArialMT-91\"/>\r\n     <use x=\"380.810547\" xlink:href=\"#ArialMT-53\"/>\r\n     <use x=\"436.425781\" xlink:href=\"#ArialMT-48\"/>\r\n     <use x=\"492.041016\" xlink:href=\"#ArialMT-44\"/>\r\n     <use x=\"519.824219\" xlink:href=\"#ArialMT-32\"/>\r\n     <use x=\"547.607422\" xlink:href=\"#ArialMT-53\"/>\r\n     <use x=\"603.222656\" xlink:href=\"#ArialMT-48\"/>\r\n     <use x=\"658.837891\" xlink:href=\"#ArialMT-44\"/>\r\n     <use x=\"686.621094\" xlink:href=\"#ArialMT-32\"/>\r\n     <use x=\"714.404297\" xlink:href=\"#ArialMT-53\"/>\r\n     <use x=\"770.019531\" xlink:href=\"#ArialMT-48\"/>\r\n     <use x=\"825.634766\" xlink:href=\"#ArialMT-93\"/>\r\n    </g>\r\n   </g>\r\n  </g>\r\n </g>\r\n</svg>\r\n",
      "image/png": "[encoded data removed]"
     },
     "metadata": {}
    }
   ],
   "source": [
    "#Decision Treee\n",
    "from sklearn.datasets import load_iris\n",
    "iris = load_iris()\n",
    "X, y = iris.data, iris.target\n",
    "clf = tree.DecisionTreeClassifier()\n",
    "clf = clf.fit(X, y)\n",
    "tree.plot_tree(clf)\n",
    "print(clf.predict([[6.8, 2.8, 4.8, 1.4]]))"
   ]
  },
  {
   "cell_type": "code",
   "execution_count": 6,
   "metadata": {},
   "outputs": [
    {
     "output_type": "stream",
     "name": "stdout",
     "text": [
      "[2]\n"
     ]
    }
   ],
   "source": [
    "#Random forest\n",
    "clf = RandomForestClassifier(max_depth=2, random_state=0)\n",
    "clf.fit(X, y)\n",
    "print(clf.predict([[3.0, 4.0, 5.0, 6.0]]))\n"
   ]
  },
  {
   "cell_type": "code",
   "execution_count": 7,
   "metadata": {},
   "outputs": [
    {
     "output_type": "stream",
     "name": "stdout",
     "text": [
      "[0]\n"
     ]
    }
   ],
   "source": [
    "#GBDT\n",
    "clf = GradientBoostingClassifier(n_estimators=100, learning_rate=1.0,max_depth=1, random_state=0).fit(X, y)\n",
    "clf.feature_importances_\n",
    "print(clf.predict([[4.3, 3.0, 1.1, 0.1]]))\n",
    "# sum([0.0039867 , 0.00523416, 0.11383373, 0.87694542])"
   ]
  },
  {
   "source": [
    "#### SVM"
   ],
   "cell_type": "markdown",
   "metadata": {}
  },
  {
   "cell_type": "code",
   "execution_count": 8,
   "metadata": {},
   "outputs": [
    {
     "output_type": "stream",
     "name": "stdout",
     "text": [
      "[0]\n"
     ]
    }
   ],
   "source": [
    "from sklearn import svm\n",
    "clf = svm.SVC()\n",
    "clf.fit(X, y)\n",
    "print(clf.predict([[4.3, 3.0, 1.1, 0.1]]))"
   ]
  },
  {
   "source": [
    "### 函数实现"
   ],
   "cell_type": "markdown",
   "metadata": {}
  },
  {
   "cell_type": "code",
   "execution_count": 12,
   "metadata": {},
   "outputs": [
    {
     "output_type": "stream",
     "name": "stdout",
     "text": [
      "------------------------决策树方法------------------------\n",
      "原数据集：\n",
      "0.9\n",
      "              precision    recall  f1-score   support\n",
      "\n",
      "           0       1.00      1.00      1.00         8\n",
      "           1       1.00      0.81      0.90        16\n",
      "           2       0.67      1.00      0.80         6\n",
      "\n",
      "    accuracy                           0.90        30\n",
      "   macro avg       0.89      0.94      0.90        30\n",
      "weighted avg       0.93      0.90      0.90        30\n",
      "\n",
      "------------------------随机森林方法------------------------\n",
      "原数据集：\n",
      "0.9666666666666667\n",
      "              precision    recall  f1-score   support\n",
      "\n",
      "           0       1.00      1.00      1.00        11\n",
      "           1       1.00      0.89      0.94         9\n",
      "           2       0.91      1.00      0.95        10\n",
      "\n",
      "    accuracy                           0.97        30\n",
      "   macro avg       0.97      0.96      0.96        30\n",
      "weighted avg       0.97      0.97      0.97        30\n",
      "\n",
      "------------------------KNN方法------------------------\n",
      "原数据集：\n",
      "0.9\n",
      "              precision    recall  f1-score   support\n",
      "\n",
      "           0       1.00      1.00      1.00        11\n",
      "           1       0.86      0.75      0.80         8\n",
      "           2       0.83      0.91      0.87        11\n",
      "\n",
      "    accuracy                           0.90        30\n",
      "   macro avg       0.90      0.89      0.89        30\n",
      "weighted avg       0.90      0.90      0.90        30\n",
      "\n",
      "------------------------SVC方法------------------------\n",
      "原数据集：\n",
      "0.9666666666666667\n",
      "              precision    recall  f1-score   support\n",
      "\n",
      "           0       1.00      1.00      1.00         7\n",
      "           1       0.92      1.00      0.96        12\n",
      "           2       1.00      0.91      0.95        11\n",
      "\n",
      "    accuracy                           0.97        30\n",
      "   macro avg       0.97      0.97      0.97        30\n",
      "weighted avg       0.97      0.97      0.97        30\n",
      "\n"
     ]
    }
   ],
   "source": [
    "from sklearn.model_selection import train_test_split\n",
    "from sklearn.tree import DecisionTreeClassifier\n",
    "from sklearn.ensemble import RandomForestClassifier\n",
    "from sklearn.neighbors import KNeighborsClassifier\n",
    "from sklearn import svm\n",
    "from sklearn.metrics import classification_report\n",
    "X, y = iris.data, iris.target\n",
    " \n",
    "x_train = []                        # 存放训练集的属性\n",
    "y_train = []                        # 存放训练集的标签\n",
    "x_test = []                         # 存放测试集的属性\n",
    "y_test = []                         # 存放测试集的标签\n",
    "testSize = 0.2                      # 测试数据所占总数据比重\n",
    "\n",
    "'''决策树方法'''\n",
    "def DecisionTree(testSize):\n",
    "    print('------------------------决策树方法------------------------')\n",
    "    print('原数据集：')\n",
    "    x_train, x_test, y_train, y_test = train_test_split(X, y, test_size=testSize)\n",
    "    clf = DecisionTreeClassifier(criterion='entropy')\n",
    "    clf.fit(x_train, y_train)\n",
    "    y_predict = clf.predict(x_test)\n",
    "    print(clf.score(x_test, y_test))\n",
    "    print(classification_report(y_test, y_predict))\n",
    " \n",
    "'''随机森林方法'''\n",
    "def RandomForest(testSize):\n",
    "    print('------------------------随机森林方法------------------------')\n",
    "    print('原数据集：')\n",
    "    x_train, x_test, y_train, y_test = train_test_split(X, y, test_size=testSize)\n",
    "    rfc = RandomForestClassifier()\n",
    "    rfc.fit(x_train, y_train)\n",
    "    y_predict = rfc.predict(x_test)\n",
    "    print(rfc.score(x_test, y_test))\n",
    "    print(classification_report(y_test, y_predict))\n",
    " \n",
    "'''KNN方法'''\n",
    "def knn(testSize):\n",
    "    print('------------------------KNN方法------------------------')\n",
    "    print('原数据集：')\n",
    "    x_train, x_test, y_train, y_test = train_test_split(X, y, test_size=testSize)\n",
    "    knn = KNeighborsClassifier()\n",
    "    knn.fit(x_train, y_train)\n",
    "    y_predict = knn.predict(x_test)\n",
    "    print(knn.score(x_test, y_test))\n",
    "    print(classification_report(y_test, y_predict))\n",
    " \n",
    "'''SVC方法'''\n",
    "def svc(testSize):\n",
    "    print('------------------------SVC方法------------------------')\n",
    "    print('原数据集：')\n",
    "    x_train, x_test, y_train, y_test = train_test_split(X, y, test_size=testSize)\n",
    "    clf = svm.SVC()\n",
    "    clf.fit(x_train, y_train)\n",
    "    y_predict = clf.predict(x_test)\n",
    "    print(clf.score(x_test, y_test))\n",
    "    print(classification_report(y_test, y_predict))\n",
    "######################################################################################\n",
    "DecisionTree(testSize)\n",
    "RandomForest(testSize)\n",
    "knn(testSize)\n",
    "svc(testSize)\n"
   ]
  },
  {
   "source": [
    "### 回归"
   ],
   "cell_type": "markdown",
   "metadata": {}
  }
 ]
}