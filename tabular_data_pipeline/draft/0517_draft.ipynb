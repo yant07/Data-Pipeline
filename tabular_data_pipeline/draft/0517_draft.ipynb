{
 "metadata": {
  "language_info": {
   "codemirror_mode": {
    "name": "ipython",
    "version": 3
   },
   "file_extension": ".py",
   "mimetype": "text/x-python",
   "name": "python",
   "nbconvert_exporter": "python",
   "pygments_lexer": "ipython3",
   "version": "3.7.13-final"
  },
  "orig_nbformat": 2,
  "kernelspec": {
   "name": "python3",
   "display_name": "Python 3.7.13 64-bit ('Simi_com': conda)",
   "metadata": {
    "interpreter": {
     "hash": "ca1a6c70ba0ef033524d16c288d1083a318dfe37e6b1f3c85cb25e894a9c8d20"
    }
   }
  }
 },
 "nbformat": 4,
 "nbformat_minor": 2,
 "cells": [
  {
   "source": [
    "# 0517 DataNormalization\n",
    "\n",
    "规范化分类的三种方法参考\n",
    "https://www.geeksforgeeks.org/data-normalization-in-data-mining/?ref=lbp"
   ],
   "cell_type": "markdown",
   "metadata": {}
  },
  {
   "source": [
    "## 数据转换 transformation"
   ],
   "cell_type": "markdown",
   "metadata": {}
  },
  {
   "source": [
    "### 规范化"
   ],
   "cell_type": "markdown",
   "metadata": {}
  },
  {
   "cell_type": "code",
   "execution_count": 63,
   "metadata": {},
   "outputs": [],
   "source": [
    "import pandas as pd\n",
    "import seaborn as sns\n",
    "import numpy as np\n",
    "import matplotlib.pyplot as plt\n",
    "from scipy import stats\n",
    "from sklearn import datasets\n",
    "from sklearn import preprocessing\n",
    "from sklearn.preprocessing import Binarizer\n",
    "from sklearn.decomposition import PCA"
   ]
  },
  {
   "cell_type": "code",
   "execution_count": 9,
   "metadata": {},
   "outputs": [
    {
     "output_type": "execute_result",
     "data": {
      "text/plain": [
       "numpy.ndarray"
      ]
     },
     "metadata": {},
     "execution_count": 9
    }
   ],
   "source": [
    "        #boston\n",
    "        import pandas as pd\n",
    "        import numpy as np\n",
    "\n",
    "\n",
    "        data_url = \"http://lib.stat.cmu.edu/datasets/boston\"\n",
    "        raw_df = pd.read_csv(data_url, sep=\"\\s+\", skiprows=22, header=None)\n",
    "        data = np.hstack([raw_df.values[::2, :], raw_df.values[1::2, :2]])\n",
    "        target = raw_df.values[1::2, 2]\n",
    "        type(target)"
   ]
  },
  {
   "cell_type": "code",
   "execution_count": 14,
   "metadata": {},
   "outputs": [
    {
     "output_type": "execute_result",
     "data": {
      "text/plain": [
       "sklearn.utils.Bunch"
      ]
     },
     "metadata": {},
     "execution_count": 14
    }
   ],
   "source": [
    "#california housing dataset\n",
    "from sklearn.datasets import fetch_california_housing\n",
    "housing = fetch_california_housing()\n",
    "type(housing)"
   ]
  },
  {
   "cell_type": "code",
   "execution_count": 16,
   "metadata": {},
   "outputs": [
    {
     "output_type": "execute_result",
     "data": {
      "text/plain": [
       "(20640, 8)"
      ]
     },
     "metadata": {},
     "execution_count": 16
    }
   ],
   "source": [
    "housing.data.shape"
   ]
  },
  {
   "cell_type": "code",
   "execution_count": 17,
   "metadata": {},
   "outputs": [
    {
     "output_type": "execute_result",
     "data": {
      "text/plain": [
       "['MedInc',\n",
       " 'HouseAge',\n",
       " 'AveRooms',\n",
       " 'AveBedrms',\n",
       " 'Population',\n",
       " 'AveOccup',\n",
       " 'Latitude',\n",
       " 'Longitude']"
      ]
     },
     "metadata": {},
     "execution_count": 17
    }
   ],
   "source": [
    "#哪几个属性\n",
    "housing.feature_names"
   ]
  },
  {
   "cell_type": "code",
   "execution_count": 18,
   "metadata": {},
   "outputs": [
    {
     "output_type": "execute_result",
     "data": {
      "text/plain": [
       "array([4.526, 3.585, 3.521, ..., 0.923, 0.847, 0.894])"
      ]
     },
     "metadata": {},
     "execution_count": 18
    }
   ],
   "source": [
    "#目标属性：房价中位数\n",
    "housing.target"
   ]
  },
  {
   "cell_type": "code",
   "execution_count": 36,
   "metadata": {},
   "outputs": [
    {
     "output_type": "execute_result",
     "data": {
      "text/plain": [
       "       AveRooms  AveBedrms  Population\n",
       "0      6.984127   1.023810       322.0\n",
       "1      6.238137   0.971880      2401.0\n",
       "2      8.288136   1.073446       496.0\n",
       "3      5.817352   1.073059       558.0\n",
       "4      6.281853   1.081081       565.0\n",
       "...         ...        ...         ...\n",
       "20635  5.045455   1.133333       845.0\n",
       "20636  6.114035   1.315789       356.0\n",
       "20637  5.205543   1.120092      1007.0\n",
       "20638  5.329513   1.171920       741.0\n",
       "20639  5.254717   1.162264      1387.0\n",
       "\n",
       "[20640 rows x 3 columns]"
      ],
      "text/html": "<div>\n<style scoped>\n    .dataframe tbody tr th:only-of-type {\n        vertical-align: middle;\n    }\n\n    .dataframe tbody tr th {\n        vertical-align: top;\n    }\n\n    .dataframe thead th {\n        text-align: right;\n    }\n</style>\n<table border=\"1\" class=\"dataframe\">\n  <thead>\n    <tr style=\"text-align: right;\">\n      <th></th>\n      <th>AveRooms</th>\n      <th>AveBedrms</th>\n      <th>Population</th>\n    </tr>\n  </thead>\n  <tbody>\n    <tr>\n      <th>0</th>\n      <td>6.984127</td>\n      <td>1.023810</td>\n      <td>322.0</td>\n    </tr>\n    <tr>\n      <th>1</th>\n      <td>6.238137</td>\n      <td>0.971880</td>\n      <td>2401.0</td>\n    </tr>\n    <tr>\n      <th>2</th>\n      <td>8.288136</td>\n      <td>1.073446</td>\n      <td>496.0</td>\n    </tr>\n    <tr>\n      <th>3</th>\n      <td>5.817352</td>\n      <td>1.073059</td>\n      <td>558.0</td>\n    </tr>\n    <tr>\n      <th>4</th>\n      <td>6.281853</td>\n      <td>1.081081</td>\n      <td>565.0</td>\n    </tr>\n    <tr>\n      <th>...</th>\n      <td>...</td>\n      <td>...</td>\n      <td>...</td>\n    </tr>\n    <tr>\n      <th>20635</th>\n      <td>5.045455</td>\n      <td>1.133333</td>\n      <td>845.0</td>\n    </tr>\n    <tr>\n      <th>20636</th>\n      <td>6.114035</td>\n      <td>1.315789</td>\n      <td>356.0</td>\n    </tr>\n    <tr>\n      <th>20637</th>\n      <td>5.205543</td>\n      <td>1.120092</td>\n      <td>1007.0</td>\n    </tr>\n    <tr>\n      <th>20638</th>\n      <td>5.329513</td>\n      <td>1.171920</td>\n      <td>741.0</td>\n    </tr>\n    <tr>\n      <th>20639</th>\n      <td>5.254717</td>\n      <td>1.162264</td>\n      <td>1387.0</td>\n    </tr>\n  </tbody>\n</table>\n<p>20640 rows × 3 columns</p>\n</div>"
     },
     "metadata": {},
     "execution_count": 36
    }
   ],
   "source": [
    "#切片\n",
    "df = pd.DataFrame(housing.data[:,2:5])\n",
    "df.columns = housing.feature_names[2:5]\n",
    "df"
   ]
  },
  {
   "cell_type": "code",
   "execution_count": 28,
   "metadata": {},
   "outputs": [
    {
     "output_type": "execute_result",
     "data": {
      "text/plain": [
       "array([[0.0435123 , 0.02046866, 0.00894083],\n",
       "       [0.03822395, 0.01892926, 0.0672104 ],\n",
       "       [0.05275646, 0.02194011, 0.01381765],\n",
       "       ...,\n",
       "       [0.03090386, 0.0233229 , 0.0281398 ],\n",
       "       [0.03178269, 0.02485928, 0.02068444],\n",
       "       [0.03125246, 0.02457305, 0.03879032]])"
      ]
     },
     "metadata": {},
     "execution_count": 28
    }
   ],
   "source": [
    "# 最小-最大规范化\n",
    "## 用公式\n",
    "df1= (df-df.min())/(df.max()-df.min())\n",
    "# df1\n",
    "## 用preprocessing模块\n",
    "df2=preprocessing.minmax_scale(df)\n",
    "df2\n",
    "######################函数##########################################\n",
    "def MinMax_Norm(df):\n",
    "    df_normed = preprocessing.minmax_scale(df)\n",
    "    return df_normed\n",
    "df_norm_test = MinMax_Norm(df)\n",
    "df_norm_test\n"
   ]
  },
  {
   "cell_type": "code",
   "execution_count": 32,
   "metadata": {},
   "outputs": [
    {
     "output_type": "execute_result",
     "data": {
      "text/plain": [
       "array([[ 0.62855945, -0.15375759, -0.9744286 ],\n",
       "       [ 0.32704136, -0.26333577,  0.86143887],\n",
       "       [ 1.15562047, -0.04901636, -0.82077735],\n",
       "       ...,\n",
       "       [-0.09031802,  0.04941393, -0.3695372 ],\n",
       "       [-0.04021111,  0.15877763, -0.60442933],\n",
       "       [-0.07044252,  0.1384028 , -0.03397701]])"
      ]
     },
     "metadata": {},
     "execution_count": 32
    }
   ],
   "source": [
    "# zscore 规范化\n",
    "## 公式处理\n",
    "df3=(df-df.mean())/df.std()\n",
    "#df3\n",
    "## preprocessing模块处理\n",
    "df4=preprocessing.scale(df)\n",
    "df4\n",
    "######################函数##########################################\n",
    "def Zscore_Norm(df):\n",
    "    df_normed = preprocessing.scale(df)\n",
    "    return df_normed\n",
    "df_norm_test2 = Zscore_Norm(df)\n",
    "df_norm_test2"
   ]
  },
  {
   "cell_type": "code",
   "execution_count": 34,
   "metadata": {},
   "outputs": [],
   "source": [
    "# 小数定标规范化\n",
    "## 公式处理\n",
    "df5=df/10**np.ceil(np.log10(df.abs().max()))\n",
    "#df5\n",
    "######################函数##########################################\n",
    "def Decimal_Norm(df):\n",
    "    df_normed = df/10**np.ceil(np.log10(df.abs().max()))\n",
    "    return df_normed\n",
    "df_norm_test3 = Decimal_Norm(df)\n",
    "#df_norm_test3"
   ]
  },
  {
   "source": [
    "### 连续属性离散化"
   ],
   "cell_type": "markdown",
   "metadata": {}
  },
  {
   "cell_type": "code",
   "execution_count": 40,
   "metadata": {},
   "outputs": [
    {
     "output_type": "execute_result",
     "data": {
      "text/plain": [
       "0        0\n",
       "1        1\n",
       "2        0\n",
       "3        0\n",
       "4        0\n",
       "        ..\n",
       "20635    0\n",
       "20636    0\n",
       "20637    0\n",
       "20638    0\n",
       "20639    0\n",
       "Name: Population, Length: 20640, dtype: category\n",
       "Categories (20, int64): [0 < 1 < 2 < 3 ... 16 < 17 < 18 < 19]"
      ]
     },
     "metadata": {},
     "execution_count": 40
    }
   ],
   "source": [
    "pd.cut(df.Population,20,labels=range(20))"
   ]
  },
  {
   "cell_type": "code",
   "execution_count": 41,
   "metadata": {},
   "outputs": [
    {
     "output_type": "execute_result",
     "data": {
      "text/plain": [
       "0         0\n",
       "1        17\n",
       "2         1\n",
       "3         2\n",
       "4         2\n",
       "         ..\n",
       "20635     5\n",
       "20636     1\n",
       "20637     7\n",
       "20638     4\n",
       "20639    12\n",
       "Name: Population, Length: 20640, dtype: category\n",
       "Categories (20, int64): [0 < 1 < 2 < 3 ... 16 < 17 < 18 < 19]"
      ]
     },
     "metadata": {},
     "execution_count": 41
    }
   ],
   "source": [
    "pd.qcut(df.Population,20,labels=range(20))"
   ]
  },
  {
   "cell_type": "code",
   "execution_count": 58,
   "metadata": {},
   "outputs": [
    {
     "output_type": "execute_result",
     "data": {
      "text/plain": [
       "0         6\n",
       "1         2\n",
       "2        12\n",
       "3        12\n",
       "4        13\n",
       "         ..\n",
       "20635    16\n",
       "20636    19\n",
       "20637    16\n",
       "20638    17\n",
       "20639    17\n",
       "Name: AveBedrms, Length: 20640, dtype: category\n",
       "Categories (20, int64): [0 < 1 < 2 < 3 ... 16 < 17 < 18 < 19]"
      ]
     },
     "metadata": {},
     "execution_count": 58
    }
   ],
   "source": [
    "# df.Population\n",
    "# type(df.Population)\n",
    "# df.iloc[:,1]\n",
    "# df_binned = pd.qcut(df.iloc[:,1],20,labels=range(20))\n",
    "\n",
    "def Binning(col_Index):\n",
    "    df_binned = pd.qcut(df.iloc[:,col_Index],20,labels=range(20))\n",
    "    return df_binned\n",
    "df6=Binning(1)\n",
    "df6"
   ]
  },
  {
   "source": [
    "### 特征二值化\n",
    "\n",
    "prerprossessing模块中Binarizer()或LabelEncoder()函数"
   ],
   "cell_type": "markdown",
   "metadata": {}
  },
  {
   "cell_type": "code",
   "execution_count": 60,
   "metadata": {},
   "outputs": [
    {
     "output_type": "execute_result",
     "data": {
      "text/plain": [
       "array([[1.],\n",
       "       [0.],\n",
       "       [0.],\n",
       "       ...,\n",
       "       [0.],\n",
       "       [0.],\n",
       "       [0.]])"
      ]
     },
     "metadata": {},
     "execution_count": 60
    }
   ],
   "source": [
    "X=housing.target.reshape(-1,1)\n",
    "Binarizer(threshold=4).fit_transform(X)"
   ]
  },
  {
   "cell_type": "code",
   "execution_count": 62,
   "metadata": {},
   "outputs": [
    {
     "output_type": "execute_result",
     "data": {
      "text/plain": [
       "(20640, 1)"
      ]
     },
     "metadata": {},
     "execution_count": 62
    }
   ],
   "source": [
    "type(X)#numpy.ndarray\n",
    "type(housing.data)#numpy.ndarray\n",
    "housing.target.shape\n",
    "#housing target是1行20640列，要得到每条记录有一个类别，故需要有20640行/样本\n",
    "housing.target.reshape(-1,1).shape"
   ]
  },
  {
   "source": [
    "## 数据规约"
   ],
   "cell_type": "markdown",
   "metadata": {}
  },
  {
   "source": [
    "### 属性规约，以PCA降维为例"
   ],
   "cell_type": "markdown",
   "metadata": {}
  },
  {
   "cell_type": "code",
   "execution_count": 80,
   "metadata": {},
   "outputs": [
    {
     "output_type": "execute_result",
     "data": {
      "text/plain": [
       "array([[ 2.34476576,  0.98214266,  0.62855945, ..., -0.04959654,\n",
       "         1.05254828, -1.32783522],\n",
       "       [ 2.33223796, -0.60701891,  0.32704136, ..., -0.09251223,\n",
       "         1.04318455, -1.32284391],\n",
       "       [ 1.7826994 ,  1.85618152,  1.15562047, ..., -0.02584253,\n",
       "         1.03850269, -1.33282653],\n",
       "       ...,\n",
       "       [-1.14259331, -0.92485123, -0.09031802, ..., -0.0717345 ,\n",
       "         1.77823747, -0.8237132 ],\n",
       "       [-1.05458292, -0.84539315, -0.04021111, ..., -0.09122515,\n",
       "         1.77823747, -0.87362627],\n",
       "       [-0.78012947, -1.00430931, -0.07044252, ..., -0.04368215,\n",
       "         1.75014627, -0.83369581]])"
      ]
     },
     "metadata": {},
     "execution_count": 80
    }
   ],
   "source": [
    "housing.data\n",
    "X"
   ]
  },
  {
   "cell_type": "code",
   "execution_count": 78,
   "metadata": {},
   "outputs": [
    {
     "output_type": "execute_result",
     "data": {
      "text/plain": [
       "array([[ 0.07746229,  0.00731846,  0.43914246,  0.3999956 , -0.17178267,\n",
       "        -0.01464423,  0.56836442, -0.53697448],\n",
       "       [ 0.22987873, -0.26078574,  0.54668689,  0.50184958,  0.10062559,\n",
       "         0.00262099, -0.37401073,  0.4223868 ],\n",
       "       [ 0.21822239, -0.6275508 , -0.06399944, -0.19184813,  0.65037482,\n",
       "         0.15772711,  0.19259966, -0.18082441]])"
      ]
     },
     "metadata": {},
     "execution_count": 78
    }
   ],
   "source": [
    "X= preprocessing.scale(housing.data)#标准化处理\n",
    "#n_components设置为‘mle’，算法自动选择满足所要求的方差百分比的特征个数；设置为数字n，则对应n个特征\n",
    "pca=PCA(n_components=3)\n",
    "# pca=PCA(n_components='mle')\n",
    "pca.fit(X)\n",
    "pca.components_\n",
    "#Principal axes in feature space, representing the directions of maximum variance in the data. Equivalently, the right singular vectors of the centered input data, parallel to its eigenvectors. \n",
    "#type(pca.components_)\n",
    "# pca.n_components\n",
    "#pca"
   ]
  },
  {
   "cell_type": "code",
   "execution_count": null,
   "metadata": {},
   "outputs": [],
   "source": [
    "ratio = pca.explained_variance_ratio_#各成分方差百分比，各变量的方差贡献率\n",
    "s=sum(ratio)\n",
    "s\n",
    "print(\"前\"+\"3\"+\"个属性解释了数据中\"+str(s)+\"的变化。\")"
   ]
  },
  {
   "cell_type": "code",
   "execution_count": 81,
   "metadata": {},
   "outputs": [
    {
     "output_type": "stream",
     "name": "stdout",
     "text": [
      "前3个属性解释了数据中0.6474174722211659的变化。\n"
     ]
    }
   ],
   "source": [
    "def Reduction_pca(df,n='mle'):\n",
    "    X= preprocessing.scale(df)#标准化处理\n",
    "    #n_components设置为‘mle’，算法自动选择满足所要求的方差百分比的特征个数；设置为数字n，则对应n个特征\n",
    "    pca=PCA(n_components=n)\n",
    "    # pca=PCA(n_components='mle')\n",
    "    pca.fit(X)\n",
    "    pca_com=pca.components_\n",
    "    ratio = pca.explained_variance_ratio_#各成分方差百分比，各变量的方差贡献率\n",
    "    s=sum(ratio)\n",
    "    print(\"前\"+str(n)+\"个属性解释了数据中\"+str(s)+\"的变化。\")\n",
    "    return pca_com\n",
    "pca_components = Reduction_pca(housing.data,3)"
   ]
  },
  {
   "source": [
    "### 数值规约，以简单随机抽样为例"
   ],
   "cell_type": "markdown",
   "metadata": {}
  },
  {
   "cell_type": "code",
   "execution_count": 87,
   "metadata": {},
   "outputs": [
    {
     "output_type": "execute_result",
     "data": {
      "text/plain": [
       "       AveRooms  AveBedrms  Population\n",
       "9030   6.981132   1.089623      1560.0\n",
       "19236  7.662162   1.114865       847.0\n",
       "7859   4.309353   0.899281       361.0\n",
       "13190  5.154062   1.064426      1187.0\n",
       "10089  5.267760   0.983607      1056.0"
      ],
      "text/html": "<div>\n<style scoped>\n    .dataframe tbody tr th:only-of-type {\n        vertical-align: middle;\n    }\n\n    .dataframe tbody tr th {\n        vertical-align: top;\n    }\n\n    .dataframe thead th {\n        text-align: right;\n    }\n</style>\n<table border=\"1\" class=\"dataframe\">\n  <thead>\n    <tr style=\"text-align: right;\">\n      <th></th>\n      <th>AveRooms</th>\n      <th>AveBedrms</th>\n      <th>Population</th>\n    </tr>\n  </thead>\n  <tbody>\n    <tr>\n      <th>9030</th>\n      <td>6.981132</td>\n      <td>1.089623</td>\n      <td>1560.0</td>\n    </tr>\n    <tr>\n      <th>19236</th>\n      <td>7.662162</td>\n      <td>1.114865</td>\n      <td>847.0</td>\n    </tr>\n    <tr>\n      <th>7859</th>\n      <td>4.309353</td>\n      <td>0.899281</td>\n      <td>361.0</td>\n    </tr>\n    <tr>\n      <th>13190</th>\n      <td>5.154062</td>\n      <td>1.064426</td>\n      <td>1187.0</td>\n    </tr>\n    <tr>\n      <th>10089</th>\n      <td>5.267760</td>\n      <td>0.983607</td>\n      <td>1056.0</td>\n    </tr>\n  </tbody>\n</table>\n</div>"
     },
     "metadata": {},
     "execution_count": 87
    }
   ],
   "source": [
    "#replace-true表示有放回；反之不放回\n",
    "df.sample(n=20)\n",
    "df.sample(frac=0.1)#frac为抽样百分比\n",
    "def Simple_Sample(df,sam_num):\n",
    "    df_sample=df.sample(n=sam_num)\n",
    "    return df_sample\n",
    "df_sample=Simple_Sample(df,5)\n",
    "df_sample"
   ]
  },
  {
   "source": [
    "### 分层抽样"
   ],
   "cell_type": "markdown",
   "metadata": {}
  },
  {
   "cell_type": "code",
   "execution_count": 89,
   "metadata": {},
   "outputs": [],
   "source": [
    "iris=datasets.load_iris()\n",
    "iris_df=pd.DataFrame(iris.data)\n",
    "iris_df.columns = iris.feature_names\n",
    "iris_df['target']=iris.target"
   ]
  },
  {
   "cell_type": "code",
   "execution_count": 95,
   "metadata": {},
   "outputs": [
    {
     "output_type": "execute_result",
     "data": {
      "text/plain": [
       "    sepal length (cm)  sepal width (cm)  petal length (cm)  petal width (cm)  \\\n",
       "13                4.3               3.0                1.1               0.1   \n",
       "5                 5.4               3.9                1.7               0.4   \n",
       "25                5.0               3.0                1.6               0.2   \n",
       "49                5.0               3.3                1.4               0.2   \n",
       "23                5.1               3.3                1.7               0.5   \n",
       "9                 4.9               3.1                1.5               0.1   \n",
       "41                4.5               2.3                1.3               0.3   \n",
       "4                 5.0               3.6                1.4               0.2   \n",
       "32                5.2               4.1                1.5               0.1   \n",
       "33                5.5               4.2                1.4               0.2   \n",
       "96                5.7               2.9                4.2               1.3   \n",
       "65                6.7               3.1                4.4               1.4   \n",
       "76                6.8               2.8                4.8               1.4   \n",
       "84                5.4               3.0                4.5               1.5   \n",
       "80                5.5               2.4                3.8               1.1   \n",
       "52                6.9               3.1                4.9               1.5   \n",
       "77                6.7               3.0                5.0               1.7   \n",
       "55                5.7               2.8                4.5               1.3   \n",
       "59                5.2               2.7                3.9               1.4   \n",
       "99                5.7               2.8                4.1               1.3   \n",
       "\n",
       "    target  \n",
       "13       0  \n",
       "5        0  \n",
       "25       0  \n",
       "49       0  \n",
       "23       0  \n",
       "9        0  \n",
       "41       0  \n",
       "4        0  \n",
       "32       0  \n",
       "33       0  \n",
       "96       1  \n",
       "65       1  \n",
       "76       1  \n",
       "84       1  \n",
       "80       1  \n",
       "52       1  \n",
       "77       1  \n",
       "55       1  \n",
       "59       1  \n",
       "99       1  "
      ],
      "text/html": "<div>\n<style scoped>\n    .dataframe tbody tr th:only-of-type {\n        vertical-align: middle;\n    }\n\n    .dataframe tbody tr th {\n        vertical-align: top;\n    }\n\n    .dataframe thead th {\n        text-align: right;\n    }\n</style>\n<table border=\"1\" class=\"dataframe\">\n  <thead>\n    <tr style=\"text-align: right;\">\n      <th></th>\n      <th>sepal length (cm)</th>\n      <th>sepal width (cm)</th>\n      <th>petal length (cm)</th>\n      <th>petal width (cm)</th>\n      <th>target</th>\n    </tr>\n  </thead>\n  <tbody>\n    <tr>\n      <th>13</th>\n      <td>4.3</td>\n      <td>3.0</td>\n      <td>1.1</td>\n      <td>0.1</td>\n      <td>0</td>\n    </tr>\n    <tr>\n      <th>5</th>\n      <td>5.4</td>\n      <td>3.9</td>\n      <td>1.7</td>\n      <td>0.4</td>\n      <td>0</td>\n    </tr>\n    <tr>\n      <th>25</th>\n      <td>5.0</td>\n      <td>3.0</td>\n      <td>1.6</td>\n      <td>0.2</td>\n      <td>0</td>\n    </tr>\n    <tr>\n      <th>49</th>\n      <td>5.0</td>\n      <td>3.3</td>\n      <td>1.4</td>\n      <td>0.2</td>\n      <td>0</td>\n    </tr>\n    <tr>\n      <th>23</th>\n      <td>5.1</td>\n      <td>3.3</td>\n      <td>1.7</td>\n      <td>0.5</td>\n      <td>0</td>\n    </tr>\n    <tr>\n      <th>9</th>\n      <td>4.9</td>\n      <td>3.1</td>\n      <td>1.5</td>\n      <td>0.1</td>\n      <td>0</td>\n    </tr>\n    <tr>\n      <th>41</th>\n      <td>4.5</td>\n      <td>2.3</td>\n      <td>1.3</td>\n      <td>0.3</td>\n      <td>0</td>\n    </tr>\n    <tr>\n      <th>4</th>\n      <td>5.0</td>\n      <td>3.6</td>\n      <td>1.4</td>\n      <td>0.2</td>\n      <td>0</td>\n    </tr>\n    <tr>\n      <th>32</th>\n      <td>5.2</td>\n      <td>4.1</td>\n      <td>1.5</td>\n      <td>0.1</td>\n      <td>0</td>\n    </tr>\n    <tr>\n      <th>33</th>\n      <td>5.5</td>\n      <td>4.2</td>\n      <td>1.4</td>\n      <td>0.2</td>\n      <td>0</td>\n    </tr>\n    <tr>\n      <th>96</th>\n      <td>5.7</td>\n      <td>2.9</td>\n      <td>4.2</td>\n      <td>1.3</td>\n      <td>1</td>\n    </tr>\n    <tr>\n      <th>65</th>\n      <td>6.7</td>\n      <td>3.1</td>\n      <td>4.4</td>\n      <td>1.4</td>\n      <td>1</td>\n    </tr>\n    <tr>\n      <th>76</th>\n      <td>6.8</td>\n      <td>2.8</td>\n      <td>4.8</td>\n      <td>1.4</td>\n      <td>1</td>\n    </tr>\n    <tr>\n      <th>84</th>\n      <td>5.4</td>\n      <td>3.0</td>\n      <td>4.5</td>\n      <td>1.5</td>\n      <td>1</td>\n    </tr>\n    <tr>\n      <th>80</th>\n      <td>5.5</td>\n      <td>2.4</td>\n      <td>3.8</td>\n      <td>1.1</td>\n      <td>1</td>\n    </tr>\n    <tr>\n      <th>52</th>\n      <td>6.9</td>\n      <td>3.1</td>\n      <td>4.9</td>\n      <td>1.5</td>\n      <td>1</td>\n    </tr>\n    <tr>\n      <th>77</th>\n      <td>6.7</td>\n      <td>3.0</td>\n      <td>5.0</td>\n      <td>1.7</td>\n      <td>1</td>\n    </tr>\n    <tr>\n      <th>55</th>\n      <td>5.7</td>\n      <td>2.8</td>\n      <td>4.5</td>\n      <td>1.3</td>\n      <td>1</td>\n    </tr>\n    <tr>\n      <th>59</th>\n      <td>5.2</td>\n      <td>2.7</td>\n      <td>3.9</td>\n      <td>1.4</td>\n      <td>1</td>\n    </tr>\n    <tr>\n      <th>99</th>\n      <td>5.7</td>\n      <td>2.8</td>\n      <td>4.1</td>\n      <td>1.3</td>\n      <td>1</td>\n    </tr>\n  </tbody>\n</table>\n</div>"
     },
     "metadata": {},
     "execution_count": 95
    }
   ],
   "source": [
    "A=iris_df[iris_df.target==0].sample(frac=0.2)\n",
    "B=iris_df[iris_df.target==1].sample(frac=0.2)\n",
    "df_new_sampled=A.append(B)\n",
    "df_new_sampled"
   ]
  },
  {
   "cell_type": "code",
   "execution_count": 10,
   "metadata": {},
   "outputs": [
    {
     "output_type": "execute_result",
     "data": {
      "text/plain": [
       "sklearn.utils.Bunch"
      ]
     },
     "metadata": {},
     "execution_count": 10
    }
   ],
   "source": [
    "#ames housing dataset\n",
    "from sklearn.datasets import fetch_openml\n",
    "housing = fetch_openml(name=\"house_prices\", as_frame=True)\n",
    "type(housing)"
   ]
  },
  {
   "cell_type": "code",
   "execution_count": null,
   "metadata": {},
   "outputs": [],
   "source": []
  },
  {
   "cell_type": "code",
   "execution_count": 7,
   "metadata": {},
   "outputs": [
    {
     "output_type": "stream",
     "name": "stderr",
     "text": [
      "C:\\ANACONDA3\\envs\\Simi_com\\lib\\site-packages\\sklearn\\utils\\deprecation.py:87: FutureWarning: Function load_boston is deprecated; `load_boston` is deprecated in 1.0 and will be removed in 1.2.\n\n    The Boston housing prices dataset has an ethical problem. You can refer to\n    the documentation of this function for further details.\n\n    The scikit-learn maintainers therefore strongly discourage the use of this\n    dataset unless the purpose of the code is to study and educate about\n    ethical issues in data science and machine learning.\n\n    In this special case, you can fetch the dataset from the original\n    source::\n\n        import pandas as pd\n        import numpy as np\n\n\n        data_url = \"http://lib.stat.cmu.edu/datasets/boston\"\n        raw_df = pd.read_csv(data_url, sep=\"\\s+\", skiprows=22, header=None)\n        data = np.hstack([raw_df.values[::2, :], raw_df.values[1::2, :2]])\n        target = raw_df.values[1::2, 2]\n\n    Alternative datasets include the California housing dataset (i.e.\n    :func:`~sklearn.datasets.fetch_california_housing`) and the Ames housing\n    dataset. You can load the datasets as follows::\n\n        from sklearn.datasets import fetch_california_housing\n        housing = fetch_california_housing()\n\n    for the California housing dataset and::\n\n        from sklearn.datasets import fetch_openml\n        housing = fetch_openml(name=\"house_prices\", as_frame=True)\n\n    for the Ames housing dataset.\n    \n  warnings.warn(msg, category=FutureWarning)\n"
     ]
    },
    {
     "output_type": "execute_result",
     "data": {
      "text/plain": [
       "{'data': array([[6.3200e-03, 1.8000e+01, 2.3100e+00, ..., 1.5300e+01, 3.9690e+02,\n",
       "         4.9800e+00],\n",
       "        [2.7310e-02, 0.0000e+00, 7.0700e+00, ..., 1.7800e+01, 3.9690e+02,\n",
       "         9.1400e+00],\n",
       "        [2.7290e-02, 0.0000e+00, 7.0700e+00, ..., 1.7800e+01, 3.9283e+02,\n",
       "         4.0300e+00],\n",
       "        ...,\n",
       "        [6.0760e-02, 0.0000e+00, 1.1930e+01, ..., 2.1000e+01, 3.9690e+02,\n",
       "         5.6400e+00],\n",
       "        [1.0959e-01, 0.0000e+00, 1.1930e+01, ..., 2.1000e+01, 3.9345e+02,\n",
       "         6.4800e+00],\n",
       "        [4.7410e-02, 0.0000e+00, 1.1930e+01, ..., 2.1000e+01, 3.9690e+02,\n",
       "         7.8800e+00]]),\n",
       " 'target': array([24. , 21.6, 34.7, 33.4, 36.2, 28.7, 22.9, 27.1, 16.5, 18.9, 15. ,\n",
       "        18.9, 21.7, 20.4, 18.2, 19.9, 23.1, 17.5, 20.2, 18.2, 13.6, 19.6,\n",
       "        15.2, 14.5, 15.6, 13.9, 16.6, 14.8, 18.4, 21. , 12.7, 14.5, 13.2,\n",
       "        13.1, 13.5, 18.9, 20. , 21. , 24.7, 30.8, 34.9, 26.6, 25.3, 24.7,\n",
       "        21.2, 19.3, 20. , 16.6, 14.4, 19.4, 19.7, 20.5, 25. , 23.4, 18.9,\n",
       "        35.4, 24.7, 31.6, 23.3, 19.6, 18.7, 16. , 22.2, 25. , 33. , 23.5,\n",
       "        19.4, 22. , 17.4, 20.9, 24.2, 21.7, 22.8, 23.4, 24.1, 21.4, 20. ,\n",
       "        20.8, 21.2, 20.3, 28. , 23.9, 24.8, 22.9, 23.9, 26.6, 22.5, 22.2,\n",
       "        23.6, 28.7, 22.6, 22. , 22.9, 25. , 20.6, 28.4, 21.4, 38.7, 43.8,\n",
       "        33.2, 27.5, 26.5, 18.6, 19.3, 20.1, 19.5, 19.5, 20.4, 19.8, 19.4,\n",
       "        21.7, 22.8, 18.8, 18.7, 18.5, 18.3, 21.2, 19.2, 20.4, 19.3, 22. ,\n",
       "        20.3, 20.5, 17.3, 18.8, 21.4, 15.7, 16.2, 18. , 14.3, 19.2, 19.6,\n",
       "        23. , 18.4, 15.6, 18.1, 17.4, 17.1, 13.3, 17.8, 14. , 14.4, 13.4,\n",
       "        15.6, 11.8, 13.8, 15.6, 14.6, 17.8, 15.4, 21.5, 19.6, 15.3, 19.4,\n",
       "        17. , 15.6, 13.1, 41.3, 24.3, 23.3, 27. , 50. , 50. , 50. , 22.7,\n",
       "        25. , 50. , 23.8, 23.8, 22.3, 17.4, 19.1, 23.1, 23.6, 22.6, 29.4,\n",
       "        23.2, 24.6, 29.9, 37.2, 39.8, 36.2, 37.9, 32.5, 26.4, 29.6, 50. ,\n",
       "        32. , 29.8, 34.9, 37. , 30.5, 36.4, 31.1, 29.1, 50. , 33.3, 30.3,\n",
       "        34.6, 34.9, 32.9, 24.1, 42.3, 48.5, 50. , 22.6, 24.4, 22.5, 24.4,\n",
       "        20. , 21.7, 19.3, 22.4, 28.1, 23.7, 25. , 23.3, 28.7, 21.5, 23. ,\n",
       "        26.7, 21.7, 27.5, 30.1, 44.8, 50. , 37.6, 31.6, 46.7, 31.5, 24.3,\n",
       "        31.7, 41.7, 48.3, 29. , 24. , 25.1, 31.5, 23.7, 23.3, 22. , 20.1,\n",
       "        22.2, 23.7, 17.6, 18.5, 24.3, 20.5, 24.5, 26.2, 24.4, 24.8, 29.6,\n",
       "        42.8, 21.9, 20.9, 44. , 50. , 36. , 30.1, 33.8, 43.1, 48.8, 31. ,\n",
       "        36.5, 22.8, 30.7, 50. , 43.5, 20.7, 21.1, 25.2, 24.4, 35.2, 32.4,\n",
       "        32. , 33.2, 33.1, 29.1, 35.1, 45.4, 35.4, 46. , 50. , 32.2, 22. ,\n",
       "        20.1, 23.2, 22.3, 24.8, 28.5, 37.3, 27.9, 23.9, 21.7, 28.6, 27.1,\n",
       "        20.3, 22.5, 29. , 24.8, 22. , 26.4, 33.1, 36.1, 28.4, 33.4, 28.2,\n",
       "        22.8, 20.3, 16.1, 22.1, 19.4, 21.6, 23.8, 16.2, 17.8, 19.8, 23.1,\n",
       "        21. , 23.8, 23.1, 20.4, 18.5, 25. , 24.6, 23. , 22.2, 19.3, 22.6,\n",
       "        19.8, 17.1, 19.4, 22.2, 20.7, 21.1, 19.5, 18.5, 20.6, 19. , 18.7,\n",
       "        32.7, 16.5, 23.9, 31.2, 17.5, 17.2, 23.1, 24.5, 26.6, 22.9, 24.1,\n",
       "        18.6, 30.1, 18.2, 20.6, 17.8, 21.7, 22.7, 22.6, 25. , 19.9, 20.8,\n",
       "        16.8, 21.9, 27.5, 21.9, 23.1, 50. , 50. , 50. , 50. , 50. , 13.8,\n",
       "        13.8, 15. , 13.9, 13.3, 13.1, 10.2, 10.4, 10.9, 11.3, 12.3,  8.8,\n",
       "         7.2, 10.5,  7.4, 10.2, 11.5, 15.1, 23.2,  9.7, 13.8, 12.7, 13.1,\n",
       "        12.5,  8.5,  5. ,  6.3,  5.6,  7.2, 12.1,  8.3,  8.5,  5. , 11.9,\n",
       "        27.9, 17.2, 27.5, 15. , 17.2, 17.9, 16.3,  7. ,  7.2,  7.5, 10.4,\n",
       "         8.8,  8.4, 16.7, 14.2, 20.8, 13.4, 11.7,  8.3, 10.2, 10.9, 11. ,\n",
       "         9.5, 14.5, 14.1, 16.1, 14.3, 11.7, 13.4,  9.6,  8.7,  8.4, 12.8,\n",
       "        10.5, 17.1, 18.4, 15.4, 10.8, 11.8, 14.9, 12.6, 14.1, 13. , 13.4,\n",
       "        15.2, 16.1, 17.8, 14.9, 14.1, 12.7, 13.5, 14.9, 20. , 16.4, 17.7,\n",
       "        19.5, 20.2, 21.4, 19.9, 19. , 19.1, 19.1, 20.1, 19.9, 19.6, 23.2,\n",
       "        29.8, 13.8, 13.3, 16.7, 12. , 14.6, 21.4, 23. , 23.7, 25. , 21.8,\n",
       "        20.6, 21.2, 19.1, 20.6, 15.2,  7. ,  8.1, 13.6, 20.1, 21.8, 24.5,\n",
       "        23.1, 19.7, 18.3, 21.2, 17.5, 16.8, 22.4, 20.6, 23.9, 22. , 11.9]),\n",
       " 'feature_names': array(['CRIM', 'ZN', 'INDUS', 'CHAS', 'NOX', 'RM', 'AGE', 'DIS', 'RAD',\n",
       "        'TAX', 'PTRATIO', 'B', 'LSTAT'], dtype='<U7'),\n",
       " 'DESCR': \".. _boston_dataset:\\n\\nBoston house prices dataset\\n---------------------------\\n\\n**Data Set Characteristics:**  \\n\\n    :Number of Instances: 506 \\n\\n    :Number of Attributes: 13 numeric/categorical predictive. Median Value (attribute 14) is usually the target.\\n\\n    :Attribute Information (in order):\\n        - CRIM     per capita crime rate by town\\n        - ZN       proportion of residential land zoned for lots over 25,000 sq.ft.\\n        - INDUS    proportion of non-retail business acres per town\\n        - CHAS     Charles River dummy variable (= 1 if tract bounds river; 0 otherwise)\\n        - NOX      nitric oxides concentration (parts per 10 million)\\n        - RM       average number of rooms per dwelling\\n        - AGE      proportion of owner-occupied units built prior to 1940\\n        - DIS      weighted distances to five Boston employment centres\\n        - RAD      index of accessibility to radial highways\\n        - TAX      full-value property-tax rate per $10,000\\n        - PTRATIO  pupil-teacher ratio by town\\n        - B        1000(Bk - 0.63)^2 where Bk is the proportion of black people by town\\n        - LSTAT    % lower status of the population\\n        - MEDV     Median value of owner-occupied homes in $1000's\\n\\n    :Missing Attribute Values: None\\n\\n    :Creator: Harrison, D. and Rubinfeld, D.L.\\n\\nThis is a copy of UCI ML housing dataset.\\nhttps://archive.ics.uci.edu/ml/machine-learning-databases/housing/\\n\\n\\nThis dataset was taken from the StatLib library which is maintained at Carnegie Mellon University.\\n\\nThe Boston house-price data of Harrison, D. and Rubinfeld, D.L. 'Hedonic\\nprices and the demand for clean air', J. Environ. Economics & Management,\\nvol.5, 81-102, 1978.   Used in Belsley, Kuh & Welsch, 'Regression diagnostics\\n...', Wiley, 1980.   N.B. Various transformations are used in the table on\\npages 244-261 of the latter.\\n\\nThe Boston house-price data has been used in many machine learning papers that address regression\\nproblems.   \\n     \\n.. topic:: References\\n\\n   - Belsley, Kuh & Welsch, 'Regression diagnostics: Identifying Influential Data and Sources of Collinearity', Wiley, 1980. 244-261.\\n   - Quinlan,R. (1993). Combining Instance-Based and Model-Based Learning. In Proceedings on the Tenth International Conference of Machine Learning, 236-243, University of Massachusetts, Amherst. Morgan Kaufmann.\\n\",\n",
       " 'filename': 'boston_house_prices.csv',\n",
       " 'data_module': 'sklearn.datasets.data'}"
      ]
     },
     "metadata": {},
     "execution_count": 7
    }
   ],
   "source": [
    "boston = datasets.load_boston()\n",
    "boston"
   ]
  },
  {
   "cell_type": "code",
   "execution_count": 13,
   "metadata": {},
   "outputs": [
    {
     "output_type": "execute_result",
     "data": {
      "text/plain": [
       "sklearn.utils.Bunch"
      ]
     },
     "metadata": {},
     "execution_count": 13
    }
   ],
   "source": [
    "type(boston)\n",
    "# boston.data.shape\n"
   ]
  },
  {
   "cell_type": "code",
   "execution_count": null,
   "metadata": {},
   "outputs": [],
   "source": [
    "boston.feature_names"
   ]
  },
  {
   "cell_type": "code",
   "execution_count": null,
   "metadata": {},
   "outputs": [],
   "source": [
    "X_train = np.array([[ 1., -1.,  2.]])\n",
    "type(X_train))"
   ]
  },
  {
   "cell_type": "code",
   "execution_count": null,
   "metadata": {},
   "outputs": [],
   "source": [
    "from sklearn import preprocessing\n",
    "import numpy as np\n",
    "X_train = np.array([[ 1., -1.,  2.],\n",
    "                    [ 2.,  0.,  0.],\n",
    "                    [ 0.,  1., -1.]])\n"
   ]
  },
  {
   "cell_type": "code",
   "execution_count": null,
   "metadata": {},
   "outputs": [],
   "source": [
    "X_scaled = preprocessing.scale(X_train)\n",
    "X_scaled\n"
   ]
  },
  {
   "cell_type": "code",
   "execution_count": null,
   "metadata": {},
   "outputs": [],
   "source": [
    "array([[ 0.  ..., -1.22...,  1.33...],\n",
    "       [ 1.22...,  0.  ..., -0.26...],\n",
    "       [-1.22...,  1.22..., -1.06...]])\n",
    "\n",
    "经过缩放后的数据具有零均值以及标准方差:\n",
    "\n",
    "```py\n",
    ">>> X_scaled.mean(axis=0)\n",
    "array([ 0.,  0.,  0.])\n",
    "\n",
    ">>> X_scaled.std(axis=0)\n",
    "array([ 1.,  1.,  1.])\n"
   ]
  }
 ]
}