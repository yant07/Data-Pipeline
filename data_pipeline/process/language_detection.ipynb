{
 "metadata": {
  "language_info": {
   "codemirror_mode": {
    "name": "ipython",
    "version": 3
   },
   "file_extension": ".py",
   "mimetype": "text/x-python",
   "name": "python",
   "nbconvert_exporter": "python",
   "pygments_lexer": "ipython3",
   "version": "3.7.13-final"
  },
  "orig_nbformat": 2,
  "kernelspec": {
   "name": "python3",
   "display_name": "Python 3 (ipykernel)",
   "language": "python"
  }
 },
 "nbformat": 4,
 "nbformat_minor": 2,
 "cells": [
  {
   "cell_type": "code",
   "execution_count": 3,
   "metadata": {},
   "outputs": [
    {
     "output_type": "stream",
     "name": "stdout",
     "text": [
      "c:\\Users\\zhouy217\\OneDrive - \\Documents\\datapipline_outline\\Data-Pipeline\n"
     ]
    }
   ],
   "source": [
    "import numpy as np # linear algebra\n",
    "import pandas as pd # data processing, CSV file I/O (e.g. pd.read_csv)\n",
    "\n",
    "# Input data files are available in the read-only \"../input/\" directory\n",
    "# For example, running this (by clicking run or pressing Shift+Enter) will list all files under the input directory\n",
    "\n",
    "import os\n",
    "os.getcwd()\n",
    "print(os.getcwd())"
   ]
  },
  {
   "cell_type": "code",
   "execution_count": 1,
   "metadata": {},
   "outputs": [
    {
     "output_type": "execute_result",
     "data": {
      "text/plain": [
       "'en'"
      ]
     },
     "metadata": {},
     "execution_count": 1
    }
   ],
   "source": [
    "from langdetect import detect\n",
    "language_detect_outcome=[]\n",
    "for sen in sentences:\n",
    "    sentence_language=detect(sen)\n",
    "    language_detect_outcome.append(sentence_language)\n"
   ]
  },
  {
   "cell_type": "code",
   "execution_count": 7,
   "metadata": {},
   "outputs": [
    {
     "output_type": "execute_result",
     "data": {
      "text/plain": [
       "'en'"
      ]
     },
     "metadata": {},
     "execution_count": 7
    }
   ],
   "source": [
    "detect(\"War doesn't show who's right, just who's left.\")"
   ]
  },
  {
   "cell_type": "code",
   "execution_count": 2,
   "metadata": {},
   "outputs": [
    {
     "output_type": "execute_result",
     "data": {
      "text/plain": [
       "'de'"
      ]
     },
     "metadata": {},
     "execution_count": 2
    }
   ],
   "source": [
    "detect(\"Ein, zwei, drei, vier\")"
   ]
  },
  {
   "cell_type": "code",
   "execution_count": 3,
   "metadata": {},
   "outputs": [
    {
     "output_type": "execute_result",
     "data": {
      "text/plain": [
       "'ko'"
      ]
     },
     "metadata": {},
     "execution_count": 3
    }
   ],
   "source": [
    "detect(\"今天天气不错\")"
   ]
  },
  {
   "cell_type": "code",
   "execution_count": 4,
   "metadata": {},
   "outputs": [
    {
     "output_type": "execute_result",
     "data": {
      "text/plain": [
       "'zh-cn'"
      ]
     },
     "metadata": {},
     "execution_count": 4
    }
   ],
   "source": [
    "detect(\"是面向极客的计算机科学门户\")"
   ]
  },
  {
   "cell_type": "code",
   "execution_count": 6,
   "metadata": {},
   "outputs": [
    {
     "output_type": "execute_result",
     "data": {
      "text/plain": [
       "'ja'"
      ]
     },
     "metadata": {},
     "execution_count": 6
    }
   ],
   "source": [
    "detect(\"にほんご\")"
   ]
  },
  {
   "cell_type": "code",
   "execution_count": 7,
   "metadata": {},
   "outputs": [
    {
     "output_type": "stream",
     "name": "stdout",
     "text": [
      "アップルがイギリスの新興企業を１０億ドルで購入を検討\nアップル NOUN nsubj\nが ADP case\nイギリス PROPN nmod\nの ADP case\n新興 NOUN compound\n企業 NOUN obj\nを ADP case\n１０億 NUM compound\nドル NOUN obl\nで ADP case\n購入 NOUN obj\nを ADP case\n検討 NOUN ROOT\n"
     ]
    }
   ],
   "source": [
    "import spacy\n",
    "from spacy.lang.ja.examples import sentences \n",
    "\n",
    "nlp = spacy.load(\"ja_core_news_sm\")\n",
    "doc = nlp(sentences[0])\n",
    "print(doc.text)\n",
    "for token in doc:\n",
    "    print(token.text, token.pos_, token.dep_)"
   ]
  },
  {
   "cell_type": "code",
   "execution_count": 6,
   "metadata": {},
   "outputs": [
    {
     "output_type": "execute_result",
     "data": {
      "text/plain": [
       "['アップルがイギリスの新興企業を１０億ドルで購入を検討',\n",
       " '自動運転車の損害賠償責任、自動車メーカーに一定の負担を求める',\n",
       " '歩道を走る自動配達ロボ、サンフランシスコ市が走行禁止を検討',\n",
       " 'ロンドンはイギリスの大都市です。']"
      ]
     },
     "metadata": {},
     "execution_count": 6
    }
   ],
   "source": [
    "sentences"
   ]
  },
  {
   "cell_type": "code",
   "execution_count": 11,
   "metadata": {},
   "outputs": [
    {
     "output_type": "stream",
     "name": "stdout",
     "text": [
      "アップル ORG\nイギリス GPE\n１０億ドル MONEY\n"
     ]
    }
   ],
   "source": [
    "doc=nlp(sentences[0])\n",
    "for word in doc.ents:\n",
    "    print(word.text,word.label_)\n"
   ]
  },
  {
   "cell_type": "code",
   "execution_count": null,
   "metadata": {},
   "outputs": [],
   "source": []
  }
 ]
}
