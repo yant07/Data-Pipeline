{
 "metadata": {
  "language_info": {
   "codemirror_mode": {
    "name": "ipython",
    "version": 3
   },
   "file_extension": ".py",
   "mimetype": "text/x-python",
   "name": "python",
   "nbconvert_exporter": "python",
   "pygments_lexer": "ipython3",
   "version": "3.7.13-final"
  },
  "orig_nbformat": 2,
  "kernelspec": {
   "name": "python3",
   "display_name": "Python 3.7.13 64-bit ('ja_nlp_python37': conda)",
   "metadata": {
    "interpreter": {
     "hash": "69b51278c896c302cd20549358ba584416498d33e69d1966a44dcb7763188691"
    }
   }
  }
 },
 "nbformat": 4,
 "nbformat_minor": 2,
 "cells": [
  {
   "cell_type": "code",
   "execution_count": 1,
   "metadata": {},
   "outputs": [
    {
     "output_type": "stream",
     "name": "stdout",
     "text": [
      "c:\\Users\\zhouy217\\OneDrive - Pfizer\\Documents\\data_pipeline\n"
     ]
    }
   ],
   "source": [
    "import os\n",
    "print(os.getcwd())"
   ]
  },
  {
   "cell_type": "code",
   "execution_count": 3,
   "metadata": {},
   "outputs": [
    {
     "output_type": "execute_result",
     "data": {
      "text/plain": [
       "                                            sentence\n",
       "0  The link to the show is http://t.co/4ftYom0i I...\n",
       "1  Best of all, NLTK is a free, open source, comm...\n",
       "2  NLTK has been called “a wonderful tool for tea..."
      ],
      "text/html": "<div>\n<style scoped>\n    .dataframe tbody tr th:only-of-type {\n        vertical-align: middle;\n    }\n\n    .dataframe tbody tr th {\n        vertical-align: top;\n    }\n\n    .dataframe thead th {\n        text-align: right;\n    }\n</style>\n<table border=\"1\" class=\"dataframe\">\n  <thead>\n    <tr style=\"text-align: right;\">\n      <th></th>\n      <th>sentence</th>\n    </tr>\n  </thead>\n  <tbody>\n    <tr>\n      <th>0</th>\n      <td>The link to the show is http://t.co/4ftYom0i I...</td>\n    </tr>\n    <tr>\n      <th>1</th>\n      <td>Best of all, NLTK is a free, open source, comm...</td>\n    </tr>\n    <tr>\n      <th>2</th>\n      <td>NLTK has been called “a wonderful tool for tea...</td>\n    </tr>\n  </tbody>\n</table>\n</div>"
     },
     "metadata": {},
     "execution_count": 3
    }
   ],
   "source": [
    "from text_mining_preprocess import read_file_as_dataframe\n",
    "en_df=read_file_as_dataframe(\"c:\\\\Users\\\\zhouy217\\\\OneDrive - Pfizer\\\\Documents\\\\data_pipeline\\\\en_test.xlsx\",col_list=[0],name_list=['sentence'])\n",
    "en_df.head(3)"
   ]
  },
  {
   "cell_type": "code",
   "execution_count": 4,
   "metadata": {},
   "outputs": [
    {
     "output_type": "execute_result",
     "data": {
      "text/plain": [
       "[\"The link to the show is http://t.co/4ftYom0i It's awesome you'll luv it #HadFun #Enjoyed BFN GN\",\n",
       " 'Best of all, NLTK is a free, open source, community-driven project.',\n",
       " 'NLTK has been called “a wonderful tool for teaching, and working in, computational linguistics using Python,” and “an amazing library to play with natural language.”']"
      ]
     },
     "metadata": {},
     "execution_count": 4
    }
   ],
   "source": [
    "from text_mining_preprocess import TextMiningPreprocess\n",
    "en_text_mining=TextMiningPreprocess(en_df)\n",
    "en_SentenceList=en_text_mining.en_create_SentenceList()\n",
    "en_SentenceList"
   ]
  },
  {
   "cell_type": "code",
   "execution_count": 5,
   "metadata": {},
   "outputs": [
    {
     "output_type": "execute_result",
     "data": {
      "text/plain": [
       "[['link', 'show', 'awesome', 'luv', 'fun', 'enjoyed', 'bin', 'gn'],\n",
       " ['best',\n",
       "  'all,',\n",
       "  'lt',\n",
       "  'free,',\n",
       "  'open',\n",
       "  'source,',\n",
       "  'community-driven',\n",
       "  'project.'],\n",
       " ['lt',\n",
       "  'called',\n",
       "  '“a',\n",
       "  'wonderful',\n",
       "  'tool',\n",
       "  'teaching,',\n",
       "  'working',\n",
       "  'in,',\n",
       "  'computational',\n",
       "  'linguistics',\n",
       "  'using',\n",
       "  'python,”',\n",
       "  '“an',\n",
       "  'amazing',\n",
       "  'library',\n",
       "  'play',\n",
       "  'natural',\n",
       "  'language.”']]"
      ]
     },
     "metadata": {},
     "execution_count": 5
    }
   ],
   "source": [
    "from text_mining_preprocess import TextMiningPreprocess\n",
    "en_WordList_in_SentenceList=en_text_mining.english_text_cleaning()\n",
    "en_WordList_in_SentenceList"
   ]
  },
  {
   "cell_type": "code",
   "execution_count": 6,
   "metadata": {},
   "outputs": [
    {
     "output_type": "execute_result",
     "data": {
      "text/plain": [
       "                                            sentence\n",
       "0  疾病早期常表现为乳房肿块、乳头溢液、腋窝淋巴结肿大等症状，晚期可因癌细胞发生远处转移，出现多...\n",
       "1                               宫颈癌和乳腺癌并称女性两大“隐性杀手”。\n",
       "2  乳腺癌常被称为“粉红杀手”，其发病率位居女性恶性肿瘤的首位，男性乳腺癌较为少见。随着医疗水平..."
      ],
      "text/html": "<div>\n<style scoped>\n    .dataframe tbody tr th:only-of-type {\n        vertical-align: middle;\n    }\n\n    .dataframe tbody tr th {\n        vertical-align: top;\n    }\n\n    .dataframe thead th {\n        text-align: right;\n    }\n</style>\n<table border=\"1\" class=\"dataframe\">\n  <thead>\n    <tr style=\"text-align: right;\">\n      <th></th>\n      <th>sentence</th>\n    </tr>\n  </thead>\n  <tbody>\n    <tr>\n      <th>0</th>\n      <td>疾病早期常表现为乳房肿块、乳头溢液、腋窝淋巴结肿大等症状，晚期可因癌细胞发生远处转移，出现多...</td>\n    </tr>\n    <tr>\n      <th>1</th>\n      <td>宫颈癌和乳腺癌并称女性两大“隐性杀手”。</td>\n    </tr>\n    <tr>\n      <th>2</th>\n      <td>乳腺癌常被称为“粉红杀手”，其发病率位居女性恶性肿瘤的首位，男性乳腺癌较为少见。随着医疗水平...</td>\n    </tr>\n  </tbody>\n</table>\n</div>"
     },
     "metadata": {},
     "execution_count": 6
    }
   ],
   "source": [
    "from text_mining_preprocess import read_file_as_dataframe\n",
    "ch_df=read_file_as_dataframe(\"c:\\\\Users\\\\zhouy217\\\\OneDrive - Pfizer\\\\Documents\\\\data_pipeline\\\\ch_test.xlsx\",col_list=[0],name_list=['sentence'])\n",
    "ch_df.head(3)"
   ]
  },
  {
   "cell_type": "code",
   "execution_count": 7,
   "metadata": {},
   "outputs": [
    {
     "output_type": "execute_result",
     "data": {
      "text/plain": [
       "['疾病早期常表现为乳房肿块、乳头溢液、腋窝淋巴结肿大等症状，晚期可因癌细胞发生远处转移，出现多器官病变，直接威胁患者的生命。',\n",
       " '宫颈癌和乳腺癌并称女性两大“隐性杀手”。',\n",
       " '乳腺癌常被称为“粉红杀手”，其发病率位居女性恶性肿瘤的首位，男性乳腺癌较为少见。随着医疗水平的提高，乳腺癌已成为疗效最佳的实体肿瘤之一。',\n",
       " '结核病是由结核分枝杆菌引起的慢性传染病，可侵及许多脏器，以肺部结核感染最为常见。',\n",
       " '排菌者为其重要的传染源。人体感染结核菌后不一定发病，当抵抗力降低或细胞介导的变态反应增高时，才可能引起临床发病。若能及时诊断，并予合理治疗，大多可获临床痊愈。']"
      ]
     },
     "metadata": {},
     "execution_count": 7
    }
   ],
   "source": [
    "from text_mining_preprocess import TextMiningPreprocess\n",
    "ch_text_mining=TextMiningPreprocess(ch_df)\n",
    "ch_SentenceList=ch_text_mining.ch_create_SentenceList()\n",
    "ch_SentenceList"
   ]
  },
  {
   "cell_type": "code",
   "execution_count": 9,
   "metadata": {},
   "outputs": [
    {
     "output_type": "stream",
     "name": "stderr",
     "text": [
      "Building prefix dict from the default dictionary ...\n",
      "Dumping model to file cache C:\\Users\\zhouy217\\AppData\\Local\\Temp\\1\\jieba.cache\n",
      "Loading model cost 1.702 seconds.\n",
      "Prefix dict has been built successfully.\n"
     ]
    },
    {
     "output_type": "execute_result",
     "data": {
      "text/plain": [
       "[['疾病',\n",
       "  '早期',\n",
       "  '常',\n",
       "  '表现',\n",
       "  '乳房',\n",
       "  '肿块',\n",
       "  '乳头',\n",
       "  '溢液',\n",
       "  '腋窝',\n",
       "  '淋巴结',\n",
       "  '肿大',\n",
       "  '症状',\n",
       "  '晚期',\n",
       "  '癌细胞',\n",
       "  '发生',\n",
       "  '远处',\n",
       "  '转移',\n",
       "  '出现',\n",
       "  '器官',\n",
       "  '病变',\n",
       "  '直接',\n",
       "  '威胁',\n",
       "  '患',\n",
       "  '生命'],\n",
       " ['宫颈癌', '乳腺癌', '称', '女性', '两大', '隐性', '杀手'],\n",
       " ['乳腺癌',\n",
       "  '常称',\n",
       "  '粉红',\n",
       "  '杀手',\n",
       "  '发病率',\n",
       "  '位居',\n",
       "  '女性',\n",
       "  '恶性肿瘤',\n",
       "  '首位',\n",
       "  '男性',\n",
       "  '乳腺癌',\n",
       "  '少见',\n",
       "  '医疗',\n",
       "  '水平',\n",
       "  '提高',\n",
       "  '乳腺癌',\n",
       "  '已成',\n",
       "  '疗效',\n",
       "  '最佳',\n",
       "  '实体肿瘤'],\n",
       " ['结核病',\n",
       "  '结核',\n",
       "  '分枝杆菌',\n",
       "  '引',\n",
       "  '慢性',\n",
       "  '传染病',\n",
       "  '侵许',\n",
       "  '脏器',\n",
       "  '肺部',\n",
       "  '结核',\n",
       "  '感染',\n",
       "  '最',\n",
       "  '常见'],\n",
       " ['排菌重',\n",
       "  '传染源',\n",
       "  '人体',\n",
       "  '感染',\n",
       "  '结核菌',\n",
       "  '后',\n",
       "  '不定',\n",
       "  '发病',\n",
       "  '抵抗力',\n",
       "  '降低',\n",
       "  '细胞',\n",
       "  '介导',\n",
       "  '变态反应',\n",
       "  '增高',\n",
       "  '时才',\n",
       "  '引床',\n",
       "  '发病',\n",
       "  '时',\n",
       "  '诊断',\n",
       "  '予',\n",
       "  '合理',\n",
       "  '治疗',\n",
       "  '大',\n",
       "  '获床',\n",
       "  '痊愈']]"
      ]
     },
     "metadata": {},
     "execution_count": 9
    }
   ],
   "source": [
    "from text_mining_preprocess import TextMiningPreprocess\n",
    "ch_WordList_in_SentenceList=ch_text_mining.chinese_text_cleaning()\n",
    "ch_WordList_in_SentenceList"
   ]
  },
  {
   "cell_type": "code",
   "execution_count": 10,
   "metadata": {},
   "outputs": [
    {
     "output_type": "execute_result",
     "data": {
      "text/plain": [
       "         sentence\n",
       "0  もっとベタニスベオーバを学ぶ\n",
       "1            特になし\n",
       "2    他剤理解しTOV継続訴求"
      ],
      "text/html": "<div>\n<style scoped>\n    .dataframe tbody tr th:only-of-type {\n        vertical-align: middle;\n    }\n\n    .dataframe tbody tr th {\n        vertical-align: top;\n    }\n\n    .dataframe thead th {\n        text-align: right;\n    }\n</style>\n<table border=\"1\" class=\"dataframe\">\n  <thead>\n    <tr style=\"text-align: right;\">\n      <th></th>\n      <th>sentence</th>\n    </tr>\n  </thead>\n  <tbody>\n    <tr>\n      <th>0</th>\n      <td>もっとベタニスベオーバを学ぶ</td>\n    </tr>\n    <tr>\n      <th>1</th>\n      <td>特になし</td>\n    </tr>\n    <tr>\n      <th>2</th>\n      <td>他剤理解しTOV継続訴求</td>\n    </tr>\n  </tbody>\n</table>\n</div>"
     },
     "metadata": {},
     "execution_count": 10
    }
   ],
   "source": [
    "from text_mining_preprocess import read_file_as_dataframe\n",
    "ja_df=read_file_as_dataframe(\"c:\\\\Users\\\\zhouy217\\\\OneDrive - Pfizer\\\\Documents\\\\data_pipeline\\\\ja_slide9_data.xlsx\",col_list=[15],name_list=['sentence'])\n",
    "ja_df.head(3)"
   ]
  },
  {
   "cell_type": "code",
   "execution_count": 11,
   "metadata": {},
   "outputs": [
    {
     "output_type": "execute_result",
     "data": {
      "text/plain": [
       "[['ベタニスベオ', '学ぶ'],\n",
       " ['なし'],\n",
       " ['理解', '継続', '訴求'],\n",
       " ['不安', '無い'],\n",
       " ['イン',\n",
       "  'サイト',\n",
       "  '深堀',\n",
       "  '重要',\n",
       "  'こと',\n",
       "  '着任',\n",
       "  '重要',\n",
       "  '思い',\n",
       "  '指導',\n",
       "  'いる',\n",
       "  '現場',\n",
       "  '出来',\n",
       "  'いる',\n",
       "  '言え',\n",
       "  '出来',\n",
       "  'いる',\n",
       "  '今回',\n",
       "  'イン',\n",
       "  'サイト',\n",
       "  '深堀',\n",
       "  '重要',\n",
       "  '伝わっ',\n",
       "  '感じる',\n",
       "  'これ',\n",
       "  '現場',\n",
       "  '使う',\n",
       "  'トレ',\n",
       "  'ニング',\n",
       "  '必要',\n",
       "  '感じ',\n",
       "  'いる']]"
      ]
     },
     "metadata": {},
     "execution_count": 11
    }
   ],
   "source": [
    "from text_mining_preprocess import TextMiningPreprocess\n",
    "japan_text_mining=TextMiningPreprocess(ja_df)\n",
    "word_list_by_sentence=japan_text_mining.token_japanese_sentence()\n",
    "word_list_by_sentence[0:5]"
   ]
  },
  {
   "cell_type": "code",
   "execution_count": null,
   "metadata": {},
   "outputs": [],
   "source": []
  }
 ]
}